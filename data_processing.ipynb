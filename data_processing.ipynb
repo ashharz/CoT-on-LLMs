{
 "cells": [
  {
   "cell_type": "code",
   "execution_count": 3,
   "id": "27718deb-a364-4ca1-87f0-b11447ff2880",
   "metadata": {},
   "outputs": [],
   "source": [
    "import numpy as np\n",
    "import pandas as pd\n",
    "import matplotlib.pyplot as plt"
   ]
  },
  {
   "cell_type": "markdown",
   "id": "5f36086b-4856-4ed5-a2d7-53bfa6601e7d",
   "metadata": {},
   "source": [
    "# Data Processing of GSM8k"
   ]
  },
  {
   "cell_type": "code",
   "execution_count": 2,
   "id": "65f1e6c6-79d7-4487-9d03-c988a2a6bad3",
   "metadata": {
    "jupyter": {
     "source_hidden": true
    },
    "tags": []
   },
   "outputs": [],
   "source": [
    "COT_FULL_prompt = \"\"\"Q: There are 15 trees in the grove. Grove workers will plant trees in the grove today. After they are done, there\n",
    "will be 21 trees. How many trees did the grove workers plant today?\n",
    "A: There are 15 trees originally. Then there were 21 trees after some more were planted. So there must have\n",
    "been 21 - 15 = 6. The answer is 6.\n",
    "Q: If there are 3 cars in the parking lot and 2 more cars arrive, how many cars are in the parking lot?\n",
    "A: There are originally 3 cars. 2 more cars arrive. 3 + 2 = 5. The answer is 5.\n",
    "Q: Leah had 32 chocolates and her sister had 42. If they ate 35, how many pieces do they have left in total?\n",
    "A: Originally, Leah had 32 chocolates. Her sister had 42. So in total they had 32 + 42 = 74. After eating 35, they\n",
    "had 74 - 35 = 39. The answer is 39.\n",
    "Q: Jason had 20 lollipops. He gave Denny some lollipops. Now Jason has 12 lollipops. How many lollipops did\n",
    "Jason give to Denny?\n",
    "A: Jason started with 20 lollipops. Then he had 12 after giving some to Denny. So he gave Denny 20 - 12 = 8.\n",
    "The answer is 8.\n",
    "Q: Shawn has five toys. For Christmas, he got two toys each from his mom and dad. How many toys does he\n",
    "have now?\n",
    "A: Shawn started with 5 toys. If he got 2 toys each from his mom and dad, then that is 4 more toys. 5 + 4 = 9.\n",
    "The answer is 9.\n",
    "Q: There were nine computers in the server room. Five more computers were installed each day, from monday\n",
    "to thursday. How many computers are now in the server room?\n",
    "A: There were originally 9 computers. For each of 4 days, 5 more computers were added. So 5 * 4 = 20\n",
    "computers were added. 9 + 20 is 29. The answer is 29.\n",
    "Q: Michael had 58 golf balls. On tuesday, he lost 23 golf balls. On wednesday, he lost 2 more. How many golf\n",
    "balls did he have at the end of wednesday?\n",
    "A: Michael started with 58 golf balls. After losing 23 on tuesday, he had 58 - 23 = 35. After losing 2 more, he\n",
    "had 35 - 2 = 33 golf balls. The answer is 33.\n",
    "Q: Olivia has $23. She bought five bagels for $3 each. How much money does she have left?\n",
    "A: Olivia had 23 dollars. 5 bagels for 3 dollars each will be 5 x 3 = 15 dollars. So she has 23 - 15 dollars left. 23\n",
    "- 15 is 8. The answer is 8.\"\"\"\n",
    "\n",
    "Standard_FULL_prompt = \"\"\"Q: There are 15 trees in the grove. Grove workers will plant trees in the grove today. After they are done, there\n",
    "will be 21 trees. How many trees did the grove workers plant today?\n",
    "A: The answer is 6.\n",
    "Q: If there are 3 cars in the parking lot and 2 more cars arrive, how many cars are in the parking lot?\n",
    "A: The answer is 5.\n",
    "Q: Leah had 32 chocolates and her sister had 42. If they ate 35, how many pieces do they have left in total?\n",
    "A: The answer is 39.\n",
    "Q: Jason had 20 lollipops. He gave Denny some lollipops. Now Jason has 12 lollipops. How many lollipops did\n",
    "Jason give to Denny?\n",
    "A: The answer is 8.\n",
    "Q: Shawn has five toys. For Christmas, he got two toys each from his mom and dad. How many toys does he\n",
    "have now?\n",
    "A: The answer is 9.\n",
    "Q: There were nine computers in the server room. Five more computers were installed each day, from monday\n",
    "to thursday. How many computers are now in the server room?\n",
    "A: The answer is 29.\n",
    "Q: Michael had 58 golf balls. On tuesday, he lost 23 golf balls. On wednesday, he lost 2 more. How many golf\n",
    "balls did he have at the end of wednesday?\n",
    "A: The answer is 33.\n",
    "Q: Olivia has $23. She bought five bagels for $3 each. How much money does she have left?\n",
    "A: The answer is 8.\"\"\""
   ]
  },
  {
   "cell_type": "code",
   "execution_count": 3,
   "id": "488bfe7f-17e8-44ab-9095-374882405adf",
   "metadata": {},
   "outputs": [],
   "source": [
    "GSM8K_path = \"./Data/gsm8k_test1.csv\""
   ]
  },
  {
   "cell_type": "code",
   "execution_count": 4,
   "id": "7a4cab11-71c9-47dc-b6a1-934f01d2afed",
   "metadata": {},
   "outputs": [],
   "source": [
    "GSM8K_df = pd.read_csv(GSM8K_path)"
   ]
  },
  {
   "cell_type": "code",
   "execution_count": 5,
   "id": "62fb490a-0250-47ab-b4f7-65db8e2794af",
   "metadata": {},
   "outputs": [],
   "source": [
    "def get_pair_GSM8K(s):\n",
    "    q = f\"\"\"Q: {s[\"question\"]}\"\"\"\n",
    "    a = s[\"answer\"].split(\"\\n\")[-1].lstrip(\"# \")\n",
    "    return (q,a)"
   ]
  },
  {
   "cell_type": "code",
   "execution_count": 6,
   "id": "978db73a-6f30-40af-a239-f137c04c5597",
   "metadata": {},
   "outputs": [],
   "source": [
    "def get_n_shot_prompt(Prompt,n_shot=8):\n",
    "    new_prompt = Prompt.replace(\"\\nQ:\",\"<new>Q:\").replace(\"\\nA:\",\"<new>A:\").replace(\"\\n\",\" \").replace(\"<new>\",\"\\n\")\n",
    "    n_shot_prompt = new_prompt.split(\"\\n\")[:2*n_shot]\n",
    "    return n_shot_prompt"
   ]
  },
  {
   "cell_type": "code",
   "execution_count": 7,
   "id": "26e019fb-9490-4ad5-a637-9428ac9aba31",
   "metadata": {},
   "outputs": [],
   "source": [
    "def get_llama_structure(n_shot_prompt,current_question):\n",
    "    assert len(n_shot_prompt)%2==0\n",
    "    n_shot_structure = \"\".join([f'''<s>[INST]{n_shot_prompt[i]}[/INST]{n_shot_prompt[i+1]}</s>''' for i in range(0,len(n_shot_prompt),2)])\n",
    "    return f'''{n_shot_structure}<s>[INST]{current_question}[/INST]'''"
   ]
  },
  {
   "cell_type": "code",
   "execution_count": 8,
   "id": "f082cb5d-a687-44e8-84dd-e91398179d68",
   "metadata": {},
   "outputs": [],
   "source": [
    "def get_final_prompts(full_prompt,n_shot,n_examples):\n",
    "    final_prompts = []\n",
    "    final_answers = []\n",
    "    for idx in range(n_examples):\n",
    "        q,a = get_pair_GSM8K(GSM8K_df.iloc[idx])\n",
    "        n_shot_prompt = get_n_shot_prompt(full_prompt,n_shot)\n",
    "        final_prompts.append(get_llama_structure(n_shot_prompt,q)) \n",
    "        final_answers.append(a)\n",
    "    return final_prompts,final_answers"
   ]
  },
  {
   "cell_type": "code",
   "execution_count": 25,
   "id": "8c096c0f-09e6-4888-accf-2ff7782845bc",
   "metadata": {},
   "outputs": [],
   "source": [
    "n_examples = len(GSM8K_df)\n",
    "for full_prompt in [(COT_FULL_prompt,\"cot\"),(Standard_FULL_prompt,\"std\")]:\n",
    "    for n_shot in range(0,9):\n",
    "        prompts,ans = get_final_prompts(full_prompt[0],n_shot,n_examples)\n",
    "        file_name = f\"gcp_data_inp_gsm8k/{full_prompt[1]}-{n_shot}-{n_examples}.csv\"\n",
    "        pd.DataFrame({0:prompts,1:ans}).to_csv(file_name)"
   ]
  },
  {
   "cell_type": "code",
   "execution_count": 22,
   "id": "f60fc5d3-e08e-4d61-9f26-8db37b369bdc",
   "metadata": {},
   "outputs": [],
   "source": [
    "def get_prompts_and_answers(file_path):\n",
    "    df = pd.read_csv(file_path,index_col=0)\n",
    "    return list(df[\"0\"]),list(df[\"1\"])"
   ]
  },
  {
   "cell_type": "markdown",
   "id": "267d24a3-dc00-4721-86f2-b841c3156748",
   "metadata": {},
   "source": [
    "# Evaluation of GSM8k"
   ]
  },
  {
   "cell_type": "code",
   "execution_count": 214,
   "id": "e3cf0bcd-c7e6-4869-96dc-203d2d1ed405",
   "metadata": {},
   "outputs": [],
   "source": [
    "data_inp = \"./gcp_data_inp_gsm8k/std-6-1319.csv\"\n",
    "data_out = \"./gcp_data_out_gsm8k/std-6-1319.csv\"\n",
    "\n",
    "in_df = pd.read_csv(data_inp,index_col=0)\n",
    "out_df = pd.read_csv(data_out,index_col=0)"
   ]
  },
  {
   "cell_type": "code",
   "execution_count": 215,
   "id": "2b42cd15-31fa-4146-851b-1b57963463a4",
   "metadata": {},
   "outputs": [],
   "source": [
    "def extract_answers(idx):\n",
    "    s1 = in_df[\"0\"][idx][3:]\n",
    "    s2 = out_df[\"0\"][idx]\n",
    "    ma = s2[len(s1):].split(\"</s>\")[0]\n",
    "    gt = out_df[\"1\"][idx]\n",
    "    for i in ma.split(\" \")[::-1]:\n",
    "        try:\n",
    "            k = i.strip(\"$%. \")\n",
    "            k = k.replace(\",\",\"\")\n",
    "            k = int(float(k))\n",
    "        except:continue\n",
    "        else:break\n",
    "    return k,gt"
   ]
  },
  {
   "cell_type": "code",
   "execution_count": 216,
   "id": "b7679cf3-7c52-492d-b474-3f5ea1df6780",
   "metadata": {
    "collapsed": true,
    "jupyter": {
     "outputs_hidden": true
    },
    "tags": []
   },
   "outputs": [
    {
     "name": "stdout",
     "output_type": "stream",
     "text": [
      "index: 0 answers(model,gt) (32, '18')\n",
      "index: 1 answers(model,gt) (4, '3')\n",
      "index: 2 answers(model,gt) (30000, '70000')\n",
      "index: 3 answers(model,gt) (180, '540')\n",
      "index: 4 answers(model,gt) (30, '20')\n",
      "index: 5 answers(model,gt) (80, '64')\n",
      "index: 6 answers(model,gt) (140, '260')\n",
      "index: 7 answers(model,gt) (240, '160')\n",
      "index: 8 answers(model,gt) (2, '45')\n",
      "index: 9 answers(model,gt) (540, '460')\n",
      "index: 10 answers(model,gt) (180, '366')\n",
      "index: 11 answers(model,gt) (282, '694')\n",
      "index: 12 answers(model,gt) (6, '13')\n",
      "index: 13 answers(model,gt) (15, '18')\n",
      "index: 14 answers(model,gt) (40, '60')\n",
      "index: 15 answers(model,gt) (1, '125')\n",
      "index: 16 answers(model,gt) (230, '230')\n",
      "index: 17 answers(model,gt) (45000, '57500')\n",
      "index: 18 answers(model,gt) (12, '7')\n",
      "index: 19 answers(model,gt) (6, '6')\n",
      "index: 20 answers(model,gt) (23, '15')\n",
      "index: 21 answers(model,gt) (3, '14')\n",
      "index: 22 answers(model,gt) (10, '7')\n",
      "index: 23 answers(model,gt) (2, '8')\n",
      "index: 24 answers(model,gt) (25, '26')\n",
      "index: 25 answers(model,gt) (6, '2')\n",
      "index: 26 answers(model,gt) (165, '243')\n",
      "index: 27 answers(model,gt) (240, '16')\n",
      "index: 28 answers(model,gt) (35, '25')\n",
      "index: 29 answers(model,gt) (70, '104')\n",
      "index: 30 answers(model,gt) (121, '109')\n",
      "index: 31 answers(model,gt) (120, '80')\n",
      "index: 32 answers(model,gt) (50, '35')\n",
      "index: 33 answers(model,gt) (80, '70')\n",
      "index: 34 answers(model,gt) (30, '23')\n",
      "index: 35 answers(model,gt) (50, '9')\n",
      "index: 36 answers(model,gt) (15, '75')\n",
      "index: 37 answers(model,gt) (5, '2')\n",
      "index: 38 answers(model,gt) (12, '10')\n",
      "index: 39 answers(model,gt) (4, '18')\n",
      "index: 40 answers(model,gt) (4, '8')\n",
      "index: 41 answers(model,gt) (1200, '200')\n",
      "index: 42 answers(model,gt) (70, '26')\n",
      "index: 43 answers(model,gt) (125, '48')\n",
      "index: 44 answers(model,gt) (14, '20')\n",
      "index: 45 answers(model,gt) (35, '104')\n",
      "index: 46 answers(model,gt) (100, '163')\n",
      "index: 47 answers(model,gt) (280, '800')\n",
      "index: 48 answers(model,gt) (72, '8')\n",
      "index: 49 answers(model,gt) (12, '30')\n",
      "index: 50 answers(model,gt) (1000, '294')\n",
      "index: 51 answers(model,gt) (4, '5')\n",
      "index: 52 answers(model,gt) (10, '15')\n",
      "index: 53 answers(model,gt) (12, '40')\n",
      "index: 54 answers(model,gt) (21, '40')\n",
      "index: 55 answers(model,gt) (15, '14')\n",
      "index: 56 answers(model,gt) (6, '3')\n",
      "index: 57 answers(model,gt) (31, '83')\n",
      "index: 58 answers(model,gt) (47, '57')\n",
      "index: 59 answers(model,gt) (134, '187')\n",
      "index: 60 answers(model,gt) (18, '17')\n",
      "index: 61 answers(model,gt) (1300, '1430')\n",
      "index: 62 answers(model,gt) (62500, '25000')\n",
      "index: 63 answers(model,gt) (1560, '1596')\n",
      "index: 64 answers(model,gt) (80, '300')\n",
      "index: 65 answers(model,gt) (4, '36')\n",
      "index: 66 answers(model,gt) (4, '48')\n",
      "index: 67 answers(model,gt) (60, '595')\n",
      "index: 68 answers(model,gt) (30, '36')\n",
      "index: 69 answers(model,gt) (70, '60')\n",
      "index: 70 answers(model,gt) (1050, '7425')\n",
      "index: 71 answers(model,gt) (40, '60')\n",
      "index: 72 answers(model,gt) (126, '221')\n",
      "index: 73 answers(model,gt) (45, '255')\n",
      "index: 74 answers(model,gt) (35, '88')\n",
      "index: 75 answers(model,gt) (4, '60')\n",
      "index: 76 answers(model,gt) (19, '5')\n",
      "index: 77 answers(model,gt) (600, '100')\n",
      "index: 78 answers(model,gt) (3, '6')\n",
      "index: 79 answers(model,gt) (70, '70')\n",
      "index: 80 answers(model,gt) (12, '10')\n",
      "index: 81 answers(model,gt) (12, '17')\n",
      "index: 82 answers(model,gt) (4, '623')\n",
      "index: 83 answers(model,gt) (200, '600')\n",
      "index: 84 answers(model,gt) (10, '15')\n",
      "index: 85 answers(model,gt) (40, '44')\n",
      "index: 86 answers(model,gt) (12, '22')\n",
      "index: 87 answers(model,gt) (720, '9360')\n",
      "index: 88 answers(model,gt) (8800, '8000')\n",
      "index: 89 answers(model,gt) (12, '24')\n",
      "index: 90 answers(model,gt) (25, '225')\n",
      "index: 91 answers(model,gt) (12, '28')\n",
      "index: 92 answers(model,gt) (7, '4')\n",
      "index: 93 answers(model,gt) (36, '36')\n",
      "index: 94 answers(model,gt) (72, '348')\n",
      "index: 95 answers(model,gt) (130, '40')\n",
      "index: 96 answers(model,gt) (6, '3')\n",
      "index: 97 answers(model,gt) (12, '12')\n",
      "index: 98 answers(model,gt) (15, '5')\n",
      "index: 99 answers(model,gt) (36, '58')\n",
      "index: 100 answers(model,gt) (140, '175')\n",
      "index: 101 answers(model,gt) (16, '6')\n",
      "index: 102 answers(model,gt) (7, '26')\n",
      "index: 103 answers(model,gt) (6, '140')\n",
      "index: 104 answers(model,gt) (750, '500')\n",
      "index: 105 answers(model,gt) (15, '20')\n",
      "index: 106 answers(model,gt) (72, '72')\n",
      "index: 107 answers(model,gt) (2, '3')\n",
      "index: 108 answers(model,gt) (70, '50')\n",
      "index: 109 answers(model,gt) (10, '28')\n",
      "index: 110 answers(model,gt) (19, '45')\n",
      "index: 111 answers(model,gt) (12, '16')\n",
      "index: 112 answers(model,gt) (12, '24')\n",
      "index: 113 answers(model,gt) (30, '25')\n",
      "index: 114 answers(model,gt) (100, '6')\n",
      "index: 115 answers(model,gt) (16, '90')\n",
      "index: 116 answers(model,gt) (16, '42')\n",
      "index: 117 answers(model,gt) (720, '360')\n",
      "index: 118 answers(model,gt) (30, '4')\n",
      "index: 119 answers(model,gt) (4, '95200')\n",
      "index: 120 answers(model,gt) (2, '240')\n",
      "index: 121 answers(model,gt) (8, '27')\n",
      "index: 122 answers(model,gt) (18, '48')\n",
      "index: 123 answers(model,gt) (45, '50')\n",
      "index: 124 answers(model,gt) (40, '10')\n",
      "index: 125 answers(model,gt) (7, '10')\n",
      "index: 126 answers(model,gt) (44, '82')\n",
      "index: 127 answers(model,gt) (70, '120')\n",
      "index: 128 answers(model,gt) (140, '880')\n",
      "index: 129 answers(model,gt) (10000, '10000')\n",
      "index: 130 answers(model,gt) (40, '30')\n",
      "index: 131 answers(model,gt) (560, '940')\n",
      "index: 132 answers(model,gt) (24, '60')\n",
      "index: 133 answers(model,gt) (24, '13')\n",
      "index: 134 answers(model,gt) (600, '720')\n",
      "index: 135 answers(model,gt) (15, '40')\n",
      "index: 136 answers(model,gt) (18, '6')\n",
      "index: 137 answers(model,gt) (23, '29')\n",
      "index: 138 answers(model,gt) (35, '105')\n",
      "index: 139 answers(model,gt) (88, '70')\n",
      "index: 140 answers(model,gt) (30, '20')\n",
      "index: 141 answers(model,gt) (1400, '400')\n",
      "index: 142 answers(model,gt) (140, '140')\n",
      "index: 143 answers(model,gt) (17, '16')\n",
      "index: 144 answers(model,gt) (132, '20')\n",
      "index: 145 answers(model,gt) (1000, '4000')\n",
      "index: 146 answers(model,gt) (1750, '2,125')\n",
      "index: 147 answers(model,gt) (40, '75')\n",
      "index: 148 answers(model,gt) (20, '30')\n",
      "index: 149 answers(model,gt) (48, '16')\n",
      "index: 150 answers(model,gt) (2, '4')\n",
      "index: 151 answers(model,gt) (1, '5')\n",
      "index: 152 answers(model,gt) (0, '4')\n",
      "index: 153 answers(model,gt) (100, '48')\n",
      "index: 154 answers(model,gt) (72, '272')\n",
      "index: 155 answers(model,gt) (2, '280')\n",
      "index: 156 answers(model,gt) (1200, '1400')\n",
      "index: 157 answers(model,gt) (34, '80')\n",
      "index: 158 answers(model,gt) (31, '34')\n",
      "index: 159 answers(model,gt) (15, '15')\n",
      "index: 160 answers(model,gt) (12, '16')\n",
      "index: 161 answers(model,gt) (18, '32')\n",
      "index: 162 answers(model,gt) (48, '92')\n",
      "index: 163 answers(model,gt) (175, '50')\n",
      "index: 164 answers(model,gt) (60, '15')\n",
      "index: 165 answers(model,gt) ('A:', '77')\n",
      "index: 166 answers(model,gt) (5, '5')\n",
      "index: 167 answers(model,gt) (14, '16')\n",
      "index: 168 answers(model,gt) (16, '18')\n",
      "index: 169 answers(model,gt) (3, '120')\n",
      "index: 170 answers(model,gt) (125, '150')\n",
      "index: 171 answers(model,gt) (740, '1210')\n",
      "index: 172 answers(model,gt) (30, '51')\n",
      "index: 173 answers(model,gt) (18000, '18000')\n",
      "index: 174 answers(model,gt) (30, '95')\n",
      "index: 175 answers(model,gt) (5, '15')\n",
      "index: 176 answers(model,gt) ('I', '100')\n",
      "index: 177 answers(model,gt) (2000, '350')\n",
      "index: 178 answers(model,gt) (74, '122')\n",
      "index: 179 answers(model,gt) (50, '130')\n",
      "index: 180 answers(model,gt) (56, '20')\n",
      "index: 181 answers(model,gt) (5, '160')\n",
      "index: 182 answers(model,gt) (32, '23')\n",
      "index: 183 answers(model,gt) (29, '2')\n",
      "index: 184 answers(model,gt) (50, '25')\n",
      "index: 185 answers(model,gt) (10, '30')\n",
      "index: 186 answers(model,gt) (4, '5')\n",
      "index: 187 answers(model,gt) (102, '106')\n",
      "index: 188 answers(model,gt) (13, '50')\n",
      "index: 189 answers(model,gt) (66, '34')\n",
      "index: 190 answers(model,gt) (60, '360')\n",
      "index: 191 answers(model,gt) (35, '5')\n",
      "index: 192 answers(model,gt) (30, '91')\n",
      "index: 193 answers(model,gt) (18, '24')\n",
      "index: 194 answers(model,gt) (14, '10')\n",
      "index: 195 answers(model,gt) (9, '12')\n",
      "index: 196 answers(model,gt) (2, '120')\n",
      "index: 197 answers(model,gt) (1465, '6277')\n",
      "index: 198 answers(model,gt) (60, '320')\n",
      "index: 199 answers(model,gt) (1500, '7500')\n"
     ]
    }
   ],
   "source": [
    "for idx in range(2):\n",
    "    print(\"index:\",idx,\"answers(model,gt)\",extract_answers(idx))"
   ]
  },
  {
   "cell_type": "code",
   "execution_count": 217,
   "id": "c5e2000d-0ff4-4262-a742-17dbfe548a37",
   "metadata": {},
   "outputs": [
    {
     "name": "stdout",
     "output_type": "stream",
     "text": [
      "START-idx10******************\n",
      "A: The answer is 180.\n",
      "**********\n",
      "366\n",
      "END-idx10******************\n",
      "\n",
      "\n"
     ]
    }
   ],
   "source": [
    "idx=10\n",
    "s1 = in_df[\"0\"][idx][3:]\n",
    "s2 = out_df[\"0\"][idx]\n",
    "ma = s2[len(s1):].split(\"</s>\")[0]\n",
    "print(f\"START-idx{idx}******************\")\n",
    "# print(s1)\n",
    "# print(\"*\"*10)\n",
    "# print(s2)\n",
    "# print(\"*\"*10)\n",
    "print(ma)\n",
    "print(\"*\"*10)\n",
    "print(out_df[\"1\"][idx])\n",
    "print(f\"END-idx{idx}******************\\n\\n\")"
   ]
  },
  {
   "cell_type": "code",
   "execution_count": null,
   "id": "ad4801c0-7a6c-4829-bae2-5ee7418e390d",
   "metadata": {},
   "outputs": [],
   "source": []
  },
  {
   "cell_type": "code",
   "execution_count": null,
   "id": "fa36c8b7-cdbe-4ba0-9a25-cb899e129e34",
   "metadata": {},
   "outputs": [],
   "source": []
  },
  {
   "cell_type": "code",
   "execution_count": 299,
   "id": "18554e0f-2204-448c-8d65-e2f9f28b82a6",
   "metadata": {
    "jupyter": {
     "source_hidden": true
    },
    "tags": []
   },
   "outputs": [],
   "source": [
    "COT_FULL_prompt = \"\"\"Q: There are 15 trees in the grove. Grove workers will plant trees in the grove today. After they are done, there\n",
    "will be 21 trees. How many trees did the grove workers plant today?\n",
    "A: There are 15 trees originally. Then there were 21 trees after some more were planted. So there must have\n",
    "been 21 - 15 = 6. The answer is 6.\n",
    "Q: If there are 3 cars in the parking lot and 2 more cars arrive, how many cars are in the parking lot?\n",
    "A: There are originally 3 cars. 2 more cars arrive. 3 + 2 = 5. The answer is 5.\n",
    "Q: Leah had 32 chocolates and her sister had 42. If they ate 35, how many pieces do they have left in total?\n",
    "A: Originally, Leah had 32 chocolates. Her sister had 42. So in total they had 32 + 42 = 74. After eating 35, they\n",
    "had 74 - 35 = 39. The answer is 39.\n",
    "Q: Jason had 20 lollipops. He gave Denny some lollipops. Now Jason has 12 lollipops. How many lollipops did\n",
    "Jason give to Denny?\n",
    "A: Jason started with 20 lollipops. Then he had 12 after giving some to Denny. So he gave Denny 20 - 12 = 8.\n",
    "The answer is 8.\n",
    "Q: Shawn has five toys. For Christmas, he got two toys each from his mom and dad. How many toys does he\n",
    "have now?\n",
    "A: Shawn started with 5 toys. If he got 2 toys each from his mom and dad, then that is 4 more toys. 5 + 4 = 9.\n",
    "The answer is 9.\n",
    "Q: There were nine computers in the server room. Five more computers were installed each day, from monday\n",
    "to thursday. How many computers are now in the server room?\n",
    "A: There were originally 9 computers. For each of 4 days, 5 more computers were added. So 5 * 4 = 20\n",
    "computers were added. 9 + 20 is 29. The answer is 29.\n",
    "Q: Michael had 58 golf balls. On tuesday, he lost 23 golf balls. On wednesday, he lost 2 more. How many golf\n",
    "balls did he have at the end of wednesday?\n",
    "A: Michael started with 58 golf balls. After losing 23 on tuesday, he had 58 - 23 = 35. After losing 2 more, he\n",
    "had 35 - 2 = 33 golf balls. The answer is 33.\n",
    "Q: Olivia has $23. She bought five bagels for $3 each. How much money does she have left?\n",
    "A: Olivia had 23 dollars. 5 bagels for 3 dollars each will be 5 x 3 = 15 dollars. So she has 23 - 15 dollars left. 23\n",
    "- 15 is 8. The answer is 8.\"\"\"\n",
    "\n",
    "Standard_FULL_prompt = \"\"\"Q: There are 15 trees in the grove. Grove workers will plant trees in the grove today. After they are done, there\n",
    "will be 21 trees. How many trees did the grove workers plant today?\n",
    "A: The answer is 6.\n",
    "Q: If there are 3 cars in the parking lot and 2 more cars arrive, how many cars are in the parking lot?\n",
    "A: The answer is 5.\n",
    "Q: Leah had 32 chocolates and her sister had 42. If they ate 35, how many pieces do they have left in total?\n",
    "A: The answer is 39.\n",
    "Q: Jason had 20 lollipops. He gave Denny some lollipops. Now Jason has 12 lollipops. How many lollipops did\n",
    "Jason give to Denny?\n",
    "A: The answer is 8.\n",
    "Q: Shawn has five toys. For Christmas, he got two toys each from his mom and dad. How many toys does he\n",
    "have now?\n",
    "A: The answer is 9.\n",
    "Q: There were nine computers in the server room. Five more computers were installed each day, from monday\n",
    "to thursday. How many computers are now in the server room?\n",
    "A: The answer is 29.\n",
    "Q: Michael had 58 golf balls. On tuesday, he lost 23 golf balls. On wednesday, he lost 2 more. How many golf\n",
    "balls did he have at the end of wednesday?\n",
    "A: The answer is 33.\n",
    "Q: Olivia has $23. She bought five bagels for $3 each. How much money does she have left?\n",
    "A: The answer is 8.\"\"\""
   ]
  },
  {
   "cell_type": "code",
   "execution_count": null,
   "id": "52e0baf8-60d1-4bb5-992b-6f99176299fe",
   "metadata": {},
   "outputs": [],
   "source": []
  },
  {
   "cell_type": "code",
   "execution_count": null,
   "id": "e8e80767-b852-4b6c-98c2-dc6987f43bd3",
   "metadata": {},
   "outputs": [],
   "source": []
  },
  {
   "cell_type": "code",
   "execution_count": null,
   "id": "a295c679-2b72-4a97-a155-b9281547596c",
   "metadata": {},
   "outputs": [],
   "source": []
  },
  {
   "cell_type": "markdown",
   "id": "25c065a9-5510-4386-971e-efd713c7a757",
   "metadata": {},
   "source": [
    "# Data Processing of Aqua"
   ]
  },
  {
   "cell_type": "code",
   "execution_count": 287,
   "id": "91e96d59-bea8-41f8-8226-a85a9cee9c7c",
   "metadata": {
    "jupyter": {
     "source_hidden": true
    },
    "tags": []
   },
   "outputs": [],
   "source": [
    "COT_FULL_prompt = '''Q: John found that the average of 15 numbers is 40. If 10 is added to each number then the mean of the numbers is?\n",
    "Answer Choices:\n",
    "A) 50\n",
    "B) 45\n",
    "C) 65\n",
    "D) 78 \n",
    "E) 64\n",
    "<split>A: If 10 is added to each number, then the mean of the numbers also increases by 10. So the new mean would be 50. The answer is A.\n",
    "<split>Q: If a / b = 3/4 and 8a + 5b = 22,then find the value of a.\n",
    "Answer Choices:\n",
    "A) 1/2\n",
    "B) 3/2 \n",
    "C) 5/2 \n",
    "D) 4/2 \n",
    "E) 7/2\n",
    "<split>A: If a / b = 3/4, then b = 4a / 3. So 8a + 5(4a / 3) = 22. This simplifies to 8a + 20a / 3 = 22, which means 44a / 3 = 22. So a is equal to 3/2. The answer is B.\n",
    "<split>Q: A person is traveling at 20 km/hr and reached his destiny in 2.5 hr then find the distance?\n",
    "Answer Choices:\n",
    "A) 53 km\n",
    "B) 55 km \n",
    "C) 52 km \n",
    "D) 60 km \n",
    "E) 50 km\n",
    "<split>A: The distance that the person traveled would have been 20 km/hr * 2.5 hrs = 50 km. The answer is E.\n",
    "<split>Q: How many keystrokes are needed to type the numbers from 1 to 500?\n",
    "Answer Choices:\n",
    "A) 1156\n",
    "B) 1392 \n",
    "C) 1480 \n",
    "D) 1562 \n",
    "E) 1788\n",
    "<split>A: There are 9 one-digit numbers from 1 to 9. There are 90 two-digit numbers from 10 to 99. There are 401 three-digit numbers from 100 to 500. 9 + 90(2) + 401(3) = 1392. The answer is B.'''\n",
    "\n",
    "Standard_FULL_prompt = '''Q: John found that the average of 15 numbers is 40. If 10 is added to each number then the mean of the numbers is?\n",
    "Answer Choices:\n",
    "A) 50\n",
    "B) 45\n",
    "C) 65\n",
    "D) 78 \n",
    "E) 64\n",
    "<split>A: The answer is A.\n",
    "<split>Q: If a / b = 3/4 and 8a + 5b = 22,then find the value of a.\n",
    "Answer Choices:\n",
    "A) 1/2\n",
    "B) 3/2 \n",
    "C) 5/2 \n",
    "D) 4/2 \n",
    "E) 7/2\n",
    "<split>A: The answer is B.\n",
    "<split>Q: A person is traveling at 20 km/hr and reached his destiny in 2.5 hr then find the distance?\n",
    "Answer Choices:\n",
    "A) 53 km\n",
    "B) 55 km \n",
    "C) 52 km \n",
    "D) 60 km \n",
    "E) 50 km\n",
    "<split>A: The answer is E.\n",
    "<split>Q: How many keystrokes are needed to type the numbers from 1 to 500?\n",
    "Answer Choices:\n",
    "A) 1156\n",
    "B) 1392 \n",
    "C) 1480 \n",
    "D) 1562 \n",
    "E) 1788\n",
    "<split>A: The answer is B.'''"
   ]
  },
  {
   "cell_type": "code",
   "execution_count": 288,
   "id": "a844fac3-e2ff-4ff2-a8b3-bd38a424bf52",
   "metadata": {},
   "outputs": [],
   "source": [
    "AQUA_path = \"./Data/AQUA1.csv\"\n",
    "AQUA_df = pd.read_csv(AQUA_path)"
   ]
  },
  {
   "cell_type": "code",
   "execution_count": 289,
   "id": "ff9efacb-0479-482a-b729-39defb6358a1",
   "metadata": {},
   "outputs": [],
   "source": [
    "def get_qa_pair(idx):\n",
    "    s = AQUA_df.iloc[idx]\n",
    "    op = \"\\n\".join([_.strip(\"['] \").replace(\" )\",\")\") for _ in s[\"options\"].split(\",\")])\n",
    "    q = f\"{s['question']}\\nAnswer Choices:\\n{op}\"\n",
    "    a = s[\"correct\"]\n",
    "    return q,a\n",
    "\n",
    "def get_n_shot_prompt(prompt,n_shot=2):\n",
    "    # new_prompt = prompt.replace(\"\\nQ:\",\"<new>Q:\").replace(\"\\nA:\",\"<new>A:\").replace(\"\\n\",\" \").replace(\"<new>\",\"\\n\")\n",
    "    return prompt.split(\"<split>\")[:2*n_shot]"
   ]
  },
  {
   "cell_type": "code",
   "execution_count": 290,
   "id": "c678b9eb-d356-4851-86e5-497b07fa0e9b",
   "metadata": {},
   "outputs": [],
   "source": [
    "def get_llama_structure(n_shot_prompt,current_question):\n",
    "    assert len(n_shot_prompt)%2==0\n",
    "    n_shot_structure = \"\".join([f'''<s>[INST]{n_shot_prompt[i].strip()}[/INST]{n_shot_prompt[i+1].strip()}</s>''' for i in range(0,len(n_shot_prompt),2)])\n",
    "    return f'''{n_shot_structure}<s>[INST]{current_question}[/INST]'''"
   ]
  },
  {
   "cell_type": "code",
   "execution_count": 291,
   "id": "0b90122e-9686-4925-99db-ad22c7e8063f",
   "metadata": {},
   "outputs": [],
   "source": [
    "def get_final_prompts(full_prompt,n_shot,n_examples):\n",
    "    final_prompts = []\n",
    "    final_answers = []\n",
    "    for idx in range(n_examples):\n",
    "        q,a = get_qa_pair(idx)\n",
    "        n_shot_prompt = get_n_shot_prompt(full_prompt,n_shot)\n",
    "        final_prompts.append(get_llama_structure(n_shot_prompt,q)) \n",
    "        final_answers.append(a)\n",
    "    return final_prompts,final_answers"
   ]
  },
  {
   "cell_type": "code",
   "execution_count": 292,
   "id": "3cc44f81-c966-46cd-b402-2e7046e8428e",
   "metadata": {},
   "outputs": [],
   "source": [
    "n_examples = len(AQUA_df)\n",
    "for full_prompt in [(COT_FULL_prompt,\"cot\"),(Standard_FULL_prompt,\"std\")]:\n",
    "    for n_shot in range(0,5):\n",
    "        prompts,ans = get_final_prompts(full_prompt[0],n_shot,n_examples)\n",
    "        file_name = f\"gcp_data_inp_aqua/{full_prompt[1]}-{n_shot}-{n_examples}.csv\"\n",
    "        pd.DataFrame({0:prompts,1:ans}).to_csv(file_name)"
   ]
  },
  {
   "cell_type": "code",
   "execution_count": 293,
   "id": "aaa96bb0-db15-44de-b03b-aedfde8edae4",
   "metadata": {},
   "outputs": [],
   "source": [
    "def get_prompts_and_answers(file_path):\n",
    "    df = pd.read_csv(file_path,index_col=0)\n",
    "    return list(df[\"0\"]),list(df[\"1\"])"
   ]
  },
  {
   "cell_type": "code",
   "execution_count": 295,
   "id": "412c5812-00de-489a-ae27-0f0ca846742c",
   "metadata": {},
   "outputs": [],
   "source": [
    "prompts,ans = get_prompts_and_answers(\"./gcp_data_inp_aqua/cot-3-254.csv\")"
   ]
  },
  {
   "cell_type": "code",
   "execution_count": null,
   "id": "f7ffffb5-7012-4732-b518-174fffbabf7e",
   "metadata": {},
   "outputs": [],
   "source": []
  },
  {
   "cell_type": "markdown",
   "id": "edf7a57f-3a56-4046-9336-caa3da6659e5",
   "metadata": {},
   "source": [
    "# Evaluation Aqua"
   ]
  },
  {
   "cell_type": "code",
   "execution_count": 229,
   "id": "591a82f5-a6c3-4343-a07b-950a7c0e2e62",
   "metadata": {},
   "outputs": [],
   "source": [
    "data_inp = \"./gcp_data_inp_aqua/cot-4-254.csv\"\n",
    "data_out = \"./gcp_data_out_aqua/cot-4-254.csv\"\n",
    "\n",
    "in_df = pd.read_csv(data_inp,index_col=0)\n",
    "out_df = pd.read_csv(data_out,index_col=0)"
   ]
  },
  {
   "cell_type": "code",
   "execution_count": 233,
   "id": "4f857587-c551-4619-bd5b-042dd4e68874",
   "metadata": {},
   "outputs": [
    {
     "name": "stdout",
     "output_type": "stream",
     "text": [
      "START-idx0******************\n",
      "A: The angle of elevation changes from 45° to 60° in 10 minutes, which means the car is moving at a uniform speed. The speed of the car can be calculated as follows:\n",
      "Speed = Distance / Time\n",
      "= 100 m / 10 min\n",
      "= 10 m/min\n",
      "Now, we need to find the time it takes for the car to reach the base of the tower. We can use the formula:\n",
      "Time = Distance / Speed\n",
      "= 100 m / 10 m/min\n",
      "= 10 min\n",
      "Therefore, the car will reach the base of the tower in 10 minutes after it passes the top of the tower. The answer is A.\n",
      "**********\n",
      "A\n",
      "END-idx0******************\n",
      "\n",
      "\n"
     ]
    }
   ],
   "source": [
    "idx=0\n",
    "s1 = in_df[\"0\"][idx][3:]\n",
    "s2 = out_df[\"0\"][idx]\n",
    "ma = s2[len(s1):].split(\"</s>\")[0]\n",
    "print(f\"START-idx{idx}******************\")\n",
    "# print(s1)\n",
    "# print(\"*\"*10)\n",
    "# print(s2)\n",
    "# print(\"*\"*10)\n",
    "print(ma)\n",
    "print(\"*\"*10)\n",
    "print(out_df[\"1\"][idx])\n",
    "print(f\"END-idx{idx}******************\\n\\n\")"
   ]
  },
  {
   "cell_type": "code",
   "execution_count": null,
   "id": "5e3bb703-ced4-44b4-8731-9918934b514b",
   "metadata": {},
   "outputs": [],
   "source": []
  },
  {
   "cell_type": "code",
   "execution_count": null,
   "id": "f70b3207-c230-4e93-acbc-cb5be38171df",
   "metadata": {},
   "outputs": [],
   "source": []
  }
 ],
 "metadata": {
  "kernelspec": {
   "display_name": "Python 3 (ipykernel)",
   "language": "python",
   "name": "python3"
  },
  "language_info": {
   "codemirror_mode": {
    "name": "ipython",
    "version": 3
   },
   "file_extension": ".py",
   "mimetype": "text/x-python",
   "name": "python",
   "nbconvert_exporter": "python",
   "pygments_lexer": "ipython3",
   "version": "3.10.9"
  }
 },
 "nbformat": 4,
 "nbformat_minor": 5
}
