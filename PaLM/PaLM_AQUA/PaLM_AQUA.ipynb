{
 "cells": [
  {
   "cell_type": "code",
   "execution_count": 2,
   "metadata": {},
   "outputs": [],
   "source": [
    "!pip install -q google-generativeai"
   ]
  },
  {
   "cell_type": "code",
   "execution_count": 3,
   "metadata": {},
   "outputs": [
    {
     "name": "stdout",
     "output_type": "stream",
     "text": [
      "Conversion completed successfully.\n"
     ]
    }
   ],
   "source": [
    "import pandas as pd\n",
    "\n",
    "# Read the JSON file into a pandas DataFrame\n",
    "df = pd.read_json('AQUA.json',lines=True)\n",
    "\n",
    "# Write the DataFrame to a CSV file\n",
    "df.to_csv('AQUA1.csv', index=False)\n",
    "\n",
    "print(\"Conversion completed successfully.\")"
   ]
  },
  {
   "cell_type": "code",
   "execution_count": 92,
   "metadata": {},
   "outputs": [
    {
     "data": {
      "text/html": [
       "<div>\n",
       "<style scoped>\n",
       "    .dataframe tbody tr th:only-of-type {\n",
       "        vertical-align: middle;\n",
       "    }\n",
       "\n",
       "    .dataframe tbody tr th {\n",
       "        vertical-align: top;\n",
       "    }\n",
       "\n",
       "    .dataframe thead th {\n",
       "        text-align: right;\n",
       "    }\n",
       "</style>\n",
       "<table border=\"1\" class=\"dataframe\">\n",
       "  <thead>\n",
       "    <tr style=\"text-align: right;\">\n",
       "      <th></th>\n",
       "      <th>question</th>\n",
       "      <th>correct</th>\n",
       "      <th>rationale</th>\n",
       "      <th>options</th>\n",
       "    </tr>\n",
       "  </thead>\n",
       "  <tbody>\n",
       "    <tr>\n",
       "      <th>0</th>\n",
       "      <td>A car is being driven , in a straight line and...</td>\n",
       "      <td>A</td>\n",
       "      <td>Explanation :\\nLet the height of the building ...</td>\n",
       "      <td>['A ) 5 ( √ 3 + 1 )', 'B ) 6 ( √ 3 + √ 2 )', '...</td>\n",
       "    </tr>\n",
       "    <tr>\n",
       "      <th>1</th>\n",
       "      <td>The original price of an item is discounted 22...</td>\n",
       "      <td>E</td>\n",
       "      <td>Let x be the original price of the item\\nDisco...</td>\n",
       "      <td>['A ) $ 61', 'B ) $ 65', 'C ) $ 67.40', 'D ) $...</td>\n",
       "    </tr>\n",
       "    <tr>\n",
       "      <th>2</th>\n",
       "      <td>Find out which of the following values is the ...</td>\n",
       "      <td>A</td>\n",
       "      <td>9 = 3 * 3\\n12 = 3 * 4\\nThe number should defin...</td>\n",
       "      <td>['A ) 36', 'B ) 15', 'C ) 17', 'D ) 5', 'E ) 7']</td>\n",
       "    </tr>\n",
       "    <tr>\n",
       "      <th>3</th>\n",
       "      <td>If the probability that Stock A will increase ...</td>\n",
       "      <td>B</td>\n",
       "      <td>The probability that stock A does not increase...</td>\n",
       "      <td>['A ) 0.22', 'B ) 0.26', 'C ) 0.37', 'D ) 0.46...</td>\n",
       "    </tr>\n",
       "    <tr>\n",
       "      <th>4</th>\n",
       "      <td>A trader sold an article at a profit of 20 % f...</td>\n",
       "      <td>B</td>\n",
       "      <td>Cost Price = Selling Price / ( 100 + Profit % ...</td>\n",
       "      <td>['A ) 270', 'B ) 300', 'C ) 280', 'D ) 320', '...</td>\n",
       "    </tr>\n",
       "  </tbody>\n",
       "</table>\n",
       "</div>"
      ],
      "text/plain": [
       "                                            question correct  \\\n",
       "0  A car is being driven , in a straight line and...       A   \n",
       "1  The original price of an item is discounted 22...       E   \n",
       "2  Find out which of the following values is the ...       A   \n",
       "3  If the probability that Stock A will increase ...       B   \n",
       "4  A trader sold an article at a profit of 20 % f...       B   \n",
       "\n",
       "                                           rationale  \\\n",
       "0  Explanation :\\nLet the height of the building ...   \n",
       "1  Let x be the original price of the item\\nDisco...   \n",
       "2  9 = 3 * 3\\n12 = 3 * 4\\nThe number should defin...   \n",
       "3  The probability that stock A does not increase...   \n",
       "4  Cost Price = Selling Price / ( 100 + Profit % ...   \n",
       "\n",
       "                                             options  \n",
       "0  ['A ) 5 ( √ 3 + 1 )', 'B ) 6 ( √ 3 + √ 2 )', '...  \n",
       "1  ['A ) $ 61', 'B ) $ 65', 'C ) $ 67.40', 'D ) $...  \n",
       "2   ['A ) 36', 'B ) 15', 'C ) 17', 'D ) 5', 'E ) 7']  \n",
       "3  ['A ) 0.22', 'B ) 0.26', 'C ) 0.37', 'D ) 0.46...  \n",
       "4  ['A ) 270', 'B ) 300', 'C ) 280', 'D ) 320', '...  "
      ]
     },
     "execution_count": 92,
     "metadata": {},
     "output_type": "execute_result"
    }
   ],
   "source": [
    "hi=pd.read_csv('AQUA1.csv')\n",
    "hi.head()"
   ]
  },
  {
   "cell_type": "code",
   "execution_count": 5,
   "metadata": {},
   "outputs": [
    {
     "data": {
      "text/plain": [
       "(254, 4)"
      ]
     },
     "execution_count": 5,
     "metadata": {},
     "output_type": "execute_result"
    }
   ],
   "source": [
    "hi.shape"
   ]
  },
  {
   "cell_type": "code",
   "execution_count": 93,
   "metadata": {},
   "outputs": [
    {
     "name": "stdout",
     "output_type": "stream",
     "text": [
      "(254, 4)\n"
     ]
    },
    {
     "data": {
      "text/html": [
       "<div>\n",
       "<style scoped>\n",
       "    .dataframe tbody tr th:only-of-type {\n",
       "        vertical-align: middle;\n",
       "    }\n",
       "\n",
       "    .dataframe tbody tr th {\n",
       "        vertical-align: top;\n",
       "    }\n",
       "\n",
       "    .dataframe thead th {\n",
       "        text-align: right;\n",
       "    }\n",
       "</style>\n",
       "<table border=\"1\" class=\"dataframe\">\n",
       "  <thead>\n",
       "    <tr style=\"text-align: right;\">\n",
       "      <th></th>\n",
       "      <th>question</th>\n",
       "      <th>correct</th>\n",
       "      <th>rationale</th>\n",
       "      <th>options</th>\n",
       "    </tr>\n",
       "  </thead>\n",
       "  <tbody>\n",
       "    <tr>\n",
       "      <th>0</th>\n",
       "      <td>A car is being driven , in a straight line and...</td>\n",
       "      <td>A</td>\n",
       "      <td>Explanation :\\nLet the height of the building ...</td>\n",
       "      <td>['A ) 5 ( √ 3 + 1 )', 'B ) 6 ( √ 3 + √ 2 )', '...</td>\n",
       "    </tr>\n",
       "    <tr>\n",
       "      <th>1</th>\n",
       "      <td>The original price of an item is discounted 22...</td>\n",
       "      <td>E</td>\n",
       "      <td>Let x be the original price of the item\\nDisco...</td>\n",
       "      <td>['A ) $ 61', 'B ) $ 65', 'C ) $ 67.40', 'D ) $...</td>\n",
       "    </tr>\n",
       "    <tr>\n",
       "      <th>2</th>\n",
       "      <td>Find out which of the following values is the ...</td>\n",
       "      <td>A</td>\n",
       "      <td>9 = 3 * 3\\n12 = 3 * 4\\nThe number should defin...</td>\n",
       "      <td>['A ) 36', 'B ) 15', 'C ) 17', 'D ) 5', 'E ) 7']</td>\n",
       "    </tr>\n",
       "    <tr>\n",
       "      <th>3</th>\n",
       "      <td>If the probability that Stock A will increase ...</td>\n",
       "      <td>B</td>\n",
       "      <td>The probability that stock A does not increase...</td>\n",
       "      <td>['A ) 0.22', 'B ) 0.26', 'C ) 0.37', 'D ) 0.46...</td>\n",
       "    </tr>\n",
       "    <tr>\n",
       "      <th>4</th>\n",
       "      <td>A trader sold an article at a profit of 20 % f...</td>\n",
       "      <td>B</td>\n",
       "      <td>Cost Price = Selling Price / ( 100 + Profit % ...</td>\n",
       "      <td>['A ) 270', 'B ) 300', 'C ) 280', 'D ) 320', '...</td>\n",
       "    </tr>\n",
       "  </tbody>\n",
       "</table>\n",
       "</div>"
      ],
      "text/plain": [
       "                                            question correct  \\\n",
       "0  A car is being driven , in a straight line and...       A   \n",
       "1  The original price of an item is discounted 22...       E   \n",
       "2  Find out which of the following values is the ...       A   \n",
       "3  If the probability that Stock A will increase ...       B   \n",
       "4  A trader sold an article at a profit of 20 % f...       B   \n",
       "\n",
       "                                           rationale  \\\n",
       "0  Explanation :\\nLet the height of the building ...   \n",
       "1  Let x be the original price of the item\\nDisco...   \n",
       "2  9 = 3 * 3\\n12 = 3 * 4\\nThe number should defin...   \n",
       "3  The probability that stock A does not increase...   \n",
       "4  Cost Price = Selling Price / ( 100 + Profit % ...   \n",
       "\n",
       "                                             options  \n",
       "0  ['A ) 5 ( √ 3 + 1 )', 'B ) 6 ( √ 3 + √ 2 )', '...  \n",
       "1  ['A ) $ 61', 'B ) $ 65', 'C ) $ 67.40', 'D ) $...  \n",
       "2   ['A ) 36', 'B ) 15', 'C ) 17', 'D ) 5', 'E ) 7']  \n",
       "3  ['A ) 0.22', 'B ) 0.26', 'C ) 0.37', 'D ) 0.46...  \n",
       "4  ['A ) 270', 'B ) 300', 'C ) 280', 'D ) 320', '...  "
      ]
     },
     "execution_count": 93,
     "metadata": {},
     "output_type": "execute_result"
    }
   ],
   "source": [
    "df=pd.read_csv('AQUA1.csv')\n",
    "print(df.shape)\n",
    "df.head()"
   ]
  },
  {
   "cell_type": "code",
   "execution_count": 7,
   "metadata": {},
   "outputs": [],
   "source": [
    "import google.generativeai as palm"
   ]
  },
  {
   "cell_type": "code",
   "execution_count": 12,
   "metadata": {},
   "outputs": [],
   "source": [
    "palm.configure(api_key=\"Your_Own_API_Key\")# Replace \"Your_Own_API_Key\" with your own API key , can be generated at https://ai.google.dev/tutorials/setup"
   ]
  },
  {
   "cell_type": "code",
   "execution_count": 9,
   "metadata": {},
   "outputs": [
    {
     "name": "stdout",
     "output_type": "stream",
     "text": [
      "Model Name: models/text-bison-001\n"
     ]
    }
   ],
   "source": [
    "models=[m for m in palm.list_models() if \"generateText\" in m.supported_generation_methods]\n",
    "\n",
    "for m in models:\n",
    "    print(f\"Model Name: {m.name}\")"
   ]
  },
  {
   "cell_type": "code",
   "execution_count": 10,
   "metadata": {},
   "outputs": [
    {
     "data": {
      "text/plain": [
       "'models/text-bison-001'"
      ]
     },
     "execution_count": 10,
     "metadata": {},
     "output_type": "execute_result"
    }
   ],
   "source": [
    "model=models[0].name\n",
    "model"
   ]
  },
  {
   "cell_type": "markdown",
   "metadata": {},
   "source": [
    " # Let's start to experiment with our AQUA data set"
   ]
  },
  {
   "cell_type": "markdown",
   "metadata": {},
   "source": [
    "## 4 shot CoT Example"
   ]
  },
  {
   "cell_type": "code",
   "execution_count": 19,
   "metadata": {},
   "outputs": [
    {
     "name": "stdout",
     "output_type": "stream",
     "text": [
      "Text file 'evaluation_PaLM_4shot_CoT_AQUA.txt' created successfully.\n"
     ]
    }
   ],
   "source": [
    "# Open the text file in write mode\n",
    "with open('evaluation_PaLM_4shot_CoT_AQUA.txt', 'w',encoding=\"utf-8\") as file:\n",
    "    # Iterate over each row in the DataFrame\n",
    "    for index, row in df.iterrows():\n",
    "        question = row['question']+row['options']\n",
    "        answer = row['rationale']+'\\n .Correct Answer is '+row['correct']\n",
    "        prompt=f'''\n",
    "        After looking at the following 4 questions and their detailed answers  , write a solution with step-by-step explanation for the 5th question:\n",
    "        Question1: \"John found that the average of 15 numbers is 40. If 10 is added to each number then the mean of the numbers is? Answer Choices: (a) 50 (b) 45 (c) 65 (d) 78 (e) 64 \"\n",
    "        Answer: \"If 10 is added to each number, then the mean of the numbers also increases by 10. So the new mean would be 50. The answer is (a).\"\n",
    "        Question2: \"If a / b = 3/4 and 8a + 5b = 22,then find the value of a.Answer Choices: (a) 1/2 (b) 3/2 (c) 5/2 (d) 4/2 (e) 7/2\"\n",
    "        Answer: \"If a / b = 3/4, then b = 4a / 3. So 8a + 5(4a / 3) = 22. This simplifies to 8a + 20a / 3 = 22, which means 44a / 3= 22. So a is equal to 3/2. The answer is (b).\"\n",
    "        Question3: \"A person is traveling at 20 km/hr and reached his destiny in 2.5 hr then find the distance?Answer Choices: (a) 53 km (b) 55 km (c) 52 km (d) 60 km (e) 50 km\"\n",
    "        Answer: \"The distance that the person traveled would have been 20 km/hr * 2.5 hrs = 50 km. The answer is (e).\"\n",
    "        Question4: \"How many keystrokes are needed to type the numbers from 1 to 500? Answer Choices: (a) 1156 (b) 1392 (c) 1480 (d) 1562 (e) 1788\"\n",
    "        Answer: \"There are 9 one-digit numbers from 1 to 9. There are 90 two-digit numbers from 10 to 99. There are 401 three-digit numbers from 100 to 500. 9 + 90(2) + 401(3) = 1392. The answer is (b).\"\n",
    "\n",
    "        Question5: {question}\n",
    "        '''\n",
    "        completion=palm.generate_text(model=model,prompt=prompt,temperature=0.5,max_output_tokens=1024)\n",
    "        model_answer=completion.result\n",
    "        # Write the question and the new answer to the text file\n",
    "        file.write(f\"QUESTION: {question}\\n***********************************\\nANSWER: {answer}\\n**********************************\\nMODEL's_ANSWER: {model_answer}\\n##############################################################################################\\n\")\n",
    "        \n",
    "       \n",
    "        \n",
    "   \n",
    "\n",
    "\n",
    "print(\"Text file 'evaluation_PaLM_4shot_CoT_AQUA.txt' created successfully.\")"
   ]
  },
  {
   "cell_type": "markdown",
   "metadata": {},
   "source": [
    "## 3 Shot CoT Example"
   ]
  },
  {
   "cell_type": "code",
   "execution_count": 20,
   "metadata": {},
   "outputs": [
    {
     "name": "stdout",
     "output_type": "stream",
     "text": [
      "Text file 'evaluation_PaLM_3shot_CoT_AQUA.txt' created successfully.\n"
     ]
    }
   ],
   "source": [
    "with open('evaluation_PaLM_3shot_CoT_AQUA.txt', 'w',encoding=\"utf-8\") as file:\n",
    "    # Iterate over each row in the DataFrame\n",
    "    for index, row in df.iterrows():\n",
    "        question = row['question']+row['options']\n",
    "        answer = row['rationale']+'\\n .Correct Answer is '+row['correct']\n",
    "        prompt=f'''\n",
    "        After looking at the following 3 questions and their detailed answers  , write a solution with step-by-step explanation for the 4th question:\n",
    "        Question1: \"John found that the average of 15 numbers is 40. If 10 is added to each number then the mean of the numbers is? Answer Choices: (a) 50 (b) 45 (c) 65 (d) 78 (e) 64 \"\n",
    "        Answer: \"If 10 is added to each number, then the mean of the numbers also increases by 10. So the new mean would be 50. The answer is (a).\"\n",
    "        Question2: \"If a / b = 3/4 and 8a + 5b = 22,then find the value of a.Answer Choices: (a) 1/2 (b) 3/2 (c) 5/2 (d) 4/2 (e) 7/2\"\n",
    "        Answer: \"If a / b = 3/4, then b = 4a / 3. So 8a + 5(4a / 3) = 22. This simplifies to 8a + 20a / 3 = 22, which means 44a / 3= 22. So a is equal to 3/2. The answer is (b).\"\n",
    "        Question3: \"A person is traveling at 20 km/hr and reached his destiny in 2.5 hr then find the distance?Answer Choices: (a) 53 km (b) 55 km (c) 52 km (d) 60 km (e) 50 km\"\n",
    "        Answer: \"The distance that the person traveled would have been 20 km/hr * 2.5 hrs = 50 km. The answer is (e).\"\n",
    "        \n",
    "\n",
    "        Question4: {question}\n",
    "        '''\n",
    "        completion=palm.generate_text(model=model,prompt=prompt,temperature=0.5,max_output_tokens=1024)\n",
    "        model_answer=completion.result\n",
    "        # Write the question and the new answer to the text file\n",
    "        file.write(f\"QUESTION: {question}\\n***********************************\\nANSWER: {answer}\\n**********************************\\nMODEL's_ANSWER: {model_answer}\\n##############################################################################################\\n\")\n",
    "        \n",
    "       \n",
    "        \n",
    "   \n",
    "\n",
    "\n",
    "print(\"Text file 'evaluation_PaLM_3shot_CoT_AQUA.txt' created successfully.\")"
   ]
  },
  {
   "cell_type": "markdown",
   "metadata": {},
   "source": [
    "## 2 Shot CoT Example"
   ]
  },
  {
   "cell_type": "code",
   "execution_count": 22,
   "metadata": {},
   "outputs": [
    {
     "name": "stdout",
     "output_type": "stream",
     "text": [
      "Text file 'evaluation_PaLM_2shot_CoT_AQUA.txt' created successfully.\n"
     ]
    }
   ],
   "source": [
    "with open('evaluation_PaLM_2shot_CoT_AQUA.txt', 'w',encoding=\"utf-8\") as file:\n",
    "    # Iterate over each row in the DataFrame\n",
    "    for index, row in df.iterrows():\n",
    "        question = row['question']+row['options']\n",
    "        answer = row['rationale']+'\\n .Correct Answer is '+row['correct']\n",
    "        prompt=f'''\n",
    "        After looking at the following 2 questions and their detailed answers  , write a solution with step-by-step explanation for the 3rd question:\n",
    "        Question1: \"John found that the average of 15 numbers is 40. If 10 is added to each number then the mean of the numbers is? Answer Choices: (a) 50 (b) 45 (c) 65 (d) 78 (e) 64 \"\n",
    "        Answer: \"If 10 is added to each number, then the mean of the numbers also increases by 10. So the new mean would be 50. The answer is (a).\"\n",
    "        Question2: \"If a / b = 3/4 and 8a + 5b = 22,then find the value of a.Answer Choices: (a) 1/2 (b) 3/2 (c) 5/2 (d) 4/2 (e) 7/2\"\n",
    "        Answer: \"If a / b = 3/4, then b = 4a / 3. So 8a + 5(4a / 3) = 22. This simplifies to 8a + 20a / 3 = 22, which means 44a / 3= 22. So a is equal to 3/2. The answer is (b).\"\n",
    "        \n",
    "\n",
    "        Question3: {question}\n",
    "        '''\n",
    "        completion=palm.generate_text(model=model,prompt=prompt,temperature=0.5,max_output_tokens=1024)\n",
    "        model_answer=completion.result\n",
    "        # Write the question and the new answer to the text file\n",
    "        file.write(f\"QUESTION: {question}\\n***********************************\\nANSWER: {answer}\\n**********************************\\nMODEL's_ANSWER: {model_answer}\\n##############################################################################################\\n\")\n",
    "        \n",
    "       \n",
    "        \n",
    "   \n",
    "\n",
    "\n",
    "print(\"Text file 'evaluation_PaLM_2shot_CoT_AQUA.txt' created successfully.\")"
   ]
  },
  {
   "cell_type": "markdown",
   "metadata": {},
   "source": [
    "## 1 shot CoT Example"
   ]
  },
  {
   "cell_type": "code",
   "execution_count": 23,
   "metadata": {},
   "outputs": [
    {
     "name": "stdout",
     "output_type": "stream",
     "text": [
      "Text file 'evaluation_PaLM_1shot_CoT_AQUA.txt' created successfully.\n"
     ]
    }
   ],
   "source": [
    "with open('evaluation_PaLM_1shot_CoT_AQUA.txt', 'w',encoding=\"utf-8\") as file:\n",
    "    # Iterate over each row in the DataFrame\n",
    "    for index, row in df.iterrows():\n",
    "        question = row['question']+row['options']\n",
    "        answer = row['rationale']+'\\n .Correct Answer is '+row['correct']\n",
    "        prompt=f'''\n",
    "        After looking at the following 1 question and its detailed answers  , write a solution with step-by-step explanation for the 2nd question:\n",
    "        Question1: \"John found that the average of 15 numbers is 40. If 10 is added to each number then the mean of the numbers is? Answer Choices: (a) 50 (b) 45 (c) 65 (d) 78 (e) 64 \"\n",
    "        Answer: \"If 10 is added to each number, then the mean of the numbers also increases by 10. So the new mean would be 50. The answer is (a).\"\n",
    "        \n",
    "\n",
    "        Question2: {question}\n",
    "        '''\n",
    "        completion=palm.generate_text(model=model,prompt=prompt,temperature=0.5,max_output_tokens=1024)\n",
    "        model_answer=completion.result\n",
    "        # Write the question and the new answer to the text file\n",
    "        file.write(f\"QUESTION: {question}\\n***********************************\\nANSWER: {answer}\\n**********************************\\nMODEL's_ANSWER: {model_answer}\\n##############################################################################################\\n\")\n",
    "        \n",
    "       \n",
    "        \n",
    "   \n",
    "\n",
    "\n",
    "print(\"Text file 'evaluation_PaLM_1shot_CoT_AQUA.txt' created successfully.\")"
   ]
  },
  {
   "cell_type": "markdown",
   "metadata": {},
   "source": [
    "# O shot CoT Example"
   ]
  },
  {
   "cell_type": "code",
   "execution_count": 24,
   "metadata": {},
   "outputs": [
    {
     "name": "stdout",
     "output_type": "stream",
     "text": [
      "Text file 'evaluation_PaLM_0shot_CoT_AQUA.txt' created successfully.\n"
     ]
    }
   ],
   "source": [
    "with open('evaluation_PaLM_0shot_CoT_AQUA.txt', 'w',encoding=\"utf-8\") as file:\n",
    "    # Iterate over each row in the DataFrame\n",
    "    for index, row in df.iterrows():\n",
    "        question = row['question']+row['options']\n",
    "        answer = row['rationale']+'\\n .Correct Answer is '+row['correct']\n",
    "        prompt=f'''\n",
    "        Write a solution with step-by-step explanation for the following question:\n",
    "\n",
    "        \n",
    "\n",
    "        Question1: {question}\n",
    "        '''\n",
    "        completion=palm.generate_text(model=model,prompt=prompt,temperature=0.5,max_output_tokens=1024)\n",
    "        model_answer=completion.result\n",
    "        # Write the question and the new answer to the text file\n",
    "        file.write(f\"QUESTION: {question}\\n***********************************\\nANSWER: {answer}\\n**********************************\\nMODEL's_ANSWER: {model_answer}\\n##############################################################################################\\n\")\n",
    "        \n",
    "       \n",
    "        \n",
    "   \n",
    "\n",
    "\n",
    "print(\"Text file 'evaluation_PaLM_0shot_CoT_AQUA.txt' created successfully.\")"
   ]
  },
  {
   "cell_type": "markdown",
   "metadata": {},
   "source": [
    "## 4 shot standard prompt example"
   ]
  },
  {
   "cell_type": "code",
   "execution_count": 25,
   "metadata": {},
   "outputs": [
    {
     "name": "stdout",
     "output_type": "stream",
     "text": [
      "Text file 'evaluation_PaLM_4shot_standardPrompt_AQUA.txt' created successfully.\n"
     ]
    }
   ],
   "source": [
    "import pandas as pd\n",
    "\n",
    "\n",
    "# Open the text file in write mode\n",
    "with open('evaluation_PaLM_4shot_standardPrompt_AQUA.txt', 'w',encoding=\"utf-8\") as file:\n",
    "    # Iterate over each row in the DataFrame\n",
    "    for index, row in df.iterrows():\n",
    "        question = row['question']+row['options']\n",
    "        answer = row['rationale']+'\\n .Correct Answer is '+row['correct']\n",
    "        prompt=f'''\n",
    "        After looking at the following 4 questions and their answers  , write a solution for the 5th question:\n",
    "        Question1: \"John found that the average of 15 numbers is 40. If 10 is added to each number then the mean of the numbers is? Answer Choices: (a) 50 (b) 45 (c) 65 (d) 78 (e) 64 \"\n",
    "        Answer: \"The answer is (a).\"\n",
    "        Question2: \"If a / b = 3/4 and 8a + 5b = 22,then find the value of a.Answer Choices: (a) 1/2 (b) 3/2 (c) 5/2 (d) 4/2 (e) 7/2\"\n",
    "        Answer: \"The answer is (b).\"\n",
    "        Question3: \"A person is traveling at 20 km/hr and reached his destiny in 2.5 hr then find the distance?Answer Choices: (a) 53 km (b) 55 km (c) 52 km (d) 60 km (e) 50 km\"\n",
    "        Answer: \"The answer is (e).\"\n",
    "        Question4: \"How many keystrokes are needed to type the numbers from 1 to 500? Answer Choices: (a) 1156 (b) 1392 (c) 1480 (d) 1562 (e) 1788\"\n",
    "        Answer: \"The answer is (b).\"\n",
    "\n",
    "        Question5: {question}\n",
    "        '''\n",
    "        completion=palm.generate_text(model=model,prompt=prompt,temperature=0.5,max_output_tokens=1024)\n",
    "        model_answer=completion.result\n",
    "        # Write the question and the new answer to the text file\n",
    "        file.write(f\"QUESTION: {question}\\n***********************************\\nANSWER: {answer}\\n**********************************\\nMODEL's_ANSWER: {model_answer}\\n##############################################################################################\\n\")\n",
    "        \n",
    "       \n",
    "        \n",
    "   \n",
    "\n",
    "\n",
    "print(\"Text file 'evaluation_PaLM_4shot_standardPrompt_AQUA.txt' created successfully.\")"
   ]
  },
  {
   "cell_type": "markdown",
   "metadata": {},
   "source": [
    "## 3 shot standard prompt example"
   ]
  },
  {
   "cell_type": "code",
   "execution_count": 26,
   "metadata": {},
   "outputs": [
    {
     "name": "stdout",
     "output_type": "stream",
     "text": [
      "Text file 'evaluation_PaLM_3shot_standardPrompt_AQUA.txt' created successfully.\n"
     ]
    }
   ],
   "source": [
    "import pandas as pd\n",
    "\n",
    "\n",
    "# Open the text file in write mode\n",
    "with open('evaluation_PaLM_3shot_standardPrompt_AQUA.txt', 'w',encoding=\"utf-8\") as file:\n",
    "    # Iterate over each row in the DataFrame\n",
    "    for index, row in df.iterrows():\n",
    "        question = row['question']+row['options']\n",
    "        answer = row['rationale']+'\\n .Correct Answer is '+row['correct']\n",
    "        prompt=f'''\n",
    "        After looking at the following 3 questions and their answers  , write a solution for the 4th question:\n",
    "        Question1: \"John found that the average of 15 numbers is 40. If 10 is added to each number then the mean of the numbers is? Answer Choices: (a) 50 (b) 45 (c) 65 (d) 78 (e) 64 \"\n",
    "        Answer: \"The answer is (a).\"\n",
    "        Question2: \"If a / b = 3/4 and 8a + 5b = 22,then find the value of a.Answer Choices: (a) 1/2 (b) 3/2 (c) 5/2 (d) 4/2 (e) 7/2\"\n",
    "        Answer: \"The answer is (b).\"\n",
    "        Question3: \"A person is traveling at 20 km/hr and reached his destiny in 2.5 hr then find the distance?Answer Choices: (a) 53 km (b) 55 km (c) 52 km (d) 60 km (e) 50 km\"\n",
    "        Answer: \"The answer is (e).\"\n",
    "\n",
    "\n",
    "        Question4: {question}\n",
    "        '''\n",
    "        completion=palm.generate_text(model=model,prompt=prompt,temperature=0.5,max_output_tokens=1024)\n",
    "        model_answer=completion.result\n",
    "        # Write the question and the new answer to the text file\n",
    "        file.write(f\"QUESTION: {question}\\n***********************************\\nANSWER: {answer}\\n**********************************\\nMODEL's_ANSWER: {model_answer}\\n##############################################################################################\\n\")\n",
    "        \n",
    "       \n",
    "        \n",
    "   \n",
    "\n",
    "\n",
    "print(\"Text file 'evaluation_PaLM_3shot_standardPrompt_AQUA.txt' created successfully.\")"
   ]
  },
  {
   "cell_type": "markdown",
   "metadata": {},
   "source": [
    "## 2 shot standard prompt example"
   ]
  },
  {
   "cell_type": "code",
   "execution_count": 13,
   "metadata": {},
   "outputs": [
    {
     "name": "stdout",
     "output_type": "stream",
     "text": [
      "Text file 'evaluation_PaLM_2shot_standardPrompt_AQUA.txt' created successfully.\n"
     ]
    }
   ],
   "source": [
    "import pandas as pd\n",
    "\n",
    "\n",
    "# Open the text file in write mode\n",
    "with open('evaluation_PaLM_2shot_standardPrompt_AQUA.txt', 'w',encoding=\"utf-8\") as file:\n",
    "    # Iterate over each row in the DataFrame\n",
    "    for index, row in df.iterrows():\n",
    "        question = row['question']+row['options']\n",
    "        answer = row['rationale']+'\\n .Correct Answer is '+row['correct']\n",
    "        prompt=f'''\n",
    "        After looking at the following 2 questions and their answers  , write a solution for the 3rd question:\n",
    "        Question1: \"John found that the average of 15 numbers is 40. If 10 is added to each number then the mean of the numbers is? Answer Choices: (a) 50 (b) 45 (c) 65 (d) 78 (e) 64 \"\n",
    "        Answer: \"The answer is (a).\"\n",
    "        Question2: \"If a / b = 3/4 and 8a + 5b = 22,then find the value of a.Answer Choices: (a) 1/2 (b) 3/2 (c) 5/2 (d) 4/2 (e) 7/2\"\n",
    "        Answer: \"The answer is (b).\"\n",
    "\n",
    "\n",
    "\n",
    "        Question3: {question}\n",
    "        '''\n",
    "        completion=palm.generate_text(model=model,prompt=prompt,temperature=0.5,max_output_tokens=1024)\n",
    "        model_answer=completion.result\n",
    "        # Write the question and the new answer to the text file\n",
    "        file.write(f\"QUESTION: {question}\\n***********************************\\nANSWER: {answer}\\n**********************************\\nMODEL's_ANSWER: {model_answer}\\n##############################################################################################\\n\")\n",
    "        \n",
    "       \n",
    "        \n",
    "   \n",
    "\n",
    "\n",
    "print(\"Text file 'evaluation_PaLM_2shot_standardPrompt_AQUA.txt' created successfully.\")"
   ]
  },
  {
   "cell_type": "markdown",
   "metadata": {},
   "source": [
    "## 1 shot standard prompt"
   ]
  },
  {
   "cell_type": "code",
   "execution_count": 14,
   "metadata": {},
   "outputs": [
    {
     "name": "stdout",
     "output_type": "stream",
     "text": [
      "Text file 'evaluation_PaLM_1shot_standardPrompt_AQUA.txt' created successfully.\n"
     ]
    }
   ],
   "source": [
    "import pandas as pd\n",
    "\n",
    "\n",
    "\n",
    "\n",
    "# Open the text file in write mode\n",
    "with open('evaluation_PaLM_1shot_standardPrompt_AQUA.txt', 'w',encoding=\"utf-8\") as file:\n",
    "    # Iterate over each row in the DataFrame\n",
    "    for index, row in df.iterrows():\n",
    "        question = row['question']+row['options']\n",
    "        answer = row['rationale']+'\\n .Correct Answer is '+row['correct']\n",
    "        prompt=f'''\n",
    "        After looking at the following 1 question and its answers  , write a solution for the 2nd question:\n",
    "        Question1: \"John found that the average of 15 numbers is 40. If 10 is added to each number then the mean of the numbers is? Answer Choices: (a) 50 (b) 45 (c) 65 (d) 78 (e) 64 \"\n",
    "        Answer: \"The answer is (a).\"\n",
    "\n",
    "\n",
    "\n",
    "\n",
    "        Question2: {question}\n",
    "        '''\n",
    "        completion=palm.generate_text(model=model,prompt=prompt,temperature=0.5,max_output_tokens=1024)\n",
    "        model_answer=completion.result\n",
    "        # Write the question and the new answer to the text file\n",
    "        file.write(f\"QUESTION: {question}\\n***********************************\\nANSWER: {answer}\\n**********************************\\nMODEL's_ANSWER: {model_answer}\\n##############################################################################################\\n\")\n",
    "        \n",
    "       \n",
    "        \n",
    "   \n",
    "\n",
    "\n",
    "print(\"Text file 'evaluation_PaLM_1shot_standardPrompt_AQUA.txt' created successfully.\")"
   ]
  },
  {
   "cell_type": "markdown",
   "metadata": {},
   "source": [
    "## Zero shot standsrd prompt"
   ]
  },
  {
   "cell_type": "code",
   "execution_count": 17,
   "metadata": {},
   "outputs": [
    {
     "name": "stdout",
     "output_type": "stream",
     "text": [
      "Text file 'evaluation_PaLM_0shot_standardPrompt.txt' created successfully.\n"
     ]
    }
   ],
   "source": [
    "import pandas as pd\n",
    "\n",
    "\n",
    "\n",
    "\n",
    "# Open the text file in write mode\n",
    "with open('evaluation_PaLM_0shot_standardPrompt_AQUA.txt', 'w',encoding=\"utf-8\") as file:\n",
    "    # Iterate over each row in the DataFrame\n",
    "    for index, row in df.iterrows():\n",
    "        question = row['question']+row['options']\n",
    "        answer = row['rationale']+'\\n .Correct Answer is '+row['correct']\n",
    "        prompt=f'''\n",
    "        Solve the following question:\n",
    "   \n",
    "\n",
    "\n",
    "\n",
    "\n",
    "        Question1: {question}\n",
    "        '''\n",
    "        completion=palm.generate_text(model=model,prompt=prompt,temperature=0.5,max_output_tokens=1024)\n",
    "        model_answer=completion.result\n",
    "        # Write the question and the new answer to the text file\n",
    "        file.write(f\"QUESTION: {question}\\n***********************************\\nANSWER: {answer}\\n**********************************\\nMODEL's_ANSWER: {model_answer}\\n##############################################################################################\\n\")\n",
    "        \n",
    "       \n",
    "        \n",
    "   \n",
    "\n",
    "\n",
    "print(\"Text file 'evaluation_PaLM_0shot_standardPrompt.txt' created successfully.\")"
   ]
  },
  {
   "cell_type": "markdown",
   "metadata": {},
   "source": [
    "Let's plot performance graph"
   ]
  },
  {
   "cell_type": "code",
   "execution_count": 103,
   "metadata": {},
   "outputs": [
    {
     "data": {
      "image/png": "[encoded data removed]",
      "text/plain": [
       "<Figure size 1000x500 with 1 Axes>"
      ]
     },
     "metadata": {},
     "output_type": "display_data"
    }
   ],
   "source": [
    "import matplotlib.pyplot as plt\n",
    "\n",
    "import numpy as np\n",
    "# Data\n",
    "shot_num = [0, 1, 2, 3, 4]\n",
    "CoT_prom = [98, 107, 101, 108, 99]\n",
    "standard_prom = [62, 48, 69, 68, 65]\n",
    "CoT_prom=list((100/254)*np.array(CoT_prom))\n",
    "standard_prom=list((100/254)*np.array(standard_prom))\n",
    "\n",
    "    \n",
    " \n",
    "\n",
    "# Plot\n",
    "plt.figure(figsize=(10, 5))\n",
    "\n",
    "plt.plot(shot_num, CoT_prom, marker='o', label='CoT Prompt', color='blue')\n",
    "plt.plot(shot_num, standard_prom, marker='o', label='Standard Prompt', color='red')\n",
    "\n",
    "plt.title('Comparison of CoT Prompt and Standard Prompt performance for AQuA data in PaLM')\n",
    "plt.xlabel('Few shot examples')\n",
    "plt.ylabel('% of correct answers')\n",
    "plt.xticks(shot_num)  # Set x-axis ticks to match shot numbers\n",
    "plt.grid(True)\n",
    "plt.legend()\n",
    "\n",
    "# Save the plot as image1.png\n",
    "plt.savefig('AQUA.png')\n",
    "\n",
    "# Show the plot\n",
    "plt.show()\n"
   ]
  }
 ],
 "metadata": {
  "kernelspec": {
   "display_name": "Python 3 (ipykernel)",
   "language": "python",
   "name": "python3"
  },
  "language_info": {
   "codemirror_mode": {
    "name": "ipython",
    "version": 3
   },
   "file_extension": ".py",
   "mimetype": "text/x-python",
   "name": "python",
   "nbconvert_exporter": "python",
   "pygments_lexer": "ipython3",
   "version": "3.11.7"
  }
 },
 "nbformat": 4,
 "nbformat_minor": 4
}
