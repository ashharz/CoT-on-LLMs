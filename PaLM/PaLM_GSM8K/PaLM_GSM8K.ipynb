{
 "cells": [
  {
   "cell_type": "code",
   "execution_count": 2,
   "metadata": {
    "id": "0oJkp3P_e_12"
   },
   "outputs": [],
   "source": [
    "!pip install -q google-generativeai"
   ]
  },
  {
   "cell_type": "code",
   "execution_count": 3,
   "metadata": {
    "colab": {
     "base_uri": "https://localhost:8080/"
    },
    "id": "BcMNU9rve_12",
    "outputId": "b91830c6-0fef-4379-81d1-02cfd264eaaf"
   },
   "outputs": [
    {
     "name": "stdout",
     "output_type": "stream",
     "text": [
      "Defaulting to user installation because normal site-packages is not writeableNote: you may need to restart the kernel to use updated packages.\n",
      "\n",
      "Requirement already satisfied: datasets in c:\\users\\sk731\\appdata\\roaming\\python\\python311\\site-packages (2.18.0)\n",
      "Requirement already satisfied: filelock in c:\\users\\sk731\\appdata\\roaming\\python\\python311\\site-packages (from datasets) (3.13.1)\n",
      "Requirement already satisfied: numpy>=1.17 in c:\\users\\sk731\\appdata\\roaming\\python\\python311\\site-packages (from datasets) (1.24.3)\n",
      "Requirement already satisfied: pyarrow>=12.0.0 in c:\\users\\sk731\\appdata\\roaming\\python\\python311\\site-packages (from datasets) (15.0.0)\n",
      "Requirement already satisfied: pyarrow-hotfix in c:\\users\\sk731\\appdata\\roaming\\python\\python311\\site-packages (from datasets) (0.6)\n",
      "Requirement already satisfied: dill<0.3.9,>=0.3.0 in c:\\users\\sk731\\appdata\\roaming\\python\\python311\\site-packages (from datasets) (0.3.8)\n",
      "Requirement already satisfied: pandas in c:\\users\\sk731\\appdata\\roaming\\python\\python311\\site-packages (from datasets) (2.2.0)\n",
      "Requirement already satisfied: requests>=2.19.0 in c:\\users\\sk731\\appdata\\roaming\\python\\python311\\site-packages (from datasets) (2.31.0)\n",
      "Requirement already satisfied: tqdm>=4.62.1 in c:\\users\\sk731\\appdata\\roaming\\python\\python311\\site-packages (from datasets) (4.66.2)\n",
      "Requirement already satisfied: xxhash in c:\\users\\sk731\\appdata\\roaming\\python\\python311\\site-packages (from datasets) (3.4.1)\n",
      "Requirement already satisfied: multiprocess in c:\\users\\sk731\\appdata\\roaming\\python\\python311\\site-packages (from datasets) (0.70.16)\n",
      "Requirement already satisfied: fsspec<=2024.2.0,>=2023.1.0 in c:\\users\\sk731\\appdata\\roaming\\python\\python311\\site-packages (from fsspec[http]<=2024.2.0,>=2023.1.0->datasets) (2024.2.0)\n",
      "Requirement already satisfied: aiohttp in c:\\users\\sk731\\appdata\\roaming\\python\\python311\\site-packages (from datasets) (3.9.3)\n",
      "Requirement already satisfied: huggingface-hub>=0.19.4 in c:\\users\\sk731\\appdata\\roaming\\python\\python311\\site-packages (from datasets) (0.21.4)\n",
      "Requirement already satisfied: packaging in c:\\users\\sk731\\appdata\\roaming\\python\\python311\\site-packages (from datasets) (23.2)\n",
      "Requirement already satisfied: pyyaml>=5.1 in c:\\users\\sk731\\appdata\\roaming\\python\\python311\\site-packages (from datasets) (6.0.1)\n",
      "Requirement already satisfied: aiosignal>=1.1.2 in c:\\users\\sk731\\appdata\\roaming\\python\\python311\\site-packages (from aiohttp->datasets) (1.3.1)\n",
      "Requirement already satisfied: attrs>=17.3.0 in c:\\users\\sk731\\appdata\\roaming\\python\\python311\\site-packages (from aiohttp->datasets) (23.2.0)\n",
      "Requirement already satisfied: frozenlist>=1.1.1 in c:\\users\\sk731\\appdata\\roaming\\python\\python311\\site-packages (from aiohttp->datasets) (1.4.1)\n",
      "Requirement already satisfied: multidict<7.0,>=4.5 in c:\\users\\sk731\\appdata\\roaming\\python\\python311\\site-packages (from aiohttp->datasets) (6.0.5)\n",
      "Requirement already satisfied: yarl<2.0,>=1.0 in c:\\users\\sk731\\appdata\\roaming\\python\\python311\\site-packages (from aiohttp->datasets) (1.9.4)\n",
      "Requirement already satisfied: typing-extensions>=3.7.4.3 in c:\\users\\sk731\\appdata\\roaming\\python\\python311\\site-packages (from huggingface-hub>=0.19.4->datasets) (4.9.0)\n",
      "Requirement already satisfied: charset-normalizer<4,>=2 in c:\\users\\sk731\\appdata\\roaming\\python\\python311\\site-packages (from requests>=2.19.0->datasets) (3.3.2)\n",
      "Requirement already satisfied: idna<4,>=2.5 in c:\\users\\sk731\\appdata\\roaming\\python\\python311\\site-packages (from requests>=2.19.0->datasets) (3.6)\n",
      "Requirement already satisfied: urllib3<3,>=1.21.1 in c:\\users\\sk731\\appdata\\roaming\\python\\python311\\site-packages (from requests>=2.19.0->datasets) (2.1.0)\n",
      "Requirement already satisfied: certifi>=2017.4.17 in c:\\users\\sk731\\appdata\\roaming\\python\\python311\\site-packages (from requests>=2.19.0->datasets) (2023.11.17)\n",
      "Requirement already satisfied: colorama in c:\\users\\sk731\\appdata\\roaming\\python\\python311\\site-packages (from tqdm>=4.62.1->datasets) (0.4.6)\n",
      "Requirement already satisfied: python-dateutil>=2.8.2 in c:\\users\\sk731\\appdata\\roaming\\python\\python311\\site-packages (from pandas->datasets) (2.8.2)\n",
      "Requirement already satisfied: pytz>=2020.1 in c:\\users\\sk731\\appdata\\roaming\\python\\python311\\site-packages (from pandas->datasets) (2023.3.post1)\n",
      "Requirement already satisfied: tzdata>=2022.7 in c:\\users\\sk731\\appdata\\roaming\\python\\python311\\site-packages (from pandas->datasets) (2023.4)\n",
      "Requirement already satisfied: six>=1.5 in c:\\users\\sk731\\appdata\\roaming\\python\\python311\\site-packages (from python-dateutil>=2.8.2->pandas->datasets) (1.16.0)\n"
     ]
    }
   ],
   "source": [
    "pip install datasets"
   ]
  },
  {
   "cell_type": "code",
   "execution_count": 4,
   "metadata": {
    "colab": {
     "base_uri": "https://localhost:8080/",
     "height": 301,
     "referenced_widgets": [
      "f5405d4a7a574f00b047a944a8774145",
      "143c6da986f44f78a178306ce2ab08ec",
      "a040f3ea32c34a7fbe34e0376e4fcd37",
      "342b448f90084bb1a1b9f36714529f22",
      "efe378f571de4562b3a6228499457af0",
      "4f378a19f4914057a78eb860c5310356",
      "ea4e37c3cc3c40e782166369fe2e3bbd",
      "912910de2b1e44b7b2101336bfc40448",
      "03ddc0772c7149e8aaac52511890176f",
      "306de26f54f743cb9f61fb1bb30508d6",
      "2ba4ab376c5d47f4a8597558c46fb36a",
      "2ced5bb4b4ed49c68270961c15af1f18",
      "19f1a3cb98a14db082c832a7d5d25250",
      "809ccc771d144032a2ff75cfab62c04c",
      "70b1629225114b0da4f47025fb8dfbf0",
      "a39a0aa634374190b719c9086df0176e",
      "e227fe428c5e4bf28d8acf078cf174c9",
      "9be755e6bbc14fce8de7284bd5d07d80",
      "b7d66ccb052e4de5909096abaa24d450",
      "2a9be4b0de17409ca8c1ffbe6c7ff817",
      "a8eb588f21a0452a8e50858bed66d1ce",
      "6e557a840fd748db8aa41e35b40a037b",
      "1b151551e0e74b92b89a2d1ed9ee2613",
      "a0b41ab3250b4060abfab9db8a52b465",
      "73e6d87c3eb244a88b9749c271cd0ee7",
      "0eb20c78611040538c2dda178abd6915",
      "13d88a23a7764638bfeaf91537493ae1",
      "e3d5d84fe53e4bdfaa8470c45c8326e9",
      "5a644c64ff17466ba979a64c3ddf9d4c",
      "e82ddabd2e5e4b6abd3dd6beabc0d561",
      "8385a38be3764ff5a5fe738b74205cc0",
      "48444bf8d4ac4bd39e4435b0b0ad2eb5",
      "c3e491c736e8491586d4601c9def7590",
      "59803fa914844d2f8fef45990ab277de",
      "ef652887e2a546879612875fbafb5a77",
      "710aa9af4153440c83bae5eeb01cc246",
      "183a78594a9f418da05038f2bd39dca7",
      "54cc169e9e1c4e1d8ac07c02982aff85",
      "ba5dda77dbb4402abfb0be30b07f772b",
      "4c6afac7b55a4d36ab7bde0fc6b824a9",
      "acad6fd302684b25b985ac78302950ed",
      "9a8800a3dcb74b9494a31d61939c647f",
      "6e2eb0cd85634cbfabdb96dae1fd6c73",
      "ef0e146b04174d3c951a725e187949ab",
      "0c333fdcef3c49db8741903571d9e1ef",
      "cb950dccf5ee4285a67ee1be30b9b183",
      "2afbdbd8fe28488380803234e20fa5bf",
      "43724bbb04184aaabbf99ae46811a4f8",
      "97b8c2987a5b4722a85a88cf4ac5e09e",
      "227ef86b85064219a8252d706564fe75",
      "1ecb664928e54ab396b38a97c3a8850c",
      "e5567f43ce634ecfb927344689dacf4b",
      "4b3d96a97b1a45898def28d8fb6cd5da",
      "27e8869bdc0d4d15b675a3ada686dc6d",
      "b987b1163a7244dd9f6417c1ef5aed49"
     ]
    },
    "id": "DusHsYmbe_12",
    "outputId": "a1629cc5-f367-42e3-c8ee-aebd1f8db1c9"
   },
   "outputs": [],
   "source": [
    "import datasets\n",
    "gsm8k = datasets.load_dataset('gsm8k','main')\n"
   ]
  },
  {
   "cell_type": "code",
   "execution_count": 5,
   "metadata": {
    "colab": {
     "base_uri": "https://localhost:8080/"
    },
    "id": "YDpgaqSYe_12",
    "outputId": "754e7a64-1966-4a3d-fe4a-8329d435533f"
   },
   "outputs": [
    {
     "name": "stdout",
     "output_type": "stream",
     "text": [
      "1319\n"
     ]
    }
   ],
   "source": [
    "print(len(gsm8k['test']))"
   ]
  },
  {
   "cell_type": "code",
   "execution_count": 6,
   "metadata": {
    "colab": {
     "base_uri": "https://localhost:8080/"
    },
    "id": "Ukh0KcmFe_13",
    "outputId": "82cbe373-ca4c-4df8-daee-7bd2ff9aa673"
   },
   "outputs": [
    {
     "name": "stdout",
     "output_type": "stream",
     "text": [
      "CSV file exported successfully.\n"
     ]
    }
   ],
   "source": [
    "import pandas as pd\n",
    "# Convert the dataset to a pandas DataFrame\n",
    "df = pd.DataFrame(gsm8k['test'])\n",
    "\n",
    "# Export the DataFrame to a CSV file\n",
    "df.to_csv('gsm8k_test1.csv', index=False)\n",
    "\n",
    "print(\"CSV file exported successfully.\")"
   ]
  },
  {
   "cell_type": "markdown",
   "metadata": {
    "id": "E9rdbqOpe_13"
   },
   "source": [
    "In test set we have total 1319 tets examples of question as well as their detailed answer.But due to the limitation of compuatation power we will randomly sample only 200 examples for our model evaluation"
   ]
  },
  {
   "cell_type": "code",
   "execution_count": 7,
   "metadata": {
    "colab": {
     "base_uri": "https://localhost:8080/"
    },
    "id": "lLK2Xxeme_13",
    "outputId": "c6dd87fa-cd84-41ce-c1f1-73f252009a5f"
   },
   "outputs": [
    {
     "name": "stdout",
     "output_type": "stream",
     "text": [
      "Randomly selected 200 rows written to 'gsm8k_test.csv' successfully.\n"
     ]
    }
   ],
   "source": [
    "import pandas as pd\n",
    "import random\n",
    "\n",
    "# Read the original CSV file into a pandas DataFrame\n",
    "df = pd.read_csv('gsm8k_test1.csv')\n",
    "\n",
    "\n",
    "df_selected = df.head(200)\n",
    "\n",
    "# Write the selected rows to a new CSV file named 'gsm8k_test.csv'\n",
    "df_selected.to_csv('gsm8k_test.csv', index=False)\n",
    "\n",
    "print(\"Randomly selected 200 rows written to 'gsm8k_test.csv' successfully.\")"
   ]
  },
  {
   "cell_type": "code",
   "execution_count": 19,
   "metadata": {
    "colab": {
     "base_uri": "https://localhost:8080/",
     "height": 223
    },
    "id": "-p-LZNLMe_14",
    "outputId": "6c952d59-e5f0-474f-9f8b-9ee228022caa"
   },
   "outputs": [
    {
     "name": "stdout",
     "output_type": "stream",
     "text": [
      "(200, 2)\n"
     ]
    },
    {
     "data": {
      "text/html": [
       "<div>\n",
       "<style scoped>\n",
       "    .dataframe tbody tr th:only-of-type {\n",
       "        vertical-align: middle;\n",
       "    }\n",
       "\n",
       "    .dataframe tbody tr th {\n",
       "        vertical-align: top;\n",
       "    }\n",
       "\n",
       "    .dataframe thead th {\n",
       "        text-align: right;\n",
       "    }\n",
       "</style>\n",
       "<table border=\"1\" class=\"dataframe\">\n",
       "  <thead>\n",
       "    <tr style=\"text-align: right;\">\n",
       "      <th></th>\n",
       "      <th>question</th>\n",
       "      <th>answer</th>\n",
       "    </tr>\n",
       "  </thead>\n",
       "  <tbody>\n",
       "    <tr>\n",
       "      <th>0</th>\n",
       "      <td>Janet’s ducks lay 16 eggs per day. She eats th...</td>\n",
       "      <td>Janet sells 16 - 3 - 4 = &lt;&lt;16-3-4=9&gt;&gt;9 duck eg...</td>\n",
       "    </tr>\n",
       "    <tr>\n",
       "      <th>1</th>\n",
       "      <td>A robe takes 2 bolts of blue fiber and half th...</td>\n",
       "      <td>It takes 2/2=&lt;&lt;2/2=1&gt;&gt;1 bolt of white fiber\\nS...</td>\n",
       "    </tr>\n",
       "    <tr>\n",
       "      <th>2</th>\n",
       "      <td>Josh decides to try flipping a house.  He buys...</td>\n",
       "      <td>The cost of the house and repairs came out to ...</td>\n",
       "    </tr>\n",
       "    <tr>\n",
       "      <th>3</th>\n",
       "      <td>James decides to run 3 sprints 3 times a week....</td>\n",
       "      <td>He sprints 3*3=&lt;&lt;3*3=9&gt;&gt;9 times\\nSo he runs 9*...</td>\n",
       "    </tr>\n",
       "    <tr>\n",
       "      <th>4</th>\n",
       "      <td>Every day, Wendi feeds each of her chickens th...</td>\n",
       "      <td>If each chicken eats 3 cups of feed per day, t...</td>\n",
       "    </tr>\n",
       "  </tbody>\n",
       "</table>\n",
       "</div>"
      ],
      "text/plain": [
       "                                            question  \\\n",
       "0  Janet’s ducks lay 16 eggs per day. She eats th...   \n",
       "1  A robe takes 2 bolts of blue fiber and half th...   \n",
       "2  Josh decides to try flipping a house.  He buys...   \n",
       "3  James decides to run 3 sprints 3 times a week....   \n",
       "4  Every day, Wendi feeds each of her chickens th...   \n",
       "\n",
       "                                              answer  \n",
       "0  Janet sells 16 - 3 - 4 = <<16-3-4=9>>9 duck eg...  \n",
       "1  It takes 2/2=<<2/2=1>>1 bolt of white fiber\\nS...  \n",
       "2  The cost of the house and repairs came out to ...  \n",
       "3  He sprints 3*3=<<3*3=9>>9 times\\nSo he runs 9*...  \n",
       "4  If each chicken eats 3 cups of feed per day, t...  "
      ]
     },
     "execution_count": 19,
     "metadata": {},
     "output_type": "execute_result"
    }
   ],
   "source": [
    "import pandas as pd\n",
    "df=pd.read_csv('gsm8k_test.csv')\n",
    "print(df.shape)\n",
    "df.head()"
   ]
  },
  {
   "cell_type": "code",
   "execution_count": 9,
   "metadata": {
    "id": "HX_tZsgre_14"
   },
   "outputs": [],
   "source": [
    "import google.generativeai as palm"
   ]
  },
  {
   "cell_type": "code",
   "execution_count": 10,
   "metadata": {
    "id": "jU-2Y5aJe_14"
   },
   "outputs": [],
   "source": [
    "palm.configure(api_key=\"Your_Own_API_Key\")# Replace \"Your_Own_API_Key\" with your own API key , can be generated at https://ai.google.dev/tutorials/setup"
   ]
  },
  {
   "cell_type": "code",
   "execution_count": 11,
   "metadata": {
    "colab": {
     "base_uri": "https://localhost:8080/",
     "height": 34
    },
    "id": "SHObLNOme_14",
    "outputId": "6252d395-5596-4240-c68d-25476c8ed677"
   },
   "outputs": [
    {
     "name": "stdout",
     "output_type": "stream",
     "text": [
      "Model Name: models/text-bison-001\n"
     ]
    }
   ],
   "source": [
    "models=[m for m in palm.list_models() if \"generateText\" in m.supported_generation_methods]\n",
    "\n",
    "for m in models:\n",
    "    print(f\"Model Name: {m.name}\")"
   ]
  },
  {
   "cell_type": "code",
   "execution_count": 12,
   "metadata": {
    "colab": {
     "base_uri": "https://localhost:8080/",
     "height": 35
    },
    "id": "RI_kgWqce_14",
    "outputId": "f55cbc61-95eb-4174-9fcc-f5d27c2f42a7"
   },
   "outputs": [
    {
     "data": {
      "text/plain": [
       "'models/text-bison-001'"
      ]
     },
     "execution_count": 12,
     "metadata": {},
     "output_type": "execute_result"
    }
   ],
   "source": [
    "model=models[0].name\n",
    "model"
   ]
  },
  {
   "cell_type": "markdown",
   "metadata": {
    "id": "OHio8_BQe_14"
   },
   "source": [
    " # Let's start to experiment with our GSM8K data set"
   ]
  },
  {
   "cell_type": "markdown",
   "metadata": {
    "id": "3X8kJfvAe_14"
   },
   "source": [
    "## 8-Shot Example with CoT prompt"
   ]
  },
  {
   "cell_type": "code",
   "execution_count": 14,
   "metadata": {
    "colab": {
     "base_uri": "https://localhost:8080/",
     "height": 34
    },
    "id": "UtDtZuU8e_15",
    "outputId": "ca99bb66-4b1c-497c-e846-bc182af59fbe"
   },
   "outputs": [
    {
     "name": "stdout",
     "output_type": "stream",
     "text": [
      "Text file 'evaluation_PaLM_8shot_CoT.txt' created successfully.\n"
     ]
    }
   ],
   "source": [
    "import pandas as pd\n",
    "\n",
    "\n",
    "\n",
    "# Open the text file in write mode\n",
    "with open('evaluation_PaLM_8shot_CoT.txt', 'w',encoding=\"utf-8\") as file:\n",
    "    # Iterate over each row in the DataFrame\n",
    "    for index, row in df.iterrows():\n",
    "        question = row['question']\n",
    "        answer = row['answer']\n",
    "        prompt=f'''\n",
    "        After looking at the following 8 questions and their detailed answers  , write a solution with step-by-step explanation for the 9th question:\n",
    "        Question1: \"There are 15 trees in the grove. Grove workers will plant trees in the grove today. After they are done, there will be 21 trees. How many trees did the grove workers plant today?\"\n",
    "        Answer: \"There are 15 trees originally. Then there were 21 trees after some more were planted. So there must have been 21 - 15 = 6. The answer is 6.\"\n",
    "        Question2: \"If there are 3 cars in the parking lot and 2 more cars arrive, how many cars are in the parking lot?\"\n",
    "        Answer: \"There are originally 3 cars. 2 more cars arrive. 3 + 2 = 5. The answer is 5.\"\n",
    "        Question3: \"Leah had 32 chocolates and her sister had 42. If they ate 35, how many pieces do they have left in total?\"\n",
    "        Answer: \"Originally, Leah had 32 chocolates. Her sister had 42. So in total they had 32 + 42 = 74. After eating 35, they had 74 - 35 = 39. The answer is 39.\"\n",
    "        Question4: \"Jason had 20 lollipops. He gave Denny some lollipops. Now Jason has 12 lollipops. How many lollipops did Jason give to Denny?\"\n",
    "        Answer: \"Jason started with 20 lollipops. Then he had 12 after giving some to Denny. So he gave Denny 20 - 12 = 8. The answer is 8.\"\n",
    "        Question5: \"Shawn has five toys. For Christmas, he got two toys each from his mom and dad. How many toys does he have now?\"\n",
    "        Answer: \"Shawn started with 5 toys. If he got 2 toys each from his mom and dad, then that is 4 more toys. 5 + 4 = 9.The answer is 9.\"\n",
    "        Question6: \"There were nine computers in the server room. Five more computers were installed each day, from monday to thursday. How many computers are now in the server room?\"\n",
    "        Answer: \"There were originally 9 computers. For each of 4 days, 5 more computers were added. So 5 * 4 = 20 computers were added. 9 + 20 is 29. The answer is 29.\"\n",
    "        Question7: \"Michael had 58 golf balls. On tuesday, he lost 23 golf balls. On wednesday, he lost 2 more. How many golf balls did he have at the end of wednesday?\"\n",
    "        Answer: \"Michael started with 58 golf balls. After losing 23 on tuesday, he had 58 - 23 = 35. After losing 2 more, he had 35 - 2 = 33 golf balls. The answer is 33.\"\n",
    "        Question8: \"Olivia has $23. She bought five bagels for $3 each. How much money does she have left?\"\n",
    "        Answer: \"Olivia had 23 dollars. 5 bagels for 3 dollars each will be 5 x 3 = 15 dollars. So she has 23 - 15 dollars left. 23- 15 is 8. The answer is 8.\"\n",
    "        Question9: {question}\n",
    "        '''\n",
    "        completion=palm.generate_text(model=model,prompt=prompt,temperature=0.5,max_output_tokens=1024)\n",
    "        model_answer=completion.result\n",
    "        # Write the question and the new answer to the text file\n",
    "        file.write(f\"QUESTION: {question}\\n***********************************\\nANSWER: {answer}\\n**********************************\\nMODEL's_ANSWER: {model_answer}\\n##############################################################################################\\n\")\n",
    "\n",
    "\n",
    "\n",
    "\n",
    "\n",
    "\n",
    "print(\"Text file 'evaluation_PaLM_8shot_CoT.txt' created successfully.\")"
   ]
  },
  {
   "cell_type": "markdown",
   "metadata": {
    "id": "Pvf9k3Nme_15"
   },
   "source": [
    "## 7 Shot Example of CoT prompt"
   ]
  },
  {
   "cell_type": "code",
   "execution_count": 15,
   "metadata": {
    "colab": {
     "base_uri": "https://localhost:8080/",
     "height": 34
    },
    "id": "Wrfm_8nze_15",
    "outputId": "8b43932c-050f-4f31-ef93-0af86566b793"
   },
   "outputs": [
    {
     "name": "stdout",
     "output_type": "stream",
     "text": [
      "evaluation_PaLM_7shot_CoT.txt' created successfully.\n"
     ]
    }
   ],
   "source": [
    "# Open the text file in write mode\n",
    "with open('evaluation_PaLM_7shot_CoT.txt', 'w',encoding=\"utf-8\") as file:\n",
    "    # Iterate over each row in the DataFrame\n",
    "    for index, row in df.iterrows():\n",
    "        question = row['question']\n",
    "        answer = row['answer']\n",
    "        prompt=f'''\n",
    "        After looking at the following 7 questions and their detailed answers, write a solution with step-by-step explanation for the 8th question:\n",
    "        Question1: \"There are 15 trees in the grove. Grove workers will plant trees in the grove today. After they are done, there will be 21 trees. How many trees did the grove workers plant today?\"\n",
    "        Answer: \"There are 15 trees originally. Then there were 21 trees after some more were planted. So there must have been 21 - 15 = 6. The answer is 6.\"\n",
    "        Question2: \"If there are 3 cars in the parking lot and 2 more cars arrive, how many cars are in the parking lot?\"\n",
    "        Answer: \"There are originally 3 cars. 2 more cars arrive. 3 + 2 = 5. The answer is 5.\"\n",
    "        Question3: \"Leah had 32 chocolates and her sister had 42. If they ate 35, how many pieces do they have left in total?\"\n",
    "        Answer: \"Originally, Leah had 32 chocolates. Her sister had 42. So in total they had 32 + 42 = 74. After eating 35, they had 74 - 35 = 39. The answer is 39.\"\n",
    "        Question4: \"Jason had 20 lollipops. He gave Denny some lollipops. Now Jason has 12 lollipops. How many lollipops did Jason give to Denny?\"\n",
    "        Answer: \"Jason started with 20 lollipops. Then he had 12 after giving some to Denny. So he gave Denny 20 - 12 = 8. The answer is 8.\"\n",
    "        Question5: \"Shawn has five toys. For Christmas, he got two toys each from his mom and dad. How many toys does he have now?\"\n",
    "        Answer: \"Shawn started with 5 toys. If he got 2 toys each from his mom and dad, then that is 4 more toys. 5 + 4 = 9.The answer is 9.\"\n",
    "        Question6: \"There were nine computers in the server room. Five more computers were installed each day, from monday to thursday. How many computers are now in the server room?\"\n",
    "        Answer: \"There were originally 9 computers. For each of 4 days, 5 more computers were added. So 5 * 4 = 20 computers were added. 9 + 20 is 29. The answer is 29.\"\n",
    "        Question7: \"Michael had 58 golf balls. On tuesday, he lost 23 golf balls. On wednesday, he lost 2 more. How many golf balls did he have at the end of wednesday?\"\n",
    "        Answer: \"Michael started with 58 golf balls. After losing 23 on tuesday, he had 58 - 23 = 35. After losing 2 more, he had 35 - 2 = 33 golf balls. The answer is 33.\"\n",
    "\n",
    "        Question8: {question}\n",
    "        '''\n",
    "        completion=palm.generate_text(model=model,prompt=prompt,temperature=0.5,max_output_tokens=1024)\n",
    "        model_answer=completion.result\n",
    "        # Write the question and the new answer to the text file\n",
    "        file.write(f\"QUESTION: {question}\\n***********************************\\nANSWER: {answer}\\n**********************************\\nMODEL's_ANSWER: {model_answer}\\n##############################################################################################\\n\")\n",
    "\n",
    "\n",
    "\n",
    "\n",
    "\n",
    "\n",
    "print(\"evaluation_PaLM_7shot_CoT.txt' created successfully.\")"
   ]
  },
  {
   "cell_type": "markdown",
   "metadata": {
    "id": "i9kqoj5ge_15"
   },
   "source": [
    "## 6 Shot CoT Example"
   ]
  },
  {
   "cell_type": "code",
   "execution_count": 17,
   "metadata": {
    "colab": {
     "base_uri": "https://localhost:8080/",
     "height": 34
    },
    "id": "aUQz4-qNe_15",
    "outputId": "ca7b5a69-6192-465c-fe3e-11be4a5538d1"
   },
   "outputs": [
    {
     "name": "stdout",
     "output_type": "stream",
     "text": [
      "evaluation_PaLM_6shot_CoT.txt' created successfully.\n"
     ]
    }
   ],
   "source": [
    "# Open the text file in write mode\n",
    "with open('evaluation_PaLM_6shot_CoT.txt', 'w',encoding=\"utf-8\") as file:\n",
    "    # Iterate over each row in the DataFrame\n",
    "    for index, row in df.iterrows():\n",
    "        question = row['question']\n",
    "        answer = row['answer']\n",
    "        prompt=f'''\n",
    "        After looking at the following 6 questions and their detailed answers  , write a solution with step-by-step explanation for the 7th question:\n",
    "        Question1: \"There are 15 trees in the grove. Grove workers will plant trees in the grove today. After they are done, there will be 21 trees. How many trees did the grove workers plant today?\"\n",
    "        Answer: \"There are 15 trees originally. Then there were 21 trees after some more were planted. So there must have been 21 - 15 = 6. The answer is 6.\"\n",
    "        Question2: \"If there are 3 cars in the parking lot and 2 more cars arrive, how many cars are in the parking lot?\"\n",
    "        Answer: \"There are originally 3 cars. 2 more cars arrive. 3 + 2 = 5. The answer is 5.\"\n",
    "        Question3: \"Leah had 32 chocolates and her sister had 42. If they ate 35, how many pieces do they have left in total?\"\n",
    "        Answer: \"Originally, Leah had 32 chocolates. Her sister had 42. So in total they had 32 + 42 = 74. After eating 35, they had 74 - 35 = 39. The answer is 39.\"\n",
    "        Question4: \"Jason had 20 lollipops. He gave Denny some lollipops. Now Jason has 12 lollipops. How many lollipops did Jason give to Denny?\"\n",
    "        Answer: \"Jason started with 20 lollipops. Then he had 12 after giving some to Denny. So he gave Denny 20 - 12 = 8. The answer is 8.\"\n",
    "        Question5: \"Shawn has five toys. For Christmas, he got two toys each from his mom and dad. How many toys does he have now?\"\n",
    "        Answer: \"Shawn started with 5 toys. If he got 2 toys each from his mom and dad, then that is 4 more toys. 5 + 4 = 9.The answer is 9.\"\n",
    "        Question6: \"There were nine computers in the server room. Five more computers were installed each day, from monday to thursday. How many computers are now in the server room?\"\n",
    "        Answer: \"There were originally 9 computers. For each of 4 days, 5 more computers were added. So 5 * 4 = 20 computers were added. 9 + 20 is 29. The answer is 29.\"\n",
    "\n",
    "        Question7: {question}\n",
    "        '''\n",
    "        completion=palm.generate_text(model=model,prompt=prompt,temperature=0.5,max_output_tokens=1024)\n",
    "        model_answer=completion.result\n",
    "        # Write the question and the new answer to the text file\n",
    "        file.write(f\"QUESTION: {question}\\n***********************************\\nANSWER: {answer}\\n**********************************\\nMODEL's_ANSWER: {model_answer}\\n##############################################################################################\\n\")\n",
    "\n",
    "\n",
    "\n",
    "\n",
    "\n",
    "\n",
    "print(\"evaluation_PaLM_6shot_CoT.txt' created successfully.\")"
   ]
  },
  {
   "cell_type": "markdown",
   "metadata": {
    "id": "sgQS3nloe_15"
   },
   "source": [
    "## 5 shot CoT example"
   ]
  },
  {
   "cell_type": "code",
   "execution_count": 18,
   "metadata": {
    "colab": {
     "base_uri": "https://localhost:8080/",
     "height": 34
    },
    "id": "d_UrDWKCe_15",
    "outputId": "885b3326-86bc-407b-b84b-874789e61583"
   },
   "outputs": [
    {
     "name": "stdout",
     "output_type": "stream",
     "text": [
      "Text file 'evaluation_PaLM_5shot_CoT.txt' created successfully.\n"
     ]
    }
   ],
   "source": [
    "# Open the text file in write mode\n",
    "with open('evaluation_PaLM_5shot_CoT.txt', 'w',encoding=\"utf-8\") as file:\n",
    "    # Iterate over each row in the DataFrame\n",
    "    for index, row in df.iterrows():\n",
    "        question = row['question']\n",
    "        answer = row['answer']\n",
    "        prompt=f'''\n",
    "        After looking at the following 5 questions and their detailed answers  , write a solution with step-by-step explanation for the 6th question:\n",
    "        Question1: \"There are 15 trees in the grove. Grove workers will plant trees in the grove today. After they are done, there will be 21 trees. How many trees did the grove workers plant today?\"\n",
    "        Answer: \"There are 15 trees originally. Then there were 21 trees after some more were planted. So there must have been 21 - 15 = 6. The answer is 6.\"\n",
    "        Question2: \"If there are 3 cars in the parking lot and 2 more cars arrive, how many cars are in the parking lot?\"\n",
    "        Answer: \"There are originally 3 cars. 2 more cars arrive. 3 + 2 = 5. The answer is 5.\"\n",
    "        Question3: \"Leah had 32 chocolates and her sister had 42. If they ate 35, how many pieces do they have left in total?\"\n",
    "        Answer: \"Originally, Leah had 32 chocolates. Her sister had 42. So in total they had 32 + 42 = 74. After eating 35, they had 74 - 35 = 39. The answer is 39.\"\n",
    "        Question4: \"Jason had 20 lollipops. He gave Denny some lollipops. Now Jason has 12 lollipops. How many lollipops did Jason give to Denny?\"\n",
    "        Answer: \"Jason started with 20 lollipops. Then he had 12 after giving some to Denny. So he gave Denny 20 - 12 = 8. The answer is 8.\"\n",
    "        Question5: \"Shawn has five toys. For Christmas, he got two toys each from his mom and dad. How many toys does he have now?\"\n",
    "        Answer: \"Shawn started with 5 toys. If he got 2 toys each from his mom and dad, then that is 4 more toys. 5 + 4 = 9.The answer is 9.\"\n",
    "        Question6: {question}\n",
    "        '''\n",
    "        completion=palm.generate_text(model=model,prompt=prompt,temperature=0.5,max_output_tokens=1024)\n",
    "        model_answer=completion.result\n",
    "        # Write the question and the new answer to the text file\n",
    "        file.write(f\"QUESTION: {question}\\n***********************************\\nANSWER: {answer}\\n**********************************\\nMODEL's_ANSWER: {model_answer}\\n##############################################################################################\\n\")\n",
    "\n",
    "\n",
    "\n",
    "\n",
    "\n",
    "\n",
    "print(\"Text file 'evaluation_PaLM_5shot_CoT.txt' created successfully.\")"
   ]
  },
  {
   "cell_type": "markdown",
   "metadata": {
    "id": "qYUkLynLe_15"
   },
   "source": [
    "## 4 shot CoT Example"
   ]
  },
  {
   "cell_type": "code",
   "execution_count": 19,
   "metadata": {
    "colab": {
     "base_uri": "https://localhost:8080/",
     "height": 34
    },
    "id": "vyY5fYOYe_15",
    "outputId": "9d7637a0-f26e-407b-cd5f-78f2419768d7"
   },
   "outputs": [
    {
     "name": "stdout",
     "output_type": "stream",
     "text": [
      "Text file 'evaluation_PaLM_4shot_CoT.txt' created successfully.\n"
     ]
    }
   ],
   "source": [
    "# Open the text file in write mode\n",
    "with open('evaluation_PaLM_4shot_CoT.txt', 'w',encoding=\"utf-8\") as file:\n",
    "    # Iterate over each row in the DataFrame\n",
    "    for index, row in df.iterrows():\n",
    "        question = row['question']\n",
    "        answer = row['answer']\n",
    "        prompt=f'''\n",
    "        After looking at the following 4 questions and their detailed answers  , write a solution with step-by-step explanation for the 5th question:\n",
    "        Question1: \"There are 15 trees in the grove. Grove workers will plant trees in the grove today. After they are done, there will be 21 trees. How many trees did the grove workers plant today?\"\n",
    "        Answer: \"There are 15 trees originally. Then there were 21 trees after some more were planted. So there must have been 21 - 15 = 6. The answer is 6.\"\n",
    "        Question2: \"If there are 3 cars in the parking lot and 2 more cars arrive, how many cars are in the parking lot?\"\n",
    "        Answer: \"There are originally 3 cars. 2 more cars arrive. 3 + 2 = 5. The answer is 5.\"\n",
    "        Question3: \"Leah had 32 chocolates and her sister had 42. If they ate 35, how many pieces do they have left in total?\"\n",
    "        Answer: \"Originally, Leah had 32 chocolates. Her sister had 42. So in total they had 32 + 42 = 74. After eating 35, they had 74 - 35 = 39. The answer is 39.\"\n",
    "        Question4: \"Jason had 20 lollipops. He gave Denny some lollipops. Now Jason has 12 lollipops. How many lollipops did Jason give to Denny?\"\n",
    "        Answer: \"Jason started with 20 lollipops. Then he had 12 after giving some to Denny. So he gave Denny 20 - 12 = 8. The answer is 8.\"\n",
    "\n",
    "        Question5: {question}\n",
    "        '''\n",
    "        completion=palm.generate_text(model=model,prompt=prompt,temperature=0.5,max_output_tokens=1024)\n",
    "        model_answer=completion.result\n",
    "        # Write the question and the new answer to the text file\n",
    "        file.write(f\"QUESTION: {question}\\n***********************************\\nANSWER: {answer}\\n**********************************\\nMODEL's_ANSWER: {model_answer}\\n##############################################################################################\\n\")\n",
    "\n",
    "\n",
    "\n",
    "\n",
    "\n",
    "\n",
    "print(\"Text file 'evaluation_PaLM_4shot_CoT.txt' created successfully.\")"
   ]
  },
  {
   "cell_type": "markdown",
   "metadata": {
    "id": "myUntIQke_16"
   },
   "source": [
    "## 3 Shot CoT Example"
   ]
  },
  {
   "cell_type": "code",
   "execution_count": 20,
   "metadata": {
    "colab": {
     "base_uri": "https://localhost:8080/",
     "height": 34
    },
    "id": "J9sgEh7Ne_16",
    "outputId": "debddc2f-6631-405a-fc9b-5193a4e7fc45"
   },
   "outputs": [
    {
     "name": "stdout",
     "output_type": "stream",
     "text": [
      "Text file 'evaluation_PaLM_3shot_CoT.txt' created successfully.\n"
     ]
    }
   ],
   "source": [
    "# Open the text file in write mode\n",
    "with open('evaluation_PaLM_3shot_CoT.txt', 'w',encoding=\"utf-8\") as file:\n",
    "    # Iterate over each row in the DataFrame\n",
    "    for index, row in df.iterrows():\n",
    "        question = row['question']\n",
    "        answer = row['answer']\n",
    "        prompt=f'''\n",
    "        After looking at the following 3 questions and their detailed answers  , write a solution with step-by-step explanation for the 4th question:\n",
    "        Question1: \"There are 15 trees in the grove. Grove workers will plant trees in the grove today. After they are done, there will be 21 trees. How many trees did the grove workers plant today?\"\n",
    "        Answer: \"There are 15 trees originally. Then there were 21 trees after some more were planted. So there must have been 21 - 15 = 6. The answer is 6.\"\n",
    "        Question2: \"If there are 3 cars in the parking lot and 2 more cars arrive, how many cars are in the parking lot?\"\n",
    "        Answer: \"There are originally 3 cars. 2 more cars arrive. 3 + 2 = 5. The answer is 5.\"\n",
    "        Question3: \"Leah had 32 chocolates and her sister had 42. If they ate 35, how many pieces do they have left in total?\"\n",
    "        Answer: \"Originally, Leah had 32 chocolates. Her sister had 42. So in total they had 32 + 42 = 74. After eating 35, they had 74 - 35 = 39. The answer is 39.\"\n",
    "\n",
    "\n",
    "        Question4: {question}\n",
    "        '''\n",
    "        completion=palm.generate_text(model=model,prompt=prompt,temperature=0.5,max_output_tokens=1024)\n",
    "        model_answer=completion.result\n",
    "        # Write the question and the new answer to the text file\n",
    "        file.write(f\"QUESTION: {question}\\n***********************************\\nANSWER: {answer}\\n**********************************\\nMODEL's_ANSWER: {model_answer}\\n##############################################################################################\\n\")\n",
    "\n",
    "\n",
    "\n",
    "\n",
    "\n",
    "\n",
    "print(\"Text file 'evaluation_PaLM_3shot_CoT.txt' created successfully.\")"
   ]
  },
  {
   "cell_type": "markdown",
   "metadata": {
    "id": "soZG2Sb1e_16"
   },
   "source": [
    "## 2 Shot CoT Example"
   ]
  },
  {
   "cell_type": "code",
   "execution_count": 21,
   "metadata": {
    "colab": {
     "base_uri": "https://localhost:8080/",
     "height": 34
    },
    "id": "ASCdjh4ze_16",
    "outputId": "b0012b47-c810-4a81-b248-5bd8e0a05afd"
   },
   "outputs": [
    {
     "name": "stdout",
     "output_type": "stream",
     "text": [
      "Text file 'evaluation_PaLM_2shot_CoT.txt' created successfully.\n"
     ]
    }
   ],
   "source": [
    "# Open the text file in write mode\n",
    "with open('evaluation_PaLM_2shot_CoT.txt', 'w',encoding=\"utf-8\") as file:\n",
    "    # Iterate over each row in the DataFrame\n",
    "    for index, row in df.iterrows():\n",
    "        question = row['question']\n",
    "        answer = row['answer']\n",
    "        prompt=f'''\n",
    "        After looking at the following 2 questions and their detailed answers  , write a solution with step-by-step explanation for the 3rd question:\n",
    "        Question1: \"There are 15 trees in the grove. Grove workers will plant trees in the grove today. After they are done, there will be 21 trees. How many trees did the grove workers plant today?\"\n",
    "        Answer: \"There are 15 trees originally. Then there were 21 trees after some more were planted. So there must have been 21 - 15 = 6. The answer is 6.\"\n",
    "        Question2: \"If there are 3 cars in the parking lot and 2 more cars arrive, how many cars are in the parking lot?\"\n",
    "        Answer: \"There are originally 3 cars. 2 more cars arrive. 3 + 2 = 5. The answer is 5.\"\n",
    "\n",
    "        Question3: {question}\n",
    "        '''\n",
    "        completion=palm.generate_text(model=model,prompt=prompt,temperature=0.5,max_output_tokens=1024)\n",
    "        model_answer=completion.result\n",
    "        # Write the question and the new answer to the text file\n",
    "        file.write(f\"QUESTION: {question}\\n***********************************\\nANSWER: {answer}\\n**********************************\\nMODEL's_ANSWER: {model_answer}\\n##############################################################################################\\n\")\n",
    "\n",
    "\n",
    "\n",
    "\n",
    "\n",
    "\n",
    "print(\"Text file 'evaluation_PaLM_2shot_CoT.txt' created successfully.\")"
   ]
  },
  {
   "cell_type": "markdown",
   "metadata": {
    "id": "xRBmRhSde_16"
   },
   "source": [
    "## 1 shot CoT Example"
   ]
  },
  {
   "cell_type": "code",
   "execution_count": 22,
   "metadata": {
    "colab": {
     "base_uri": "https://localhost:8080/",
     "height": 34
    },
    "id": "1DhxSRHee_16",
    "outputId": "eeb94cd9-be1f-4ca9-8cd2-9829e85dbdec"
   },
   "outputs": [
    {
     "name": "stdout",
     "output_type": "stream",
     "text": [
      "Text file 'evaluation_PaLM_1shot_CoT.txt' created successfully.\n"
     ]
    }
   ],
   "source": [
    "# Open the text file in write mode\n",
    "with open('evaluation_PaLM_1shot_CoT.txt', 'w',encoding=\"utf-8\") as file:\n",
    "    # Iterate over each row in the DataFrame\n",
    "    for index, row in df.iterrows():\n",
    "        question = row['question']\n",
    "        answer = row['answer']\n",
    "        prompt=f'''\n",
    "        After looking at the following 1 question and its detailed answer  , write a solution with step-by-step explanation for the 2nd question:\n",
    "        Question1: \"There are 15 trees in the grove. Grove workers will plant trees in the grove today. After they are done, there will be 21 trees. How many trees did the grove workers plant today?\"\n",
    "        Answer: \"There are 15 trees originally. Then there were 21 trees after some more were planted. So there must have been 21 - 15 = 6. The answer is 6.\"\n",
    "\n",
    "\n",
    "        Question2: {question}\n",
    "        '''\n",
    "        completion=palm.generate_text(model=model,prompt=prompt,temperature=0.5,max_output_tokens=1024)\n",
    "        model_answer=completion.result\n",
    "        # Write the question and the new answer to the text file\n",
    "        file.write(f\"QUESTION: {question}\\n***********************************\\nANSWER: {answer}\\n**********************************\\nMODEL's_ANSWER: {model_answer}\\n##############################################################################################\\n\")\n",
    "\n",
    "\n",
    "\n",
    "\n",
    "\n",
    "\n",
    "print(\"Text file 'evaluation_PaLM_1shot_CoT.txt' created successfully.\")"
   ]
  },
  {
   "cell_type": "markdown",
   "metadata": {
    "id": "3bICfn5ue_16"
   },
   "source": [
    "# O shot CoT Example"
   ]
  },
  {
   "cell_type": "code",
   "execution_count": 23,
   "metadata": {
    "colab": {
     "base_uri": "https://localhost:8080/",
     "height": 34
    },
    "id": "uBHH8v6Qe_16",
    "outputId": "44e153e6-1b1e-4373-a20b-96e375780499"
   },
   "outputs": [
    {
     "name": "stdout",
     "output_type": "stream",
     "text": [
      "Text file 'evaluation_PaLM_0shot_CoT.txt' created successfully.\n"
     ]
    }
   ],
   "source": [
    "# Open the text file in write mode\n",
    "with open('evaluation_PaLM_0shot_CoT.txt', 'w',encoding=\"utf-8\") as file:\n",
    "    # Iterate over each row in the DataFrame\n",
    "    for index, row in df.iterrows():\n",
    "        question = row['question']\n",
    "        answer = row['answer']\n",
    "        prompt=f'''\n",
    "        Provide a solution of the following question with step-by-step explanation:\n",
    "\n",
    "\n",
    "        Question: {question}\n",
    "        '''\n",
    "        completion=palm.generate_text(model=model,prompt=prompt,temperature=0.5,max_output_tokens=1024)\n",
    "        model_answer=completion.result\n",
    "        # Write the question and the new answer to the text file\n",
    "        file.write(f\"QUESTION: {question}\\n***********************************\\nANSWER: {answer}\\n**********************************\\nMODEL's_ANSWER: {model_answer}\\n##############################################################################################\\n\")\n",
    "\n",
    "\n",
    "\n",
    "\n",
    "\n",
    "\n",
    "print(\"Text file 'evaluation_PaLM_0shot_CoT.txt' created successfully.\")"
   ]
  },
  {
   "cell_type": "markdown",
   "metadata": {
    "id": "14_1Uzc5e_16"
   },
   "source": [
    "## 8 shot standard prompt example"
   ]
  },
  {
   "cell_type": "code",
   "execution_count": 24,
   "metadata": {
    "colab": {
     "base_uri": "https://localhost:8080/",
     "height": 34
    },
    "id": "gOpElklZe_16",
    "outputId": "732e76fd-904a-46e2-a326-676689b7f94b"
   },
   "outputs": [
    {
     "name": "stdout",
     "output_type": "stream",
     "text": [
      "Text file 'evaluation_PaLM_8shot_standardPrompt.txt' created successfully.\n"
     ]
    }
   ],
   "source": [
    "import pandas as pd\n",
    "\n",
    "\n",
    "\n",
    "# Open the text file in write mode\n",
    "with open('evaluation_PaLM_8shot_standardPrompt.txt', 'w',encoding=\"utf-8\") as file:\n",
    "    # Iterate over each row in the DataFrame\n",
    "    for index, row in df.iterrows():\n",
    "        question = row['question']\n",
    "        answer = row['answer']\n",
    "        prompt=f'''\n",
    "        After looking at the following 8 questions and their answers  , solve the 9th question:\n",
    "        Question1: \"There are 15 trees in the grove. Grove workers will plant trees in the grove today. After they are done, there will be 21 trees. How many trees did the grove workers plant today?\"\n",
    "        Answer: \"The answer is 6.\"\n",
    "        Question2: \"If there are 3 cars in the parking lot and 2 more cars arrive, how many cars are in the parking lot?\"\n",
    "        Answer: \"The answer is 5.\"\n",
    "        Question3: \"Leah had 32 chocolates and her sister had 42. If they ate 35, how many pieces do they have left in total?\"\n",
    "        Answer: \"The answer is 39.\"\n",
    "        Question4: \"Jason had 20 lollipops. He gave Denny some lollipops. Now Jason has 12 lollipops. How many lollipops did Jason give to Denny?\"\n",
    "        Answer: \"The answer is 8.\"\n",
    "        Question5: \"Shawn has five toys. For Christmas, he got two toys each from his mom and dad. How many toys does he have now?\"\n",
    "        Answer: \"The answer is 9.\"\n",
    "        Question6: \"There were nine computers in the server room. Five more computers were installed each day, from monday to thursday. How many computers are now in the server room?\"\n",
    "        Answer: \"The answer is 29.\"\n",
    "        Question7: \"Michael had 58 golf balls. On tuesday, he lost 23 golf balls. On wednesday, he lost 2 more. How many golf balls did he have at the end of wednesday?\"\n",
    "        Answer: \"The answer is 33.\"\n",
    "        Question8: \"Olivia has $23. She bought five bagels for $3 each. How much money does she have left?\"\n",
    "        Answer: \"The answer is 8.\"\n",
    "        Question9: {question}\n",
    "        '''\n",
    "        completion=palm.generate_text(model=model,prompt=prompt,temperature=0.5,max_output_tokens=1024)\n",
    "        model_answer=completion.result\n",
    "        # Write the question and the new answer to the text file\n",
    "        file.write(f\"QUESTION: {question}\\n***********************************\\nANSWER: {answer}\\n**********************************\\nMODEL's_ANSWER: {model_answer}\\n##############################################################################################\\n\")\n",
    "\n",
    "\n",
    "\n",
    "\n",
    "\n",
    "\n",
    "print(\"Text file 'evaluation_PaLM_8shot_standardPrompt.txt' created successfully.\")"
   ]
  },
  {
   "cell_type": "markdown",
   "metadata": {
    "id": "xd7Z4Qine_16"
   },
   "source": [
    "## 7 shot Standard Prompt Example"
   ]
  },
  {
   "cell_type": "code",
   "execution_count": 25,
   "metadata": {
    "colab": {
     "base_uri": "https://localhost:8080/",
     "height": 34
    },
    "id": "MYez46qHe_16",
    "outputId": "89fe6fd7-f5a6-478b-c3aa-208cb2ff83c9"
   },
   "outputs": [
    {
     "name": "stdout",
     "output_type": "stream",
     "text": [
      "Text file 'evaluation_PaLM_7shot_standardPrompt.txt' created successfully.\n"
     ]
    }
   ],
   "source": [
    "import pandas as pd\n",
    "\n",
    "\n",
    "\n",
    "# Open the text file in write mode\n",
    "with open('evaluation_PaLM_7shot_standardPrompt.txt', 'w',encoding=\"utf-8\") as file:\n",
    "    # Iterate over each row in the DataFrame\n",
    "    for index, row in df.iterrows():\n",
    "        question = row['question']\n",
    "        answer = row['answer']\n",
    "        prompt=f'''\n",
    "        After looking at the following 7 questions and their answers  , solve the 8th question:\n",
    "        Question1: \"There are 15 trees in the grove. Grove workers will plant trees in the grove today. After they are done, there will be 21 trees. How many trees did the grove workers plant today?\"\n",
    "        Answer: \"The answer is 6.\"\n",
    "        Question2: \"If there are 3 cars in the parking lot and 2 more cars arrive, how many cars are in the parking lot?\"\n",
    "        Answer: \"The answer is 5.\"\n",
    "        Question3: \"Leah had 32 chocolates and her sister had 42. If they ate 35, how many pieces do they have left in total?\"\n",
    "        Answer: \"The answer is 39.\"\n",
    "        Question4: \"Jason had 20 lollipops. He gave Denny some lollipops. Now Jason has 12 lollipops. How many lollipops did Jason give to Denny?\"\n",
    "        Answer: \"The answer is 8.\"\n",
    "        Question5: \"Shawn has five toys. For Christmas, he got two toys each from his mom and dad. How many toys does he have now?\"\n",
    "        Answer: \"The answer is 9.\"\n",
    "        Question6: \"There were nine computers in the server room. Five more computers were installed each day, from monday to thursday. How many computers are now in the server room?\"\n",
    "        Answer: \"The answer is 29.\"\n",
    "        Question7: \"Michael had 58 golf balls. On tuesday, he lost 23 golf balls. On wednesday, he lost 2 more. How many golf balls did he have at the end of wednesday?\"\n",
    "        Answer: \"The answer is 33.\"\n",
    "        Question8: {question}\n",
    "        '''\n",
    "        completion=palm.generate_text(model=model,prompt=prompt,temperature=0.5,max_output_tokens=1024)\n",
    "        model_answer=completion.result\n",
    "        # Write the question and the new answer to the text file\n",
    "        file.write(f\"QUESTION: {question}\\n***********************************\\nANSWER: {answer}\\n**********************************\\nMODEL's_ANSWER: {model_answer}\\n##############################################################################################\\n\")\n",
    "\n",
    "\n",
    "\n",
    "\n",
    "\n",
    "\n",
    "print(\"Text file 'evaluation_PaLM_7shot_standardPrompt.txt' created successfully.\")"
   ]
  },
  {
   "cell_type": "markdown",
   "metadata": {
    "id": "WQzWEzpxe_16"
   },
   "source": [
    "## 6 shot Standard Prompt Example"
   ]
  },
  {
   "cell_type": "code",
   "execution_count": 26,
   "metadata": {
    "colab": {
     "base_uri": "https://localhost:8080/",
     "height": 34
    },
    "id": "x1V0Y9uPe_16",
    "outputId": "70fbb025-9d99-4d5c-dc92-4dd097454737"
   },
   "outputs": [
    {
     "name": "stdout",
     "output_type": "stream",
     "text": [
      "Text file 'evaluation_PaLM_6shot_standardPrompt.txt' created successfully.\n"
     ]
    }
   ],
   "source": [
    "import pandas as pd\n",
    "\n",
    "\n",
    "\n",
    "# Open the text file in write mode\n",
    "with open('evaluation_PaLM_6shot_standardPrompt.txt', 'w',encoding=\"utf-8\") as file:\n",
    "    # Iterate over each row in the DataFrame\n",
    "    for index, row in df.iterrows():\n",
    "        question = row['question']\n",
    "        answer = row['answer']\n",
    "        prompt=f'''\n",
    "        After looking at the following 6 questions and their answers  , solve the 7th question:\n",
    "        Question1: \"There are 15 trees in the grove. Grove workers will plant trees in the grove today. After they are done, there will be 21 trees. How many trees did the grove workers plant today?\"\n",
    "        Answer: \"The answer is 6.\"\n",
    "        Question2: \"If there are 3 cars in the parking lot and 2 more cars arrive, how many cars are in the parking lot?\"\n",
    "        Answer: \"The answer is 5.\"\n",
    "        Question3: \"Leah had 32 chocolates and her sister had 42. If they ate 35, how many pieces do they have left in total?\"\n",
    "        Answer: \"The answer is 39.\"\n",
    "        Question4: \"Jason had 20 lollipops. He gave Denny some lollipops. Now Jason has 12 lollipops. How many lollipops did Jason give to Denny?\"\n",
    "        Answer: \"The answer is 8.\"\n",
    "        Question5: \"Shawn has five toys. For Christmas, he got two toys each from his mom and dad. How many toys does he have now?\"\n",
    "        Answer: \"The answer is 9.\"\n",
    "        Question6: \"There were nine computers in the server room. Five more computers were installed each day, from monday to thursday. How many computers are now in the server room?\"\n",
    "        Answer: \"The answer is 29.\"\n",
    "\n",
    "        Question7: {question}\n",
    "        '''\n",
    "        completion=palm.generate_text(model=model,prompt=prompt,temperature=0.5,max_output_tokens=1024)\n",
    "        model_answer=completion.result\n",
    "        # Write the question and the new answer to the text file\n",
    "        file.write(f\"QUESTION: {question}\\n***********************************\\nANSWER: {answer}\\n**********************************\\nMODEL's_ANSWER: {model_answer}\\n##############################################################################################\\n\")\n",
    "\n",
    "\n",
    "\n",
    "\n",
    "\n",
    "\n",
    "print(\"Text file 'evaluation_PaLM_6shot_standardPrompt.txt' created successfully.\")"
   ]
  },
  {
   "cell_type": "markdown",
   "metadata": {
    "id": "wu5B-zNFe_17"
   },
   "source": [
    "## 5 shot standard prompt example"
   ]
  },
  {
   "cell_type": "code",
   "execution_count": 28,
   "metadata": {
    "colab": {
     "base_uri": "https://localhost:8080/",
     "height": 34
    },
    "id": "JaMHfWgAe_17",
    "outputId": "0b335bf6-1c6d-4025-fa9c-83008eb093c8"
   },
   "outputs": [
    {
     "name": "stdout",
     "output_type": "stream",
     "text": [
      "Text file 'evaluation_PaLM_5shot_standardPrompt.txt' created successfully.\n"
     ]
    }
   ],
   "source": [
    "import pandas as pd\n",
    "\n",
    "\n",
    "\n",
    "# Open the text file in write mode\n",
    "with open('evaluation_PaLM_5shot_standardPrompt.txt', 'w',encoding=\"utf-8\") as file:\n",
    "    # Iterate over each row in the DataFrame\n",
    "    for index, row in df.iterrows():\n",
    "        question = row['question']\n",
    "        answer = row['answer']\n",
    "        prompt=f'''\n",
    "        After looking at the following 5 questions and their answers  , solve the 6th question:\n",
    "        Question1: \"There are 15 trees in the grove. Grove workers will plant trees in the grove today. After they are done, there will be 21 trees. How many trees did the grove workers plant today?\"\n",
    "        Answer: \"The answer is 6.\"\n",
    "        Question2: \"If there are 3 cars in the parking lot and 2 more cars arrive, how many cars are in the parking lot?\"\n",
    "        Answer: \"The answer is 5.\"\n",
    "        Question3: \"Leah had 32 chocolates and her sister had 42. If they ate 35, how many pieces do they have left in total?\"\n",
    "        Answer: \"The answer is 39.\"\n",
    "        Question4: \"Jason had 20 lollipops. He gave Denny some lollipops. Now Jason has 12 lollipops. How many lollipops did Jason give to Denny?\"\n",
    "        Answer: \"The answer is 8.\"\n",
    "        Question5: \"Shawn has five toys. For Christmas, he got two toys each from his mom and dad. How many toys does he have now?\"\n",
    "        Answer: \"The answer is 9.\"\n",
    "\n",
    "        Question6: {question}\n",
    "        '''\n",
    "        completion=palm.generate_text(model=model,prompt=prompt,temperature=0.5,max_output_tokens=1024)\n",
    "        model_answer=completion.result\n",
    "        # Write the question and the new answer to the text file\n",
    "        file.write(f\"QUESTION: {question}\\n***********************************\\nANSWER: {answer}\\n**********************************\\nMODEL's_ANSWER: {model_answer}\\n##############################################################################################\\n\")\n",
    "\n",
    "\n",
    "\n",
    "\n",
    "\n",
    "\n",
    "print(\"Text file 'evaluation_PaLM_5shot_standardPrompt.txt' created successfully.\")"
   ]
  },
  {
   "cell_type": "markdown",
   "metadata": {
    "id": "Cfipgxtme_17"
   },
   "source": [
    "## 4 shot standard prompt example"
   ]
  },
  {
   "cell_type": "code",
   "execution_count": 29,
   "metadata": {
    "colab": {
     "base_uri": "https://localhost:8080/",
     "height": 34
    },
    "id": "BmKQyTgXe_17",
    "outputId": "7d97ccd8-7327-428f-9e01-44a42333302c"
   },
   "outputs": [
    {
     "name": "stdout",
     "output_type": "stream",
     "text": [
      "Text file 'evaluation_PaLM_4shot_standardPrompt.txt' created successfully.\n"
     ]
    }
   ],
   "source": [
    "import pandas as pd\n",
    "\n",
    "\n",
    "\n",
    "# Open the text file in write mode\n",
    "with open('evaluation_PaLM_4shot_standardPrompt.txt', 'w',encoding=\"utf-8\") as file:\n",
    "    # Iterate over each row in the DataFrame\n",
    "    for index, row in df.iterrows():\n",
    "        question = row['question']\n",
    "        answer = row['answer']\n",
    "        prompt=f'''\n",
    "        After looking at the following 4 questions and their answers  , solve the 5th question:\n",
    "        Question1: \"There are 15 trees in the grove. Grove workers will plant trees in the grove today. After they are done, there will be 21 trees. How many trees did the grove workers plant today?\"\n",
    "        Answer: \"The answer is 6.\"\n",
    "        Question2: \"If there are 3 cars in the parking lot and 2 more cars arrive, how many cars are in the parking lot?\"\n",
    "        Answer: \"The answer is 5.\"\n",
    "        Question3: \"Leah had 32 chocolates and her sister had 42. If they ate 35, how many pieces do they have left in total?\"\n",
    "        Answer: \"The answer is 39.\"\n",
    "        Question4: \"Jason had 20 lollipops. He gave Denny some lollipops. Now Jason has 12 lollipops. How many lollipops did Jason give to Denny?\"\n",
    "        Answer: \"The answer is 8.\"\n",
    "\n",
    "        Question5: {question}\n",
    "        '''\n",
    "        completion=palm.generate_text(model=model,prompt=prompt,temperature=0.5,max_output_tokens=1024)\n",
    "        model_answer=completion.result\n",
    "        # Write the question and the new answer to the text file\n",
    "        file.write(f\"QUESTION: {question}\\n***********************************\\nANSWER: {answer}\\n**********************************\\nMODEL's_ANSWER: {model_answer}\\n##############################################################################################\\n\")\n",
    "\n",
    "\n",
    "\n",
    "\n",
    "\n",
    "\n",
    "print(\"Text file 'evaluation_PaLM_4shot_standardPrompt.txt' created successfully.\")"
   ]
  },
  {
   "cell_type": "markdown",
   "metadata": {
    "id": "VrtkBYeae_17"
   },
   "source": [
    "## 3 shot standard prompt example"
   ]
  },
  {
   "cell_type": "code",
   "execution_count": 30,
   "metadata": {
    "colab": {
     "base_uri": "https://localhost:8080/",
     "height": 34
    },
    "id": "Fi2JN7TSe_17",
    "outputId": "55e32765-4339-4034-9875-d450787df5d6"
   },
   "outputs": [
    {
     "name": "stdout",
     "output_type": "stream",
     "text": [
      "Text file 'evaluation_PaLM_3shot_standardPrompt.txt' created successfully.\n"
     ]
    }
   ],
   "source": [
    "import pandas as pd\n",
    "\n",
    "\n",
    "\n",
    "# Open the text file in write mode\n",
    "with open('evaluation_PaLM_3shot_standardPrompt.txt', 'w',encoding=\"utf-8\") as file:\n",
    "    # Iterate over each row in the DataFrame\n",
    "    for index, row in df.iterrows():\n",
    "        question = row['question']\n",
    "        answer = row['answer']\n",
    "        prompt=f'''\n",
    "        After looking at the following 3 questions and their answers  , solve the 4th question:\n",
    "        Question1: \"There are 15 trees in the grove. Grove workers will plant trees in the grove today. After they are done, there will be 21 trees. How many trees did the grove workers plant today?\"\n",
    "        Answer: \"The answer is 6.\"\n",
    "        Question2: \"If there are 3 cars in the parking lot and 2 more cars arrive, how many cars are in the parking lot?\"\n",
    "        Answer: \"The answer is 5.\"\n",
    "        Question3: \"Leah had 32 chocolates and her sister had 42. If they ate 35, how many pieces do they have left in total?\"\n",
    "        Answer: \"The answer is 39.\"\n",
    "\n",
    "        Question4: {question}\n",
    "        '''\n",
    "        completion=palm.generate_text(model=model,prompt=prompt,temperature=0.5,max_output_tokens=1024)\n",
    "        model_answer=completion.result\n",
    "        # Write the question and the new answer to the text file\n",
    "        file.write(f\"QUESTION: {question}\\n***********************************\\nANSWER: {answer}\\n**********************************\\nMODEL's_ANSWER: {model_answer}\\n##############################################################################################\\n\")\n",
    "\n",
    "\n",
    "\n",
    "\n",
    "\n",
    "\n",
    "print(\"Text file 'evaluation_PaLM_3shot_standardPrompt.txt' created successfully.\")"
   ]
  },
  {
   "cell_type": "markdown",
   "metadata": {
    "id": "S-GX5Pvfe_17"
   },
   "source": [
    "## 2 shot standard prompt example"
   ]
  },
  {
   "cell_type": "code",
   "execution_count": 31,
   "metadata": {
    "colab": {
     "base_uri": "https://localhost:8080/",
     "height": 34
    },
    "id": "V-zLxVvTe_18",
    "outputId": "db498ef6-d25f-4301-ad3c-f4b3ef1a87d8"
   },
   "outputs": [
    {
     "name": "stdout",
     "output_type": "stream",
     "text": [
      "Text file 'evaluation_PaLM_2shot_standardPrompt.txt' created successfully.\n"
     ]
    }
   ],
   "source": [
    "import pandas as pd\n",
    "\n",
    "\n",
    "\n",
    "# Open the text file in write mode\n",
    "with open('evaluation_PaLM_2shot_standardPrompt.txt', 'w',encoding=\"utf-8\") as file:\n",
    "    # Iterate over each row in the DataFrame\n",
    "    for index, row in df.iterrows():\n",
    "        question = row['question']\n",
    "        answer = row['answer']\n",
    "        prompt=f'''\n",
    "        After looking at the following 2 questions and their answers  , solve the 3rd question:\n",
    "        Question1: \"There are 15 trees in the grove. Grove workers will plant trees in the grove today. After they are done, there will be 21 trees. How many trees did the grove workers plant today?\"\n",
    "        Answer: \"The answer is 6.\"\n",
    "        Question2: \"If there are 3 cars in the parking lot and 2 more cars arrive, how many cars are in the parking lot?\"\n",
    "        Answer: \"The answer is 5.\"\n",
    "\n",
    "        Question3: {question}\n",
    "        '''\n",
    "        completion=palm.generate_text(model=model,prompt=prompt,temperature=0.5,max_output_tokens=1024)\n",
    "        model_answer=completion.result\n",
    "        # Write the question and the new answer to the text file\n",
    "        file.write(f\"QUESTION: {question}\\n***********************************\\nANSWER: {answer}\\n**********************************\\nMODEL's_ANSWER: {model_answer}\\n##############################################################################################\\n\")\n",
    "\n",
    "\n",
    "\n",
    "\n",
    "\n",
    "\n",
    "print(\"Text file 'evaluation_PaLM_2shot_standardPrompt.txt' created successfully.\")"
   ]
  },
  {
   "cell_type": "markdown",
   "metadata": {
    "id": "dz9f_Jvee_18"
   },
   "source": [
    "## 1 shot standard prompt"
   ]
  },
  {
   "cell_type": "code",
   "execution_count": 22,
   "metadata": {
    "colab": {
     "base_uri": "https://localhost:8080/",
     "height": 425
    },
    "id": "14P3nRnre_18",
    "outputId": "57d2f20f-d891-45e9-cfab-d9d916c87f3e"
   },
   "outputs": [
    {
     "name": "stdout",
     "output_type": "stream",
     "text": [
      "Text file 'evaluation_PaLM_1shot_standardPrompt.txt' created successfully.\n"
     ]
    }
   ],
   "source": [
    "import pandas as pd\n",
    "\n",
    "\n",
    "\n",
    "# Open the text file in write mode\n",
    "with open('evaluation_PaLM_1shot_standardPrompt.txt', 'w',encoding=\"utf-8\") as file:\n",
    "    # Iterate over each row in the DataFrame\n",
    "    for index, row in df.iterrows():\n",
    "        question = row['question']\n",
    "        answer = row['answer']\n",
    "        prompt=f'''\n",
    "        After looking at the following 1 question and its answer  , solve the 2nd question:\n",
    "        Question1: \"There are 15 trees in the grove. Grove workers will plant trees in the grove today. After they are done, there will be 21 trees. How many trees did the grove workers plant today?\"\n",
    "        Answer: \"The answer is 6.\"\n",
    "\n",
    "\n",
    "        Question2: {question}\n",
    "        '''\n",
    "        completion=palm.generate_text(model=model,prompt=prompt,temperature=0.5,max_output_tokens=1024)\n",
    "        model_answer=completion.result\n",
    "        # Write the question and the new answer to the text file\n",
    "        file.write(f\"QUESTION: {question}\\n***********************************\\nANSWER: {answer}\\n**********************************\\nMODEL's_ANSWER: {model_answer}\\n##############################################################################################\\n\")\n",
    "\n",
    "\n",
    "\n",
    "\n",
    "\n",
    "\n",
    "print(\"Text file 'evaluation_PaLM_1shot_standardPrompt.txt' created successfully.\")"
   ]
  },
  {
   "cell_type": "markdown",
   "metadata": {
    "id": "Py3kS5-Je_18"
   },
   "source": [
    "## Zero shot standard prompt"
   ]
  },
  {
   "cell_type": "code",
   "execution_count": 23,
   "metadata": {
    "id": "ihe6tDSNe_18"
   },
   "outputs": [
    {
     "name": "stdout",
     "output_type": "stream",
     "text": [
      "Text file 'evaluation_PaLM_0shot_standardPrompt.txt' created successfully.\n"
     ]
    }
   ],
   "source": [
    "import pandas as pd\n",
    "\n",
    "\n",
    "\n",
    "# Open the text file in write mode\n",
    "with open('evaluation_PaLM_0shot_standardPrompt.txt', 'w',encoding=\"utf-8\") as file:\n",
    "    # Iterate over each row in the DataFrame\n",
    "    for index, row in df.iterrows():\n",
    "        question = row['question']\n",
    "        answer = row['answer']\n",
    "        prompt=f'''\n",
    "        Solve the following question:\n",
    "\n",
    "\n",
    "\n",
    "        Question1: {question}\n",
    "        '''\n",
    "        completion=palm.generate_text(model=model,prompt=prompt,temperature=0.5,max_output_tokens=1024)\n",
    "        model_answer=completion.result\n",
    "        # Write the question and the new answer to the text file\n",
    "        file.write(f\"QUESTION: {question}\\n***********************************\\nANSWER: {answer}\\n**********************************\\nMODEL's_ANSWER: {model_answer}\\n##############################################################################################\\n\")\n",
    "\n",
    "\n",
    "\n",
    "\n",
    "\n",
    "\n",
    "print(\"Text file 'evaluation_PaLM_0shot_standardPrompt.txt' created successfully.\")"
   ]
  },
  {
   "cell_type": "markdown",
   "metadata": {},
   "source": [
    "Let's count the number of answers matching with the modedl's answers in standard prompt. For CoT prompt we will check it manually becuase there we will not only check the final answers but also whether the CoT reasoning is corrrect or not."
   ]
  },
  {
   "cell_type": "code",
   "execution_count": 24,
   "metadata": {},
   "outputs": [],
   "source": [
    "import re\n",
    "\n",
    "def extract_numerical_value(sentence):\n",
    "    # Regular expression pattern to match numerical values\n",
    "    pattern = r'\\b\\d+\\b'\n",
    "\n",
    "    # Find all numerical values in the sentence using regex\n",
    "    numerical_values = re.findall(pattern, sentence)\n",
    "\n",
    "    # If numerical values are found, return the first one\n",
    "    if numerical_values:\n",
    "        return int(numerical_values[0])  # Assuming you want integers\n",
    "    else:\n",
    "        return None  # Return None if no numerical value is found"
   ]
  },
  {
   "cell_type": "code",
   "execution_count": 19,
   "metadata": {},
   "outputs": [
    {
     "name": "stdout",
     "output_type": "stream",
     "text": [
      "Model gave the correct answers with 8shot standard prompts : 37 number of times.\n"
     ]
    }
   ],
   "source": [
    "import numpy as np\n",
    "# Open the text file\n",
    "with open('evaluation_PaLM_8shot_standardPrompt.txt', 'r') as file:\n",
    "    lines = file.readlines()\n",
    "\n",
    "# Initialize count for same numerical values\n",
    "same_count = 0\n",
    "\n",
    "# Initialize variables to store numerical values\n",
    "Value1 = []\n",
    "Value2 = []\n",
    "\n",
    "# Loop through each line in the file\n",
    "for line in lines:\n",
    "    # Check if the line starts with '####' and extract the numerical value\n",
    "    if line.startswith('####')and not line.startswith(\"##############################################################################################\"):\n",
    "        #print(line)\n",
    "        value1 = float((line.split()[-1]).replace(',',''))\n",
    "        Value1.append(value1)\n",
    "    # Check if the line contains 'MODEL's_ANSWER' and extract the numerical value\n",
    "    elif \"MODEL's_ANSWER\" in line:\n",
    "        # Extract numerical value from the line, handling different formats\n",
    "        value2=extract_numerical_value(line)\n",
    "        Value2.append(value2)\n",
    "Value1=np.array(Value1)\n",
    "Value2=np.array(Value2)\n",
    "same_count = np.count_nonzero(Value1 == Value2)\n",
    "print(f\"Model gave the correct answers with 8shot standard prompts : {same_count} number of times.\")"
   ]
  },
  {
   "cell_type": "code",
   "execution_count": 20,
   "metadata": {},
   "outputs": [
    {
     "name": "stdout",
     "output_type": "stream",
     "text": [
      "Model gave the correct answers with 7shot standard prompts : 37 number of times.\n"
     ]
    }
   ],
   "source": [
    "import numpy as np\n",
    "# Open the text file\n",
    "with open('evaluation_PaLM_7shot_standardPrompt.txt', 'r') as file:\n",
    "    lines = file.readlines()\n",
    "\n",
    "# Initialize count for same numerical values\n",
    "same_count = 0\n",
    "\n",
    "# Initialize variables to store numerical values\n",
    "Value1 = []\n",
    "Value2 = []\n",
    "\n",
    "# Loop through each line in the file\n",
    "for line in lines:\n",
    "    # Check if the line starts with '####' and extract the numerical value\n",
    "    if line.startswith('####')and not line.startswith(\"##############################################################################################\"):\n",
    "        #print(line)\n",
    "        value1 = float((line.split()[-1]).replace(',',''))\n",
    "        Value1.append(value1)\n",
    "    # Check if the line contains 'MODEL's_ANSWER' and extract the numerical value\n",
    "    elif \"MODEL's_ANSWER\" in line:\n",
    "        # Extract numerical value from the line, handling different formats\n",
    "        value2=extract_numerical_value(line)\n",
    "        Value2.append(value2)\n",
    "Value1=np.array(Value1)\n",
    "Value2=np.array(Value2)\n",
    "same_count = np.count_nonzero(Value1 == Value2)\n",
    "print(f\"Model gave the correct answers with 7shot standard prompts : {same_count} number of times.\")"
   ]
  },
  {
   "cell_type": "code",
   "execution_count": 21,
   "metadata": {},
   "outputs": [
    {
     "name": "stdout",
     "output_type": "stream",
     "text": [
      "Model gave the correct answers with 6shot standard prompts : 35 number of times.\n"
     ]
    }
   ],
   "source": [
    "import numpy as np\n",
    "# Open the text file\n",
    "with open('evaluation_PaLM_6shot_standardPrompt.txt', 'r') as file:\n",
    "    lines = file.readlines()\n",
    "\n",
    "# Initialize count for same numerical values\n",
    "same_count = 0\n",
    "\n",
    "# Initialize variables to store numerical values\n",
    "Value1 = []\n",
    "Value2 = []\n",
    "\n",
    "# Loop through each line in the file\n",
    "for line in lines:\n",
    "    # Check if the line starts with '####' and extract the numerical value\n",
    "    if line.startswith('####')and not line.startswith(\"##############################################################################################\"):\n",
    "        #print(line)\n",
    "        value1 = float((line.split()[-1]).replace(',',''))\n",
    "        Value1.append(value1)\n",
    "    # Check if the line contains 'MODEL's_ANSWER' and extract the numerical value\n",
    "    elif \"MODEL's_ANSWER\" in line:\n",
    "        # Extract numerical value from the line, handling different formats\n",
    "        value2=extract_numerical_value(line)\n",
    "        Value2.append(value2)\n",
    "Value1=np.array(Value1)\n",
    "Value2=np.array(Value2)\n",
    "same_count = np.count_nonzero(Value1 == Value2)\n",
    "print(f\"Model gave the correct answers with 6shot standard prompts : {same_count} number of times.\")"
   ]
  },
  {
   "cell_type": "code",
   "execution_count": 22,
   "metadata": {},
   "outputs": [
    {
     "name": "stdout",
     "output_type": "stream",
     "text": [
      "Model gave the correct answers with 5shot standard prompts : 32 number of times.\n"
     ]
    }
   ],
   "source": [
    "import numpy as np\n",
    "# Open the text file\n",
    "with open('evaluation_PaLM_5shot_standardPrompt.txt', 'r') as file:\n",
    "    lines = file.readlines()\n",
    "\n",
    "# Initialize count for same numerical values\n",
    "same_count = 0\n",
    "\n",
    "# Initialize variables to store numerical values\n",
    "Value1 = []\n",
    "Value2 = []\n",
    "\n",
    "# Loop through each line in the file\n",
    "for line in lines:\n",
    "    # Check if the line starts with '####' and extract the numerical value\n",
    "    if line.startswith('####')and not line.startswith(\"##############################################################################################\"):\n",
    "        #print(line)\n",
    "        value1 = float((line.split()[-1]).replace(',',''))\n",
    "        Value1.append(value1)\n",
    "    # Check if the line contains 'MODEL's_ANSWER' and extract the numerical value\n",
    "    elif \"MODEL's_ANSWER\" in line:\n",
    "        # Extract numerical value from the line, handling different formats\n",
    "        value2=extract_numerical_value(line)\n",
    "        Value2.append(value2)\n",
    "Value1=np.array(Value1)\n",
    "Value2=np.array(Value2)\n",
    "same_count = np.count_nonzero(Value1 == Value2)\n",
    "print(f\"Model gave the correct answers with 5shot standard prompts : {same_count} number of times.\")"
   ]
  },
  {
   "cell_type": "code",
   "execution_count": 23,
   "metadata": {},
   "outputs": [
    {
     "name": "stdout",
     "output_type": "stream",
     "text": [
      "Model gave the correct answers with 4shot standard prompts : 33 number of times.\n"
     ]
    }
   ],
   "source": [
    "import numpy as np\n",
    "# Open the text file\n",
    "with open('evaluation_PaLM_4shot_standardPrompt.txt', 'r') as file:\n",
    "    lines = file.readlines()\n",
    "\n",
    "# Initialize count for same numerical values\n",
    "same_count = 0\n",
    "\n",
    "# Initialize variables to store numerical values\n",
    "Value1 = []\n",
    "Value2 = []\n",
    "\n",
    "# Loop through each line in the file\n",
    "for line in lines:\n",
    "    # Check if the line starts with '####' and extract the numerical value\n",
    "    if line.startswith('####')and not line.startswith(\"##############################################################################################\"):\n",
    "        #print(line)\n",
    "        value1 = float((line.split()[-1]).replace(',',''))\n",
    "        Value1.append(value1)\n",
    "    # Check if the line contains 'MODEL's_ANSWER' and extract the numerical value\n",
    "    elif \"MODEL's_ANSWER\" in line:\n",
    "        # Extract numerical value from the line, handling different formats\n",
    "        value2=extract_numerical_value(line)\n",
    "        Value2.append(value2)\n",
    "Value1=np.array(Value1)\n",
    "Value2=np.array(Value2)\n",
    "same_count = np.count_nonzero(Value1 == Value2)\n",
    "print(f\"Model gave the correct answers with 4shot standard prompts : {same_count} number of times.\")"
   ]
  },
  {
   "cell_type": "code",
   "execution_count": 24,
   "metadata": {},
   "outputs": [
    {
     "name": "stdout",
     "output_type": "stream",
     "text": [
      "Model gave the correct answers with 3shot standard prompts : 35 number of times.\n"
     ]
    }
   ],
   "source": [
    "import numpy as np\n",
    "# Open the text file\n",
    "with open('evaluation_PaLM_3shot_standardPrompt.txt', 'r') as file:\n",
    "    lines = file.readlines()\n",
    "\n",
    "# Initialize count for same numerical values\n",
    "same_count = 0\n",
    "\n",
    "# Initialize variables to store numerical values\n",
    "Value1 = []\n",
    "Value2 = []\n",
    "\n",
    "# Loop through each line in the file\n",
    "for line in lines:\n",
    "    # Check if the line starts with '####' and extract the numerical value\n",
    "    if line.startswith('####')and not line.startswith(\"##############################################################################################\"):\n",
    "        #print(line)\n",
    "        value1 = float((line.split()[-1]).replace(',',''))\n",
    "        Value1.append(value1)\n",
    "    # Check if the line contains 'MODEL's_ANSWER' and extract the numerical value\n",
    "    elif \"MODEL's_ANSWER\" in line:\n",
    "        # Extract numerical value from the line, handling different formats\n",
    "        value2=extract_numerical_value(line)\n",
    "        Value2.append(value2)\n",
    "Value1=np.array(Value1)\n",
    "Value2=np.array(Value2)\n",
    "same_count = np.count_nonzero(Value1 == Value2)\n",
    "print(f\"Model gave the correct answers with 3shot standard prompts : {same_count} number of times.\")"
   ]
  },
  {
   "cell_type": "code",
   "execution_count": 25,
   "metadata": {},
   "outputs": [
    {
     "name": "stdout",
     "output_type": "stream",
     "text": [
      "Model gave the correct answers with 2shot standard prompts : 28 number of times.\n"
     ]
    }
   ],
   "source": [
    "import numpy as np\n",
    "# Open the text file\n",
    "with open('evaluation_PaLM_2shot_standardPrompt.txt', 'r') as file:\n",
    "    lines = file.readlines()\n",
    "\n",
    "# Initialize count for same numerical values\n",
    "same_count = 0\n",
    "\n",
    "# Initialize variables to store numerical values\n",
    "Value1 = []\n",
    "Value2 = []\n",
    "\n",
    "# Loop through each line in the file\n",
    "for line in lines:\n",
    "    # Check if the line starts with '####' and extract the numerical value\n",
    "    if line.startswith('####')and not line.startswith(\"##############################################################################################\"):\n",
    "        #print(line)\n",
    "        value1 = float((line.split()[-1]).replace(',',''))\n",
    "        Value1.append(value1)\n",
    "    # Check if the line contains 'MODEL's_ANSWER' and extract the numerical value\n",
    "    elif \"MODEL's_ANSWER\" in line:\n",
    "        # Extract numerical value from the line, handling different formats\n",
    "        value2=extract_numerical_value(line)\n",
    "        Value2.append(value2)\n",
    "Value1=np.array(Value1)\n",
    "Value2=np.array(Value2)\n",
    "same_count = np.count_nonzero(Value1 == Value2)\n",
    "print(f\"Model gave the correct answers with 2shot standard prompts : {same_count} number of times.\")"
   ]
  },
  {
   "cell_type": "code",
   "execution_count": 25,
   "metadata": {},
   "outputs": [
    {
     "name": "stdout",
     "output_type": "stream",
     "text": [
      "Model gave the correct answers with 1shot standard prompts : 26 number of times.\n"
     ]
    }
   ],
   "source": [
    "import numpy as np\n",
    "# Open the text file\n",
    "with open('evaluation_PaLM_1shot_standardPrompt.txt', 'r') as file:\n",
    "    lines = file.readlines()\n",
    "\n",
    "# Initialize count for same numerical values\n",
    "same_count = 0\n",
    "\n",
    "# Initialize variables to store numerical values\n",
    "Value1 = []\n",
    "Value2 = []\n",
    "\n",
    "# Loop through each line in the file\n",
    "for line in lines:\n",
    "    # Check if the line starts with '####' and extract the numerical value\n",
    "    if line.startswith('####')and not line.startswith(\"##############################################################################################\"):\n",
    "        #print(line)\n",
    "        value1 = float((line.split()[-1]).replace(',',''))\n",
    "        Value1.append(value1)\n",
    "    # Check if the line contains 'MODEL's_ANSWER' and extract the numerical value\n",
    "    elif \"MODEL's_ANSWER\" in line:\n",
    "        # Extract numerical value from the line, handling different formats\n",
    "        value2=extract_numerical_value(line)\n",
    "        Value2.append(value2)\n",
    "Value1=np.array(Value1)\n",
    "Value2=np.array(Value2)\n",
    "same_count = np.count_nonzero(Value1 == Value2)\n",
    "print(f\"Model gave the correct answers with 1shot standard prompts : {same_count} number of times.\")"
   ]
  },
  {
   "cell_type": "code",
   "execution_count": 26,
   "metadata": {},
   "outputs": [
    {
     "name": "stdout",
     "output_type": "stream",
     "text": [
      "Model gave the correct answers with 0shot standard prompts : 24 number of times.\n"
     ]
    }
   ],
   "source": [
    "import numpy as np\n",
    "# Open the text file\n",
    "with open('evaluation_PaLM_0shot_standardPrompt.txt', 'r') as file:\n",
    "    lines = file.readlines()\n",
    "\n",
    "# Initialize count for same numerical values\n",
    "same_count = 0\n",
    "\n",
    "# Initialize variables to store numerical values\n",
    "Value1 = []\n",
    "Value2 = []\n",
    "\n",
    "# Loop through each line in the file\n",
    "for line in lines:\n",
    "    # Check if the line starts with '####' and extract the numerical value\n",
    "    if line.startswith('####')and not line.startswith(\"##############################################################################################\"):\n",
    "        #print(line)\n",
    "        value1 = float((line.split()[-1]).replace(',',''))\n",
    "        Value1.append(value1)\n",
    "    # Check if the line contains 'MODEL's_ANSWER' and extract the numerical value\n",
    "    elif \"MODEL's_ANSWER\" in line:\n",
    "        # Extract numerical value from the line, handling different formats\n",
    "        value2=extract_numerical_value(line)\n",
    "        Value2.append(value2)\n",
    "Value1=np.array(Value1)\n",
    "Value2=np.array(Value2)\n",
    "same_count = np.count_nonzero(Value1 == Value2)\n",
    "print(f\"Model gave the correct answers with 0shot standard prompts : {same_count} number of times.\")"
   ]
  },
  {
   "cell_type": "markdown",
   "metadata": {},
   "source": [
    "Analyzing Performance "
   ]
  },
  {
   "cell_type": "code",
   "execution_count": 31,
   "metadata": {},
   "outputs": [
    {
     "data": {
      "image/png": "[encoded data removed]",
      "text/plain": [
       "<Figure size 1000x500 with 1 Axes>"
      ]
     },
     "metadata": {},
     "output_type": "display_data"
    }
   ],
   "source": [
    "import matplotlib.pyplot as plt\n",
    "\n",
    "import numpy as np\n",
    "# Data\n",
    "shot_num = [0, 1, 2, 3, 4,5,6,7,8]\n",
    "standard_prom = [24,26,28,35,33,32,35,37,37]\n",
    "CoT_prom= [102,122,117,121,128,125,123,128,126]\n",
    "CoT_prom=list((100/200)*np.array(CoT_prom))\n",
    "standard_prom=list((100/200)*np.array(standard_prom))\n",
    "\n",
    "\n",
    "# Plot\n",
    "plt.figure(figsize=(10, 5))\n",
    "\n",
    "plt.plot(shot_num, CoT_prom, marker='o', label='CoT Prompt', color='blue')\n",
    "plt.plot(shot_num, standard_prom, marker='o', label='Standard Prompt', color='red')\n",
    "\n",
    "plt.title('Comparison of CoT Prompt and Standard Prompt performance for GSM8K data in PaLM')\n",
    "plt.xlabel('Few shot examples')\n",
    "plt.ylabel('% of correct answers')\n",
    "plt.xticks(shot_num)  # Set x-axis ticks to match shot numbers\n",
    "plt.grid(True)\n",
    "plt.legend()\n",
    "\n",
    "# Save the plot as image1.png\n",
    "plt.savefig('GSM8K.png')\n",
    "\n",
    "# Show the plot\n",
    "plt.show()"
   ]
  }
 ],
 "metadata": {
  "colab": {
   "provenance": []
  },
  "kernelspec": {
   "display_name": "Python 3 (ipykernel)",
   "language": "python",
   "name": "python3"
  },
  "language_info": {
   "codemirror_mode": {
    "name": "ipython",
    "version": 3
   },
   "file_extension": ".py",
   "mimetype": "text/x-python",
   "name": "python",
   "nbconvert_exporter": "python",
   "pygments_lexer": "ipython3",
   "version": "3.11.7"
  },
  "widgets": {
   "application/vnd.jupyter.widget-state+json": {
    "03ddc0772c7149e8aaac52511890176f": {
     "model_module": "@jupyter-widgets/controls",
     "model_module_version": "1.5.0",
     "model_name": "ProgressStyleModel",
     "state": {
      "_model_module": "@jupyter-widgets/controls",
      "_model_module_version": "1.5.0",
      "_model_name": "ProgressStyleModel",
      "_view_count": null,
      "_view_module": "@jupyter-widgets/base",
      "_view_module_version": "1.2.0",
      "_view_name": "StyleView",
      "bar_color": null,
      "description_width": ""
     }
    },
    "0c333fdcef3c49db8741903571d9e1ef": {
     "model_module": "@jupyter-widgets/controls",
     "model_module_version": "1.5.0",
     "model_name": "HBoxModel",
     "state": {
      "_dom_classes": [],
      "_model_module": "@jupyter-widgets/controls",
      "_model_module_version": "1.5.0",
      "_model_name": "HBoxModel",
      "_view_count": null,
      "_view_module": "@jupyter-widgets/controls",
      "_view_module_version": "1.5.0",
      "_view_name": "HBoxView",
      "box_style": "",
      "children": [
       "IPY_MODEL_cb950dccf5ee4285a67ee1be30b9b183",
       "IPY_MODEL_2afbdbd8fe28488380803234e20fa5bf",
       "IPY_MODEL_43724bbb04184aaabbf99ae46811a4f8"
      ],
      "layout": "IPY_MODEL_97b8c2987a5b4722a85a88cf4ac5e09e"
     }
    },
    "0eb20c78611040538c2dda178abd6915": {
     "model_module": "@jupyter-widgets/controls",
     "model_module_version": "1.5.0",
     "model_name": "HTMLModel",
     "state": {
      "_dom_classes": [],
      "_model_module": "@jupyter-widgets/controls",
      "_model_module_version": "1.5.0",
      "_model_name": "HTMLModel",
      "_view_count": null,
      "_view_module": "@jupyter-widgets/controls",
      "_view_module_version": "1.5.0",
      "_view_name": "HTMLView",
      "description": "",
      "description_tooltip": null,
      "layout": "IPY_MODEL_48444bf8d4ac4bd39e4435b0b0ad2eb5",
      "placeholder": "​",
      "style": "IPY_MODEL_c3e491c736e8491586d4601c9def7590",
      "value": " 419k/419k [00:00&lt;00:00, 2.17MB/s]"
     }
    },
    "13d88a23a7764638bfeaf91537493ae1": {
     "model_module": "@jupyter-widgets/base",
     "model_module_version": "1.2.0",
     "model_name": "LayoutModel",
     "state": {
      "_model_module": "@jupyter-widgets/base",
      "_model_module_version": "1.2.0",
      "_model_name": "LayoutModel",
      "_view_count": null,
      "_view_module": "@jupyter-widgets/base",
      "_view_module_version": "1.2.0",
      "_view_name": "LayoutView",
      "align_content": null,
      "align_items": null,
      "align_self": null,
      "border": null,
      "bottom": null,
      "display": null,
      "flex": null,
      "flex_flow": null,
      "grid_area": null,
      "grid_auto_columns": null,
      "grid_auto_flow": null,
      "grid_auto_rows": null,
      "grid_column": null,
      "grid_gap": null,
      "grid_row": null,
      "grid_template_areas": null,
      "grid_template_columns": null,
      "grid_template_rows": null,
      "height": null,
      "justify_content": null,
      "justify_items": null,
      "left": null,
      "margin": null,
      "max_height": null,
      "max_width": null,
      "min_height": null,
      "min_width": null,
      "object_fit": null,
      "object_position": null,
      "order": null,
      "overflow": null,
      "overflow_x": null,
      "overflow_y": null,
      "padding": null,
      "right": null,
      "top": null,
      "visibility": null,
      "width": null
     }
    },
    "143c6da986f44f78a178306ce2ab08ec": {
     "model_module": "@jupyter-widgets/controls",
     "model_module_version": "1.5.0",
     "model_name": "HTMLModel",
     "state": {
      "_dom_classes": [],
      "_model_module": "@jupyter-widgets/controls",
      "_model_module_version": "1.5.0",
      "_model_name": "HTMLModel",
      "_view_count": null,
      "_view_module": "@jupyter-widgets/controls",
      "_view_module_version": "1.5.0",
      "_view_name": "HTMLView",
      "description": "",
      "description_tooltip": null,
      "layout": "IPY_MODEL_4f378a19f4914057a78eb860c5310356",
      "placeholder": "​",
      "style": "IPY_MODEL_ea4e37c3cc3c40e782166369fe2e3bbd",
      "value": "Downloading readme: 100%"
     }
    },
    "183a78594a9f418da05038f2bd39dca7": {
     "model_module": "@jupyter-widgets/controls",
     "model_module_version": "1.5.0",
     "model_name": "HTMLModel",
     "state": {
      "_dom_classes": [],
      "_model_module": "@jupyter-widgets/controls",
      "_model_module_version": "1.5.0",
      "_model_name": "HTMLModel",
      "_view_count": null,
      "_view_module": "@jupyter-widgets/controls",
      "_view_module_version": "1.5.0",
      "_view_name": "HTMLView",
      "description": "",
      "description_tooltip": null,
      "layout": "IPY_MODEL_6e2eb0cd85634cbfabdb96dae1fd6c73",
      "placeholder": "​",
      "style": "IPY_MODEL_ef0e146b04174d3c951a725e187949ab",
      "value": " 7473/7473 [00:00&lt;00:00, 28418.75 examples/s]"
     }
    },
    "19f1a3cb98a14db082c832a7d5d25250": {
     "model_module": "@jupyter-widgets/controls",
     "model_module_version": "1.5.0",
     "model_name": "HTMLModel",
     "state": {
      "_dom_classes": [],
      "_model_module": "@jupyter-widgets/controls",
      "_model_module_version": "1.5.0",
      "_model_name": "HTMLModel",
      "_view_count": null,
      "_view_module": "@jupyter-widgets/controls",
      "_view_module_version": "1.5.0",
      "_view_name": "HTMLView",
      "description": "",
      "description_tooltip": null,
      "layout": "IPY_MODEL_e227fe428c5e4bf28d8acf078cf174c9",
      "placeholder": "​",
      "style": "IPY_MODEL_9be755e6bbc14fce8de7284bd5d07d80",
      "value": "Downloading data: 100%"
     }
    },
    "1b151551e0e74b92b89a2d1ed9ee2613": {
     "model_module": "@jupyter-widgets/controls",
     "model_module_version": "1.5.0",
     "model_name": "HBoxModel",
     "state": {
      "_dom_classes": [],
      "_model_module": "@jupyter-widgets/controls",
      "_model_module_version": "1.5.0",
      "_model_name": "HBoxModel",
      "_view_count": null,
      "_view_module": "@jupyter-widgets/controls",
      "_view_module_version": "1.5.0",
      "_view_name": "HBoxView",
      "box_style": "",
      "children": [
       "IPY_MODEL_a0b41ab3250b4060abfab9db8a52b465",
       "IPY_MODEL_73e6d87c3eb244a88b9749c271cd0ee7",
       "IPY_MODEL_0eb20c78611040538c2dda178abd6915"
      ],
      "layout": "IPY_MODEL_13d88a23a7764638bfeaf91537493ae1"
     }
    },
    "1ecb664928e54ab396b38a97c3a8850c": {
     "model_module": "@jupyter-widgets/controls",
     "model_module_version": "1.5.0",
     "model_name": "DescriptionStyleModel",
     "state": {
      "_model_module": "@jupyter-widgets/controls",
      "_model_module_version": "1.5.0",
      "_model_name": "DescriptionStyleModel",
      "_view_count": null,
      "_view_module": "@jupyter-widgets/base",
      "_view_module_version": "1.2.0",
      "_view_name": "StyleView",
      "description_width": ""
     }
    },
    "227ef86b85064219a8252d706564fe75": {
     "model_module": "@jupyter-widgets/base",
     "model_module_version": "1.2.0",
     "model_name": "LayoutModel",
     "state": {
      "_model_module": "@jupyter-widgets/base",
      "_model_module_version": "1.2.0",
      "_model_name": "LayoutModel",
      "_view_count": null,
      "_view_module": "@jupyter-widgets/base",
      "_view_module_version": "1.2.0",
      "_view_name": "LayoutView",
      "align_content": null,
      "align_items": null,
      "align_self": null,
      "border": null,
      "bottom": null,
      "display": null,
      "flex": null,
      "flex_flow": null,
      "grid_area": null,
      "grid_auto_columns": null,
      "grid_auto_flow": null,
      "grid_auto_rows": null,
      "grid_column": null,
      "grid_gap": null,
      "grid_row": null,
      "grid_template_areas": null,
      "grid_template_columns": null,
      "grid_template_rows": null,
      "height": null,
      "justify_content": null,
      "justify_items": null,
      "left": null,
      "margin": null,
      "max_height": null,
      "max_width": null,
      "min_height": null,
      "min_width": null,
      "object_fit": null,
      "object_position": null,
      "order": null,
      "overflow": null,
      "overflow_x": null,
      "overflow_y": null,
      "padding": null,
      "right": null,
      "top": null,
      "visibility": null,
      "width": null
     }
    },
    "27e8869bdc0d4d15b675a3ada686dc6d": {
     "model_module": "@jupyter-widgets/base",
     "model_module_version": "1.2.0",
     "model_name": "LayoutModel",
     "state": {
      "_model_module": "@jupyter-widgets/base",
      "_model_module_version": "1.2.0",
      "_model_name": "LayoutModel",
      "_view_count": null,
      "_view_module": "@jupyter-widgets/base",
      "_view_module_version": "1.2.0",
      "_view_name": "LayoutView",
      "align_content": null,
      "align_items": null,
      "align_self": null,
      "border": null,
      "bottom": null,
      "display": null,
      "flex": null,
      "flex_flow": null,
      "grid_area": null,
      "grid_auto_columns": null,
      "grid_auto_flow": null,
      "grid_auto_rows": null,
      "grid_column": null,
      "grid_gap": null,
      "grid_row": null,
      "grid_template_areas": null,
      "grid_template_columns": null,
      "grid_template_rows": null,
      "height": null,
      "justify_content": null,
      "justify_items": null,
      "left": null,
      "margin": null,
      "max_height": null,
      "max_width": null,
      "min_height": null,
      "min_width": null,
      "object_fit": null,
      "object_position": null,
      "order": null,
      "overflow": null,
      "overflow_x": null,
      "overflow_y": null,
      "padding": null,
      "right": null,
      "top": null,
      "visibility": null,
      "width": null
     }
    },
    "2a9be4b0de17409ca8c1ffbe6c7ff817": {
     "model_module": "@jupyter-widgets/controls",
     "model_module_version": "1.5.0",
     "model_name": "ProgressStyleModel",
     "state": {
      "_model_module": "@jupyter-widgets/controls",
      "_model_module_version": "1.5.0",
      "_model_name": "ProgressStyleModel",
      "_view_count": null,
      "_view_module": "@jupyter-widgets/base",
      "_view_module_version": "1.2.0",
      "_view_name": "StyleView",
      "bar_color": null,
      "description_width": ""
     }
    },
    "2afbdbd8fe28488380803234e20fa5bf": {
     "model_module": "@jupyter-widgets/controls",
     "model_module_version": "1.5.0",
     "model_name": "FloatProgressModel",
     "state": {
      "_dom_classes": [],
      "_model_module": "@jupyter-widgets/controls",
      "_model_module_version": "1.5.0",
      "_model_name": "FloatProgressModel",
      "_view_count": null,
      "_view_module": "@jupyter-widgets/controls",
      "_view_module_version": "1.5.0",
      "_view_name": "ProgressView",
      "bar_style": "success",
      "description": "",
      "description_tooltip": null,
      "layout": "IPY_MODEL_e5567f43ce634ecfb927344689dacf4b",
      "max": 1319,
      "min": 0,
      "orientation": "horizontal",
      "style": "IPY_MODEL_4b3d96a97b1a45898def28d8fb6cd5da",
      "value": 1319
     }
    },
    "2ba4ab376c5d47f4a8597558c46fb36a": {
     "model_module": "@jupyter-widgets/controls",
     "model_module_version": "1.5.0",
     "model_name": "DescriptionStyleModel",
     "state": {
      "_model_module": "@jupyter-widgets/controls",
      "_model_module_version": "1.5.0",
      "_model_name": "DescriptionStyleModel",
      "_view_count": null,
      "_view_module": "@jupyter-widgets/base",
      "_view_module_version": "1.2.0",
      "_view_name": "StyleView",
      "description_width": ""
     }
    },
    "2ced5bb4b4ed49c68270961c15af1f18": {
     "model_module": "@jupyter-widgets/controls",
     "model_module_version": "1.5.0",
     "model_name": "HBoxModel",
     "state": {
      "_dom_classes": [],
      "_model_module": "@jupyter-widgets/controls",
      "_model_module_version": "1.5.0",
      "_model_name": "HBoxModel",
      "_view_count": null,
      "_view_module": "@jupyter-widgets/controls",
      "_view_module_version": "1.5.0",
      "_view_name": "HBoxView",
      "box_style": "",
      "children": [
       "IPY_MODEL_19f1a3cb98a14db082c832a7d5d25250",
       "IPY_MODEL_809ccc771d144032a2ff75cfab62c04c",
       "IPY_MODEL_70b1629225114b0da4f47025fb8dfbf0"
      ],
      "layout": "IPY_MODEL_a39a0aa634374190b719c9086df0176e"
     }
    },
    "306de26f54f743cb9f61fb1bb30508d6": {
     "model_module": "@jupyter-widgets/base",
     "model_module_version": "1.2.0",
     "model_name": "LayoutModel",
     "state": {
      "_model_module": "@jupyter-widgets/base",
      "_model_module_version": "1.2.0",
      "_model_name": "LayoutModel",
      "_view_count": null,
      "_view_module": "@jupyter-widgets/base",
      "_view_module_version": "1.2.0",
      "_view_name": "LayoutView",
      "align_content": null,
      "align_items": null,
      "align_self": null,
      "border": null,
      "bottom": null,
      "display": null,
      "flex": null,
      "flex_flow": null,
      "grid_area": null,
      "grid_auto_columns": null,
      "grid_auto_flow": null,
      "grid_auto_rows": null,
      "grid_column": null,
      "grid_gap": null,
      "grid_row": null,
      "grid_template_areas": null,
      "grid_template_columns": null,
      "grid_template_rows": null,
      "height": null,
      "justify_content": null,
      "justify_items": null,
      "left": null,
      "margin": null,
      "max_height": null,
      "max_width": null,
      "min_height": null,
      "min_width": null,
      "object_fit": null,
      "object_position": null,
      "order": null,
      "overflow": null,
      "overflow_x": null,
      "overflow_y": null,
      "padding": null,
      "right": null,
      "top": null,
      "visibility": null,
      "width": null
     }
    },
    "342b448f90084bb1a1b9f36714529f22": {
     "model_module": "@jupyter-widgets/controls",
     "model_module_version": "1.5.0",
     "model_name": "HTMLModel",
     "state": {
      "_dom_classes": [],
      "_model_module": "@jupyter-widgets/controls",
      "_model_module_version": "1.5.0",
      "_model_name": "HTMLModel",
      "_view_count": null,
      "_view_module": "@jupyter-widgets/controls",
      "_view_module_version": "1.5.0",
      "_view_name": "HTMLView",
      "description": "",
      "description_tooltip": null,
      "layout": "IPY_MODEL_306de26f54f743cb9f61fb1bb30508d6",
      "placeholder": "​",
      "style": "IPY_MODEL_2ba4ab376c5d47f4a8597558c46fb36a",
      "value": " 7.94k/7.94k [00:00&lt;00:00, 373kB/s]"
     }
    },
    "43724bbb04184aaabbf99ae46811a4f8": {
     "model_module": "@jupyter-widgets/controls",
     "model_module_version": "1.5.0",
     "model_name": "HTMLModel",
     "state": {
      "_dom_classes": [],
      "_model_module": "@jupyter-widgets/controls",
      "_model_module_version": "1.5.0",
      "_model_name": "HTMLModel",
      "_view_count": null,
      "_view_module": "@jupyter-widgets/controls",
      "_view_module_version": "1.5.0",
      "_view_name": "HTMLView",
      "description": "",
      "description_tooltip": null,
      "layout": "IPY_MODEL_27e8869bdc0d4d15b675a3ada686dc6d",
      "placeholder": "​",
      "style": "IPY_MODEL_b987b1163a7244dd9f6417c1ef5aed49",
      "value": " 1319/1319 [00:00&lt;00:00, 18773.18 examples/s]"
     }
    },
    "48444bf8d4ac4bd39e4435b0b0ad2eb5": {
     "model_module": "@jupyter-widgets/base",
     "model_module_version": "1.2.0",
     "model_name": "LayoutModel",
     "state": {
      "_model_module": "@jupyter-widgets/base",
      "_model_module_version": "1.2.0",
      "_model_name": "LayoutModel",
      "_view_count": null,
      "_view_module": "@jupyter-widgets/base",
      "_view_module_version": "1.2.0",
      "_view_name": "LayoutView",
      "align_content": null,
      "align_items": null,
      "align_self": null,
      "border": null,
      "bottom": null,
      "display": null,
      "flex": null,
      "flex_flow": null,
      "grid_area": null,
      "grid_auto_columns": null,
      "grid_auto_flow": null,
      "grid_auto_rows": null,
      "grid_column": null,
      "grid_gap": null,
      "grid_row": null,
      "grid_template_areas": null,
      "grid_template_columns": null,
      "grid_template_rows": null,
      "height": null,
      "justify_content": null,
      "justify_items": null,
      "left": null,
      "margin": null,
      "max_height": null,
      "max_width": null,
      "min_height": null,
      "min_width": null,
      "object_fit": null,
      "object_position": null,
      "order": null,
      "overflow": null,
      "overflow_x": null,
      "overflow_y": null,
      "padding": null,
      "right": null,
      "top": null,
      "visibility": null,
      "width": null
     }
    },
    "4b3d96a97b1a45898def28d8fb6cd5da": {
     "model_module": "@jupyter-widgets/controls",
     "model_module_version": "1.5.0",
     "model_name": "ProgressStyleModel",
     "state": {
      "_model_module": "@jupyter-widgets/controls",
      "_model_module_version": "1.5.0",
      "_model_name": "ProgressStyleModel",
      "_view_count": null,
      "_view_module": "@jupyter-widgets/base",
      "_view_module_version": "1.2.0",
      "_view_name": "StyleView",
      "bar_color": null,
      "description_width": ""
     }
    },
    "4c6afac7b55a4d36ab7bde0fc6b824a9": {
     "model_module": "@jupyter-widgets/controls",
     "model_module_version": "1.5.0",
     "model_name": "DescriptionStyleModel",
     "state": {
      "_model_module": "@jupyter-widgets/controls",
      "_model_module_version": "1.5.0",
      "_model_name": "DescriptionStyleModel",
      "_view_count": null,
      "_view_module": "@jupyter-widgets/base",
      "_view_module_version": "1.2.0",
      "_view_name": "StyleView",
      "description_width": ""
     }
    },
    "4f378a19f4914057a78eb860c5310356": {
     "model_module": "@jupyter-widgets/base",
     "model_module_version": "1.2.0",
     "model_name": "LayoutModel",
     "state": {
      "_model_module": "@jupyter-widgets/base",
      "_model_module_version": "1.2.0",
      "_model_name": "LayoutModel",
      "_view_count": null,
      "_view_module": "@jupyter-widgets/base",
      "_view_module_version": "1.2.0",
      "_view_name": "LayoutView",
      "align_content": null,
      "align_items": null,
      "align_self": null,
      "border": null,
      "bottom": null,
      "display": null,
      "flex": null,
      "flex_flow": null,
      "grid_area": null,
      "grid_auto_columns": null,
      "grid_auto_flow": null,
      "grid_auto_rows": null,
      "grid_column": null,
      "grid_gap": null,
      "grid_row": null,
      "grid_template_areas": null,
      "grid_template_columns": null,
      "grid_template_rows": null,
      "height": null,
      "justify_content": null,
      "justify_items": null,
      "left": null,
      "margin": null,
      "max_height": null,
      "max_width": null,
      "min_height": null,
      "min_width": null,
      "object_fit": null,
      "object_position": null,
      "order": null,
      "overflow": null,
      "overflow_x": null,
      "overflow_y": null,
      "padding": null,
      "right": null,
      "top": null,
      "visibility": null,
      "width": null
     }
    },
    "54cc169e9e1c4e1d8ac07c02982aff85": {
     "model_module": "@jupyter-widgets/base",
     "model_module_version": "1.2.0",
     "model_name": "LayoutModel",
     "state": {
      "_model_module": "@jupyter-widgets/base",
      "_model_module_version": "1.2.0",
      "_model_name": "LayoutModel",
      "_view_count": null,
      "_view_module": "@jupyter-widgets/base",
      "_view_module_version": "1.2.0",
      "_view_name": "LayoutView",
      "align_content": null,
      "align_items": null,
      "align_self": null,
      "border": null,
      "bottom": null,
      "display": null,
      "flex": null,
      "flex_flow": null,
      "grid_area": null,
      "grid_auto_columns": null,
      "grid_auto_flow": null,
      "grid_auto_rows": null,
      "grid_column": null,
      "grid_gap": null,
      "grid_row": null,
      "grid_template_areas": null,
      "grid_template_columns": null,
      "grid_template_rows": null,
      "height": null,
      "justify_content": null,
      "justify_items": null,
      "left": null,
      "margin": null,
      "max_height": null,
      "max_width": null,
      "min_height": null,
      "min_width": null,
      "object_fit": null,
      "object_position": null,
      "order": null,
      "overflow": null,
      "overflow_x": null,
      "overflow_y": null,
      "padding": null,
      "right": null,
      "top": null,
      "visibility": null,
      "width": null
     }
    },
    "59803fa914844d2f8fef45990ab277de": {
     "model_module": "@jupyter-widgets/controls",
     "model_module_version": "1.5.0",
     "model_name": "HBoxModel",
     "state": {
      "_dom_classes": [],
      "_model_module": "@jupyter-widgets/controls",
      "_model_module_version": "1.5.0",
      "_model_name": "HBoxModel",
      "_view_count": null,
      "_view_module": "@jupyter-widgets/controls",
      "_view_module_version": "1.5.0",
      "_view_name": "HBoxView",
      "box_style": "",
      "children": [
       "IPY_MODEL_ef652887e2a546879612875fbafb5a77",
       "IPY_MODEL_710aa9af4153440c83bae5eeb01cc246",
       "IPY_MODEL_183a78594a9f418da05038f2bd39dca7"
      ],
      "layout": "IPY_MODEL_54cc169e9e1c4e1d8ac07c02982aff85"
     }
    },
    "5a644c64ff17466ba979a64c3ddf9d4c": {
     "model_module": "@jupyter-widgets/controls",
     "model_module_version": "1.5.0",
     "model_name": "DescriptionStyleModel",
     "state": {
      "_model_module": "@jupyter-widgets/controls",
      "_model_module_version": "1.5.0",
      "_model_name": "DescriptionStyleModel",
      "_view_count": null,
      "_view_module": "@jupyter-widgets/base",
      "_view_module_version": "1.2.0",
      "_view_name": "StyleView",
      "description_width": ""
     }
    },
    "6e2eb0cd85634cbfabdb96dae1fd6c73": {
     "model_module": "@jupyter-widgets/base",
     "model_module_version": "1.2.0",
     "model_name": "LayoutModel",
     "state": {
      "_model_module": "@jupyter-widgets/base",
      "_model_module_version": "1.2.0",
      "_model_name": "LayoutModel",
      "_view_count": null,
      "_view_module": "@jupyter-widgets/base",
      "_view_module_version": "1.2.0",
      "_view_name": "LayoutView",
      "align_content": null,
      "align_items": null,
      "align_self": null,
      "border": null,
      "bottom": null,
      "display": null,
      "flex": null,
      "flex_flow": null,
      "grid_area": null,
      "grid_auto_columns": null,
      "grid_auto_flow": null,
      "grid_auto_rows": null,
      "grid_column": null,
      "grid_gap": null,
      "grid_row": null,
      "grid_template_areas": null,
      "grid_template_columns": null,
      "grid_template_rows": null,
      "height": null,
      "justify_content": null,
      "justify_items": null,
      "left": null,
      "margin": null,
      "max_height": null,
      "max_width": null,
      "min_height": null,
      "min_width": null,
      "object_fit": null,
      "object_position": null,
      "order": null,
      "overflow": null,
      "overflow_x": null,
      "overflow_y": null,
      "padding": null,
      "right": null,
      "top": null,
      "visibility": null,
      "width": null
     }
    },
    "6e557a840fd748db8aa41e35b40a037b": {
     "model_module": "@jupyter-widgets/controls",
     "model_module_version": "1.5.0",
     "model_name": "DescriptionStyleModel",
     "state": {
      "_model_module": "@jupyter-widgets/controls",
      "_model_module_version": "1.5.0",
      "_model_name": "DescriptionStyleModel",
      "_view_count": null,
      "_view_module": "@jupyter-widgets/base",
      "_view_module_version": "1.2.0",
      "_view_name": "StyleView",
      "description_width": ""
     }
    },
    "70b1629225114b0da4f47025fb8dfbf0": {
     "model_module": "@jupyter-widgets/controls",
     "model_module_version": "1.5.0",
     "model_name": "HTMLModel",
     "state": {
      "_dom_classes": [],
      "_model_module": "@jupyter-widgets/controls",
      "_model_module_version": "1.5.0",
      "_model_name": "HTMLModel",
      "_view_count": null,
      "_view_module": "@jupyter-widgets/controls",
      "_view_module_version": "1.5.0",
      "_view_name": "HTMLView",
      "description": "",
      "description_tooltip": null,
      "layout": "IPY_MODEL_a8eb588f21a0452a8e50858bed66d1ce",
      "placeholder": "​",
      "style": "IPY_MODEL_6e557a840fd748db8aa41e35b40a037b",
      "value": " 2.31M/2.31M [00:00&lt;00:00, 5.44MB/s]"
     }
    },
    "710aa9af4153440c83bae5eeb01cc246": {
     "model_module": "@jupyter-widgets/controls",
     "model_module_version": "1.5.0",
     "model_name": "FloatProgressModel",
     "state": {
      "_dom_classes": [],
      "_model_module": "@jupyter-widgets/controls",
      "_model_module_version": "1.5.0",
      "_model_name": "FloatProgressModel",
      "_view_count": null,
      "_view_module": "@jupyter-widgets/controls",
      "_view_module_version": "1.5.0",
      "_view_name": "ProgressView",
      "bar_style": "success",
      "description": "",
      "description_tooltip": null,
      "layout": "IPY_MODEL_acad6fd302684b25b985ac78302950ed",
      "max": 7473,
      "min": 0,
      "orientation": "horizontal",
      "style": "IPY_MODEL_9a8800a3dcb74b9494a31d61939c647f",
      "value": 7473
     }
    },
    "73e6d87c3eb244a88b9749c271cd0ee7": {
     "model_module": "@jupyter-widgets/controls",
     "model_module_version": "1.5.0",
     "model_name": "FloatProgressModel",
     "state": {
      "_dom_classes": [],
      "_model_module": "@jupyter-widgets/controls",
      "_model_module_version": "1.5.0",
      "_model_name": "FloatProgressModel",
      "_view_count": null,
      "_view_module": "@jupyter-widgets/controls",
      "_view_module_version": "1.5.0",
      "_view_name": "ProgressView",
      "bar_style": "success",
      "description": "",
      "description_tooltip": null,
      "layout": "IPY_MODEL_e82ddabd2e5e4b6abd3dd6beabc0d561",
      "max": 419088,
      "min": 0,
      "orientation": "horizontal",
      "style": "IPY_MODEL_8385a38be3764ff5a5fe738b74205cc0",
      "value": 419088
     }
    },
    "809ccc771d144032a2ff75cfab62c04c": {
     "model_module": "@jupyter-widgets/controls",
     "model_module_version": "1.5.0",
     "model_name": "FloatProgressModel",
     "state": {
      "_dom_classes": [],
      "_model_module": "@jupyter-widgets/controls",
      "_model_module_version": "1.5.0",
      "_model_name": "FloatProgressModel",
      "_view_count": null,
      "_view_module": "@jupyter-widgets/controls",
      "_view_module_version": "1.5.0",
      "_view_name": "ProgressView",
      "bar_style": "success",
      "description": "",
      "description_tooltip": null,
      "layout": "IPY_MODEL_b7d66ccb052e4de5909096abaa24d450",
      "max": 2306545,
      "min": 0,
      "orientation": "horizontal",
      "style": "IPY_MODEL_2a9be4b0de17409ca8c1ffbe6c7ff817",
      "value": 2306545
     }
    },
    "8385a38be3764ff5a5fe738b74205cc0": {
     "model_module": "@jupyter-widgets/controls",
     "model_module_version": "1.5.0",
     "model_name": "ProgressStyleModel",
     "state": {
      "_model_module": "@jupyter-widgets/controls",
      "_model_module_version": "1.5.0",
      "_model_name": "ProgressStyleModel",
      "_view_count": null,
      "_view_module": "@jupyter-widgets/base",
      "_view_module_version": "1.2.0",
      "_view_name": "StyleView",
      "bar_color": null,
      "description_width": ""
     }
    },
    "912910de2b1e44b7b2101336bfc40448": {
     "model_module": "@jupyter-widgets/base",
     "model_module_version": "1.2.0",
     "model_name": "LayoutModel",
     "state": {
      "_model_module": "@jupyter-widgets/base",
      "_model_module_version": "1.2.0",
      "_model_name": "LayoutModel",
      "_view_count": null,
      "_view_module": "@jupyter-widgets/base",
      "_view_module_version": "1.2.0",
      "_view_name": "LayoutView",
      "align_content": null,
      "align_items": null,
      "align_self": null,
      "border": null,
      "bottom": null,
      "display": null,
      "flex": null,
      "flex_flow": null,
      "grid_area": null,
      "grid_auto_columns": null,
      "grid_auto_flow": null,
      "grid_auto_rows": null,
      "grid_column": null,
      "grid_gap": null,
      "grid_row": null,
      "grid_template_areas": null,
      "grid_template_columns": null,
      "grid_template_rows": null,
      "height": null,
      "justify_content": null,
      "justify_items": null,
      "left": null,
      "margin": null,
      "max_height": null,
      "max_width": null,
      "min_height": null,
      "min_width": null,
      "object_fit": null,
      "object_position": null,
      "order": null,
      "overflow": null,
      "overflow_x": null,
      "overflow_y": null,
      "padding": null,
      "right": null,
      "top": null,
      "visibility": null,
      "width": null
     }
    },
    "97b8c2987a5b4722a85a88cf4ac5e09e": {
     "model_module": "@jupyter-widgets/base",
     "model_module_version": "1.2.0",
     "model_name": "LayoutModel",
     "state": {
      "_model_module": "@jupyter-widgets/base",
      "_model_module_version": "1.2.0",
      "_model_name": "LayoutModel",
      "_view_count": null,
      "_view_module": "@jupyter-widgets/base",
      "_view_module_version": "1.2.0",
      "_view_name": "LayoutView",
      "align_content": null,
      "align_items": null,
      "align_self": null,
      "border": null,
      "bottom": null,
      "display": null,
      "flex": null,
      "flex_flow": null,
      "grid_area": null,
      "grid_auto_columns": null,
      "grid_auto_flow": null,
      "grid_auto_rows": null,
      "grid_column": null,
      "grid_gap": null,
      "grid_row": null,
      "grid_template_areas": null,
      "grid_template_columns": null,
      "grid_template_rows": null,
      "height": null,
      "justify_content": null,
      "justify_items": null,
      "left": null,
      "margin": null,
      "max_height": null,
      "max_width": null,
      "min_height": null,
      "min_width": null,
      "object_fit": null,
      "object_position": null,
      "order": null,
      "overflow": null,
      "overflow_x": null,
      "overflow_y": null,
      "padding": null,
      "right": null,
      "top": null,
      "visibility": null,
      "width": null
     }
    },
    "9a8800a3dcb74b9494a31d61939c647f": {
     "model_module": "@jupyter-widgets/controls",
     "model_module_version": "1.5.0",
     "model_name": "ProgressStyleModel",
     "state": {
      "_model_module": "@jupyter-widgets/controls",
      "_model_module_version": "1.5.0",
      "_model_name": "ProgressStyleModel",
      "_view_count": null,
      "_view_module": "@jupyter-widgets/base",
      "_view_module_version": "1.2.0",
      "_view_name": "StyleView",
      "bar_color": null,
      "description_width": ""
     }
    },
    "9be755e6bbc14fce8de7284bd5d07d80": {
     "model_module": "@jupyter-widgets/controls",
     "model_module_version": "1.5.0",
     "model_name": "DescriptionStyleModel",
     "state": {
      "_model_module": "@jupyter-widgets/controls",
      "_model_module_version": "1.5.0",
      "_model_name": "DescriptionStyleModel",
      "_view_count": null,
      "_view_module": "@jupyter-widgets/base",
      "_view_module_version": "1.2.0",
      "_view_name": "StyleView",
      "description_width": ""
     }
    },
    "a040f3ea32c34a7fbe34e0376e4fcd37": {
     "model_module": "@jupyter-widgets/controls",
     "model_module_version": "1.5.0",
     "model_name": "FloatProgressModel",
     "state": {
      "_dom_classes": [],
      "_model_module": "@jupyter-widgets/controls",
      "_model_module_version": "1.5.0",
      "_model_name": "FloatProgressModel",
      "_view_count": null,
      "_view_module": "@jupyter-widgets/controls",
      "_view_module_version": "1.5.0",
      "_view_name": "ProgressView",
      "bar_style": "success",
      "description": "",
      "description_tooltip": null,
      "layout": "IPY_MODEL_912910de2b1e44b7b2101336bfc40448",
      "max": 7940,
      "min": 0,
      "orientation": "horizontal",
      "style": "IPY_MODEL_03ddc0772c7149e8aaac52511890176f",
      "value": 7940
     }
    },
    "a0b41ab3250b4060abfab9db8a52b465": {
     "model_module": "@jupyter-widgets/controls",
     "model_module_version": "1.5.0",
     "model_name": "HTMLModel",
     "state": {
      "_dom_classes": [],
      "_model_module": "@jupyter-widgets/controls",
      "_model_module_version": "1.5.0",
      "_model_name": "HTMLModel",
      "_view_count": null,
      "_view_module": "@jupyter-widgets/controls",
      "_view_module_version": "1.5.0",
      "_view_name": "HTMLView",
      "description": "",
      "description_tooltip": null,
      "layout": "IPY_MODEL_e3d5d84fe53e4bdfaa8470c45c8326e9",
      "placeholder": "​",
      "style": "IPY_MODEL_5a644c64ff17466ba979a64c3ddf9d4c",
      "value": "Downloading data: 100%"
     }
    },
    "a39a0aa634374190b719c9086df0176e": {
     "model_module": "@jupyter-widgets/base",
     "model_module_version": "1.2.0",
     "model_name": "LayoutModel",
     "state": {
      "_model_module": "@jupyter-widgets/base",
      "_model_module_version": "1.2.0",
      "_model_name": "LayoutModel",
      "_view_count": null,
      "_view_module": "@jupyter-widgets/base",
      "_view_module_version": "1.2.0",
      "_view_name": "LayoutView",
      "align_content": null,
      "align_items": null,
      "align_self": null,
      "border": null,
      "bottom": null,
      "display": null,
      "flex": null,
      "flex_flow": null,
      "grid_area": null,
      "grid_auto_columns": null,
      "grid_auto_flow": null,
      "grid_auto_rows": null,
      "grid_column": null,
      "grid_gap": null,
      "grid_row": null,
      "grid_template_areas": null,
      "grid_template_columns": null,
      "grid_template_rows": null,
      "height": null,
      "justify_content": null,
      "justify_items": null,
      "left": null,
      "margin": null,
      "max_height": null,
      "max_width": null,
      "min_height": null,
      "min_width": null,
      "object_fit": null,
      "object_position": null,
      "order": null,
      "overflow": null,
      "overflow_x": null,
      "overflow_y": null,
      "padding": null,
      "right": null,
      "top": null,
      "visibility": null,
      "width": null
     }
    },
    "a8eb588f21a0452a8e50858bed66d1ce": {
     "model_module": "@jupyter-widgets/base",
     "model_module_version": "1.2.0",
     "model_name": "LayoutModel",
     "state": {
      "_model_module": "@jupyter-widgets/base",
      "_model_module_version": "1.2.0",
      "_model_name": "LayoutModel",
      "_view_count": null,
      "_view_module": "@jupyter-widgets/base",
      "_view_module_version": "1.2.0",
      "_view_name": "LayoutView",
      "align_content": null,
      "align_items": null,
      "align_self": null,
      "border": null,
      "bottom": null,
      "display": null,
      "flex": null,
      "flex_flow": null,
      "grid_area": null,
      "grid_auto_columns": null,
      "grid_auto_flow": null,
      "grid_auto_rows": null,
      "grid_column": null,
      "grid_gap": null,
      "grid_row": null,
      "grid_template_areas": null,
      "grid_template_columns": null,
      "grid_template_rows": null,
      "height": null,
      "justify_content": null,
      "justify_items": null,
      "left": null,
      "margin": null,
      "max_height": null,
      "max_width": null,
      "min_height": null,
      "min_width": null,
      "object_fit": null,
      "object_position": null,
      "order": null,
      "overflow": null,
      "overflow_x": null,
      "overflow_y": null,
      "padding": null,
      "right": null,
      "top": null,
      "visibility": null,
      "width": null
     }
    },
    "acad6fd302684b25b985ac78302950ed": {
     "model_module": "@jupyter-widgets/base",
     "model_module_version": "1.2.0",
     "model_name": "LayoutModel",
     "state": {
      "_model_module": "@jupyter-widgets/base",
      "_model_module_version": "1.2.0",
      "_model_name": "LayoutModel",
      "_view_count": null,
      "_view_module": "@jupyter-widgets/base",
      "_view_module_version": "1.2.0",
      "_view_name": "LayoutView",
      "align_content": null,
      "align_items": null,
      "align_self": null,
      "border": null,
      "bottom": null,
      "display": null,
      "flex": null,
      "flex_flow": null,
      "grid_area": null,
      "grid_auto_columns": null,
      "grid_auto_flow": null,
      "grid_auto_rows": null,
      "grid_column": null,
      "grid_gap": null,
      "grid_row": null,
      "grid_template_areas": null,
      "grid_template_columns": null,
      "grid_template_rows": null,
      "height": null,
      "justify_content": null,
      "justify_items": null,
      "left": null,
      "margin": null,
      "max_height": null,
      "max_width": null,
      "min_height": null,
      "min_width": null,
      "object_fit": null,
      "object_position": null,
      "order": null,
      "overflow": null,
      "overflow_x": null,
      "overflow_y": null,
      "padding": null,
      "right": null,
      "top": null,
      "visibility": null,
      "width": null
     }
    },
    "b7d66ccb052e4de5909096abaa24d450": {
     "model_module": "@jupyter-widgets/base",
     "model_module_version": "1.2.0",
     "model_name": "LayoutModel",
     "state": {
      "_model_module": "@jupyter-widgets/base",
      "_model_module_version": "1.2.0",
      "_model_name": "LayoutModel",
      "_view_count": null,
      "_view_module": "@jupyter-widgets/base",
      "_view_module_version": "1.2.0",
      "_view_name": "LayoutView",
      "align_content": null,
      "align_items": null,
      "align_self": null,
      "border": null,
      "bottom": null,
      "display": null,
      "flex": null,
      "flex_flow": null,
      "grid_area": null,
      "grid_auto_columns": null,
      "grid_auto_flow": null,
      "grid_auto_rows": null,
      "grid_column": null,
      "grid_gap": null,
      "grid_row": null,
      "grid_template_areas": null,
      "grid_template_columns": null,
      "grid_template_rows": null,
      "height": null,
      "justify_content": null,
      "justify_items": null,
      "left": null,
      "margin": null,
      "max_height": null,
      "max_width": null,
      "min_height": null,
      "min_width": null,
      "object_fit": null,
      "object_position": null,
      "order": null,
      "overflow": null,
      "overflow_x": null,
      "overflow_y": null,
      "padding": null,
      "right": null,
      "top": null,
      "visibility": null,
      "width": null
     }
    },
    "b987b1163a7244dd9f6417c1ef5aed49": {
     "model_module": "@jupyter-widgets/controls",
     "model_module_version": "1.5.0",
     "model_name": "DescriptionStyleModel",
     "state": {
      "_model_module": "@jupyter-widgets/controls",
      "_model_module_version": "1.5.0",
      "_model_name": "DescriptionStyleModel",
      "_view_count": null,
      "_view_module": "@jupyter-widgets/base",
      "_view_module_version": "1.2.0",
      "_view_name": "StyleView",
      "description_width": ""
     }
    },
    "ba5dda77dbb4402abfb0be30b07f772b": {
     "model_module": "@jupyter-widgets/base",
     "model_module_version": "1.2.0",
     "model_name": "LayoutModel",
     "state": {
      "_model_module": "@jupyter-widgets/base",
      "_model_module_version": "1.2.0",
      "_model_name": "LayoutModel",
      "_view_count": null,
      "_view_module": "@jupyter-widgets/base",
      "_view_module_version": "1.2.0",
      "_view_name": "LayoutView",
      "align_content": null,
      "align_items": null,
      "align_self": null,
      "border": null,
      "bottom": null,
      "display": null,
      "flex": null,
      "flex_flow": null,
      "grid_area": null,
      "grid_auto_columns": null,
      "grid_auto_flow": null,
      "grid_auto_rows": null,
      "grid_column": null,
      "grid_gap": null,
      "grid_row": null,
      "grid_template_areas": null,
      "grid_template_columns": null,
      "grid_template_rows": null,
      "height": null,
      "justify_content": null,
      "justify_items": null,
      "left": null,
      "margin": null,
      "max_height": null,
      "max_width": null,
      "min_height": null,
      "min_width": null,
      "object_fit": null,
      "object_position": null,
      "order": null,
      "overflow": null,
      "overflow_x": null,
      "overflow_y": null,
      "padding": null,
      "right": null,
      "top": null,
      "visibility": null,
      "width": null
     }
    },
    "c3e491c736e8491586d4601c9def7590": {
     "model_module": "@jupyter-widgets/controls",
     "model_module_version": "1.5.0",
     "model_name": "DescriptionStyleModel",
     "state": {
      "_model_module": "@jupyter-widgets/controls",
      "_model_module_version": "1.5.0",
      "_model_name": "DescriptionStyleModel",
      "_view_count": null,
      "_view_module": "@jupyter-widgets/base",
      "_view_module_version": "1.2.0",
      "_view_name": "StyleView",
      "description_width": ""
     }
    },
    "cb950dccf5ee4285a67ee1be30b9b183": {
     "model_module": "@jupyter-widgets/controls",
     "model_module_version": "1.5.0",
     "model_name": "HTMLModel",
     "state": {
      "_dom_classes": [],
      "_model_module": "@jupyter-widgets/controls",
      "_model_module_version": "1.5.0",
      "_model_name": "HTMLModel",
      "_view_count": null,
      "_view_module": "@jupyter-widgets/controls",
      "_view_module_version": "1.5.0",
      "_view_name": "HTMLView",
      "description": "",
      "description_tooltip": null,
      "layout": "IPY_MODEL_227ef86b85064219a8252d706564fe75",
      "placeholder": "​",
      "style": "IPY_MODEL_1ecb664928e54ab396b38a97c3a8850c",
      "value": "Generating test split: 100%"
     }
    },
    "e227fe428c5e4bf28d8acf078cf174c9": {
     "model_module": "@jupyter-widgets/base",
     "model_module_version": "1.2.0",
     "model_name": "LayoutModel",
     "state": {
      "_model_module": "@jupyter-widgets/base",
      "_model_module_version": "1.2.0",
      "_model_name": "LayoutModel",
      "_view_count": null,
      "_view_module": "@jupyter-widgets/base",
      "_view_module_version": "1.2.0",
      "_view_name": "LayoutView",
      "align_content": null,
      "align_items": null,
      "align_self": null,
      "border": null,
      "bottom": null,
      "display": null,
      "flex": null,
      "flex_flow": null,
      "grid_area": null,
      "grid_auto_columns": null,
      "grid_auto_flow": null,
      "grid_auto_rows": null,
      "grid_column": null,
      "grid_gap": null,
      "grid_row": null,
      "grid_template_areas": null,
      "grid_template_columns": null,
      "grid_template_rows": null,
      "height": null,
      "justify_content": null,
      "justify_items": null,
      "left": null,
      "margin": null,
      "max_height": null,
      "max_width": null,
      "min_height": null,
      "min_width": null,
      "object_fit": null,
      "object_position": null,
      "order": null,
      "overflow": null,
      "overflow_x": null,
      "overflow_y": null,
      "padding": null,
      "right": null,
      "top": null,
      "visibility": null,
      "width": null
     }
    },
    "e3d5d84fe53e4bdfaa8470c45c8326e9": {
     "model_module": "@jupyter-widgets/base",
     "model_module_version": "1.2.0",
     "model_name": "LayoutModel",
     "state": {
      "_model_module": "@jupyter-widgets/base",
      "_model_module_version": "1.2.0",
      "_model_name": "LayoutModel",
      "_view_count": null,
      "_view_module": "@jupyter-widgets/base",
      "_view_module_version": "1.2.0",
      "_view_name": "LayoutView",
      "align_content": null,
      "align_items": null,
      "align_self": null,
      "border": null,
      "bottom": null,
      "display": null,
      "flex": null,
      "flex_flow": null,
      "grid_area": null,
      "grid_auto_columns": null,
      "grid_auto_flow": null,
      "grid_auto_rows": null,
      "grid_column": null,
      "grid_gap": null,
      "grid_row": null,
      "grid_template_areas": null,
      "grid_template_columns": null,
      "grid_template_rows": null,
      "height": null,
      "justify_content": null,
      "justify_items": null,
      "left": null,
      "margin": null,
      "max_height": null,
      "max_width": null,
      "min_height": null,
      "min_width": null,
      "object_fit": null,
      "object_position": null,
      "order": null,
      "overflow": null,
      "overflow_x": null,
      "overflow_y": null,
      "padding": null,
      "right": null,
      "top": null,
      "visibility": null,
      "width": null
     }
    },
    "e5567f43ce634ecfb927344689dacf4b": {
     "model_module": "@jupyter-widgets/base",
     "model_module_version": "1.2.0",
     "model_name": "LayoutModel",
     "state": {
      "_model_module": "@jupyter-widgets/base",
      "_model_module_version": "1.2.0",
      "_model_name": "LayoutModel",
      "_view_count": null,
      "_view_module": "@jupyter-widgets/base",
      "_view_module_version": "1.2.0",
      "_view_name": "LayoutView",
      "align_content": null,
      "align_items": null,
      "align_self": null,
      "border": null,
      "bottom": null,
      "display": null,
      "flex": null,
      "flex_flow": null,
      "grid_area": null,
      "grid_auto_columns": null,
      "grid_auto_flow": null,
      "grid_auto_rows": null,
      "grid_column": null,
      "grid_gap": null,
      "grid_row": null,
      "grid_template_areas": null,
      "grid_template_columns": null,
      "grid_template_rows": null,
      "height": null,
      "justify_content": null,
      "justify_items": null,
      "left": null,
      "margin": null,
      "max_height": null,
      "max_width": null,
      "min_height": null,
      "min_width": null,
      "object_fit": null,
      "object_position": null,
      "order": null,
      "overflow": null,
      "overflow_x": null,
      "overflow_y": null,
      "padding": null,
      "right": null,
      "top": null,
      "visibility": null,
      "width": null
     }
    },
    "e82ddabd2e5e4b6abd3dd6beabc0d561": {
     "model_module": "@jupyter-widgets/base",
     "model_module_version": "1.2.0",
     "model_name": "LayoutModel",
     "state": {
      "_model_module": "@jupyter-widgets/base",
      "_model_module_version": "1.2.0",
      "_model_name": "LayoutModel",
      "_view_count": null,
      "_view_module": "@jupyter-widgets/base",
      "_view_module_version": "1.2.0",
      "_view_name": "LayoutView",
      "align_content": null,
      "align_items": null,
      "align_self": null,
      "border": null,
      "bottom": null,
      "display": null,
      "flex": null,
      "flex_flow": null,
      "grid_area": null,
      "grid_auto_columns": null,
      "grid_auto_flow": null,
      "grid_auto_rows": null,
      "grid_column": null,
      "grid_gap": null,
      "grid_row": null,
      "grid_template_areas": null,
      "grid_template_columns": null,
      "grid_template_rows": null,
      "height": null,
      "justify_content": null,
      "justify_items": null,
      "left": null,
      "margin": null,
      "max_height": null,
      "max_width": null,
      "min_height": null,
      "min_width": null,
      "object_fit": null,
      "object_position": null,
      "order": null,
      "overflow": null,
      "overflow_x": null,
      "overflow_y": null,
      "padding": null,
      "right": null,
      "top": null,
      "visibility": null,
      "width": null
     }
    },
    "ea4e37c3cc3c40e782166369fe2e3bbd": {
     "model_module": "@jupyter-widgets/controls",
     "model_module_version": "1.5.0",
     "model_name": "DescriptionStyleModel",
     "state": {
      "_model_module": "@jupyter-widgets/controls",
      "_model_module_version": "1.5.0",
      "_model_name": "DescriptionStyleModel",
      "_view_count": null,
      "_view_module": "@jupyter-widgets/base",
      "_view_module_version": "1.2.0",
      "_view_name": "StyleView",
      "description_width": ""
     }
    },
    "ef0e146b04174d3c951a725e187949ab": {
     "model_module": "@jupyter-widgets/controls",
     "model_module_version": "1.5.0",
     "model_name": "DescriptionStyleModel",
     "state": {
      "_model_module": "@jupyter-widgets/controls",
      "_model_module_version": "1.5.0",
      "_model_name": "DescriptionStyleModel",
      "_view_count": null,
      "_view_module": "@jupyter-widgets/base",
      "_view_module_version": "1.2.0",
      "_view_name": "StyleView",
      "description_width": ""
     }
    },
    "ef652887e2a546879612875fbafb5a77": {
     "model_module": "@jupyter-widgets/controls",
     "model_module_version": "1.5.0",
     "model_name": "HTMLModel",
     "state": {
      "_dom_classes": [],
      "_model_module": "@jupyter-widgets/controls",
      "_model_module_version": "1.5.0",
      "_model_name": "HTMLModel",
      "_view_count": null,
      "_view_module": "@jupyter-widgets/controls",
      "_view_module_version": "1.5.0",
      "_view_name": "HTMLView",
      "description": "",
      "description_tooltip": null,
      "layout": "IPY_MODEL_ba5dda77dbb4402abfb0be30b07f772b",
      "placeholder": "​",
      "style": "IPY_MODEL_4c6afac7b55a4d36ab7bde0fc6b824a9",
      "value": "Generating train split: 100%"
     }
    },
    "efe378f571de4562b3a6228499457af0": {
     "model_module": "@jupyter-widgets/base",
     "model_module_version": "1.2.0",
     "model_name": "LayoutModel",
     "state": {
      "_model_module": "@jupyter-widgets/base",
      "_model_module_version": "1.2.0",
      "_model_name": "LayoutModel",
      "_view_count": null,
      "_view_module": "@jupyter-widgets/base",
      "_view_module_version": "1.2.0",
      "_view_name": "LayoutView",
      "align_content": null,
      "align_items": null,
      "align_self": null,
      "border": null,
      "bottom": null,
      "display": null,
      "flex": null,
      "flex_flow": null,
      "grid_area": null,
      "grid_auto_columns": null,
      "grid_auto_flow": null,
      "grid_auto_rows": null,
      "grid_column": null,
      "grid_gap": null,
      "grid_row": null,
      "grid_template_areas": null,
      "grid_template_columns": null,
      "grid_template_rows": null,
      "height": null,
      "justify_content": null,
      "justify_items": null,
      "left": null,
      "margin": null,
      "max_height": null,
      "max_width": null,
      "min_height": null,
      "min_width": null,
      "object_fit": null,
      "object_position": null,
      "order": null,
      "overflow": null,
      "overflow_x": null,
      "overflow_y": null,
      "padding": null,
      "right": null,
      "top": null,
      "visibility": null,
      "width": null
     }
    },
    "f5405d4a7a574f00b047a944a8774145": {
     "model_module": "@jupyter-widgets/controls",
     "model_module_version": "1.5.0",
     "model_name": "HBoxModel",
     "state": {
      "_dom_classes": [],
      "_model_module": "@jupyter-widgets/controls",
      "_model_module_version": "1.5.0",
      "_model_name": "HBoxModel",
      "_view_count": null,
      "_view_module": "@jupyter-widgets/controls",
      "_view_module_version": "1.5.0",
      "_view_name": "HBoxView",
      "box_style": "",
      "children": [
       "IPY_MODEL_143c6da986f44f78a178306ce2ab08ec",
       "IPY_MODEL_a040f3ea32c34a7fbe34e0376e4fcd37",
       "IPY_MODEL_342b448f90084bb1a1b9f36714529f22"
      ],
      "layout": "IPY_MODEL_efe378f571de4562b3a6228499457af0"
     }
    }
   }
  }
 },
 "nbformat": 4,
 "nbformat_minor": 4
}
